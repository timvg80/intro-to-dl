{
 "cells": [
  {
   "cell_type": "markdown",
   "metadata": {
    "slideshow": {
     "slide_type": "slide"
    }
   },
   "source": [
    "# Going deeper with Tensorflow\n",
    "\n",
    "In this video, we're going to study the tools you'll use to build deep learning models. Namely, [Tensorflow](https://www.tensorflow.org/).\n",
    "\n",
    "If you're running this notebook outside the course environment, you'll need to install tensorflow:\n",
    "* `pip install tensorflow` should install cpu-only TF on Linux & Mac OS\n",
    "* If you want GPU support from offset, see [TF install page](https://www.tensorflow.org/install/)"
   ]
  },
  {
   "cell_type": "code",
   "execution_count": 1,
   "metadata": {},
   "outputs": [],
   "source": [
    "import sys\n",
    "sys.path.append(\"..\")\n",
    "import grading"
   ]
  },
  {
   "cell_type": "markdown",
   "metadata": {},
   "source": [
    "# Visualization"
   ]
  },
  {
   "cell_type": "markdown",
   "metadata": {},
   "source": [
    "Plase note that if you are running on the Coursera platform, you won't be able to access the tensorboard instance due to the network setup there. If you run the notebook locally, you should be able to access TensorBoard on http://127.0.0.1:7007/"
   ]
  },
  {
   "cell_type": "code",
   "execution_count": 2,
   "metadata": {},
   "outputs": [],
   "source": [
    "! pkill tensorboard\n",
    "import os\n",
    "os.system(\"tensorboard --logdir=/tmp/tboard --port=7007 &\");"
   ]
  },
  {
   "cell_type": "code",
   "execution_count": 3,
   "metadata": {},
   "outputs": [],
   "source": [
    "import tensorflow as tf\n",
    "s = tf.InteractiveSession()"
   ]
  },
  {
   "cell_type": "markdown",
   "metadata": {},
   "source": [
    "# Warming up\n",
    "For starters, let's implement a python function that computes the sum of squares of numbers from 0 to N-1."
   ]
  },
  {
   "cell_type": "code",
   "execution_count": 4,
   "metadata": {},
   "outputs": [],
   "source": [
    "import numpy as np\n",
    "def sum_sin(N):\n",
    "    return np.sum(np.arange(N)**2)"
   ]
  },
  {
   "cell_type": "code",
   "execution_count": 5,
   "metadata": {},
   "outputs": [
    {
     "name": "stdout",
     "output_type": "stream",
     "text": [
      "CPU times: user 180 ms, sys: 490 ms, total: 670 ms\n",
      "Wall time: 706 ms\n"
     ]
    },
    {
     "data": {
      "text/plain": [
       "662921401752298880"
      ]
     },
     "execution_count": 5,
     "metadata": {},
     "output_type": "execute_result"
    }
   ],
   "source": [
    "%%time\n",
    "sum_sin(10**8)"
   ]
  },
  {
   "cell_type": "markdown",
   "metadata": {},
   "source": [
    "# Tensoflow teaser\n",
    "\n",
    "Doing the very same thing"
   ]
  },
  {
   "cell_type": "code",
   "execution_count": 6,
   "metadata": {},
   "outputs": [],
   "source": [
    "# An integer parameter\n",
    "N = tf.placeholder('int64', name=\"input_to_your_function\")\n",
    "\n",
    "# A recipe on how to produce the same result\n",
    "result = tf.reduce_sum(tf.range(N)**2)"
   ]
  },
  {
   "cell_type": "code",
   "execution_count": 7,
   "metadata": {},
   "outputs": [
    {
     "data": {
      "text/plain": [
       "<tf.Tensor 'Sum:0' shape=() dtype=int64>"
      ]
     },
     "execution_count": 7,
     "metadata": {},
     "output_type": "execute_result"
    }
   ],
   "source": [
    "result"
   ]
  },
  {
   "cell_type": "code",
   "execution_count": 8,
   "metadata": {},
   "outputs": [
    {
     "name": "stdout",
     "output_type": "stream",
     "text": [
      "CPU times: user 380 ms, sys: 240 ms, total: 620 ms\n",
      "Wall time: 510 ms\n"
     ]
    },
    {
     "data": {
      "text/plain": [
       "662921401752298880"
      ]
     },
     "execution_count": 8,
     "metadata": {},
     "output_type": "execute_result"
    }
   ],
   "source": [
    "%%time\n",
    "result.eval({N: 10**8})"
   ]
  },
  {
   "cell_type": "code",
   "execution_count": 9,
   "metadata": {},
   "outputs": [],
   "source": [
    "writer = tf.summary.FileWriter(\"/tmp/tboard\", graph=s.graph)"
   ]
  },
  {
   "cell_type": "markdown",
   "metadata": {},
   "source": [
    "# How does it work?\n",
    "1. Define placeholders where you'll send inputs\n",
    "2. Make symbolic graph: a recipe for mathematical transformation of those placeholders\n",
    "3. Compute outputs of your graph with particular values for each placeholder\n",
    "  * `output.eval({placeholder:value})`\n",
    "  * `s.run(output, {placeholder:value})`\n",
    "\n",
    "So far there are two main entities: \"placeholder\" and \"transformation\"\n",
    "* Both can be numbers, vectors, matrices, tensors, etc.\n",
    "* Both can be int32/64, floats, booleans (uint8) of various size.\n",
    "\n",
    "* You can define new transformations as an arbitrary operation on placeholders and other transformations\n",
    " * `tf.reduce_sum(tf.arange(N)**2)` are 3 sequential transformations of placeholder `N`\n",
    " * There's a tensorflow symbolic version for every numpy function\n",
    "   * `a+b, a/b, a**b, ...` behave just like in numpy\n",
    "   * `np.mean` -> `tf.reduce_mean`\n",
    "   * `np.arange` -> `tf.range`\n",
    "   * `np.cumsum` -> `tf.cumsum`\n",
    "   * If if you can't find the op you need, see the [docs](https://www.tensorflow.org/api_docs/python).\n",
    "   \n",
    "`tf.contrib` has many high-level features, may be worth a look."
   ]
  },
  {
   "cell_type": "code",
   "execution_count": 10,
   "metadata": {},
   "outputs": [],
   "source": [
    "with tf.name_scope(\"Placeholders_examples\"):\n",
    "    # Default placeholder that can be arbitrary float32\n",
    "    # scalar, vertor, matrix, etc.\n",
    "    arbitrary_input = tf.placeholder('float32')\n",
    "\n",
    "    # Input vector of arbitrary length\n",
    "    input_vector = tf.placeholder('float32', shape=(None,))\n",
    "\n",
    "    # Input vector that _must_ have 10 elements and integer type\n",
    "    fixed_vector = tf.placeholder('int32', shape=(10,))\n",
    "\n",
    "    # Matrix of arbitrary n_rows and 15 columns\n",
    "    # (e.g. a minibatch your data table)\n",
    "    input_matrix = tf.placeholder('float32', shape=(None, 15))\n",
    "    \n",
    "    # You can generally use None whenever you don't need a specific shape\n",
    "    input1 = tf.placeholder('float64', shape=(None, 100, None))\n",
    "    input2 = tf.placeholder('int32', shape=(None, None, 3, 224, 224))\n",
    "\n",
    "    # elementwise multiplication\n",
    "    double_the_vector = input_vector*2\n",
    "\n",
    "    # elementwise cosine\n",
    "    elementwise_cosine = tf.cos(input_vector)\n",
    "\n",
    "    # difference between squared vector and vector itself plus one\n",
    "    vector_squares = input_vector**2 - input_vector + 1"
   ]
  },
  {
   "cell_type": "code",
   "execution_count": 11,
   "metadata": {},
   "outputs": [],
   "source": [
    "my_vector =  tf.placeholder('float32', shape=(None,), name=\"VECTOR_1\")\n",
    "my_vector2 = tf.placeholder('float32', shape=(None,))\n",
    "my_transformation = my_vector * my_vector2 / (tf.sin(my_vector) + 1)"
   ]
  },
  {
   "cell_type": "code",
   "execution_count": 12,
   "metadata": {},
   "outputs": [
    {
     "name": "stdout",
     "output_type": "stream",
     "text": [
      "Tensor(\"truediv:0\", shape=(?,), dtype=float32)\n"
     ]
    }
   ],
   "source": [
    "print(my_transformation)"
   ]
  },
  {
   "cell_type": "code",
   "execution_count": 13,
   "metadata": {},
   "outputs": [
    {
     "name": "stdout",
     "output_type": "stream",
     "text": [
      "[ 0.  1.  2.  3.  4.]\n"
     ]
    },
    {
     "data": {
      "text/plain": [
       "array([ 0.        ,  1.62913239,  2.09501147,  2.62899613,  0.        ], dtype=float32)"
      ]
     },
     "execution_count": 13,
     "metadata": {},
     "output_type": "execute_result"
    }
   ],
   "source": [
    "dummy = np.arange(5).astype('float32')\n",
    "print(dummy)\n",
    "my_transformation.eval({my_vector:dummy, my_vector2:dummy[::-1]})"
   ]
  },
  {
   "cell_type": "code",
   "execution_count": 14,
   "metadata": {},
   "outputs": [],
   "source": [
    "writer.add_graph(my_transformation.graph)\n",
    "writer.flush()"
   ]
  },
  {
   "cell_type": "markdown",
   "metadata": {},
   "source": [
    "TensorBoard allows writing scalars, images, audio, histogram. You can read more on tensorboard usage [here](https://www.tensorflow.org/get_started/graph_viz)."
   ]
  },
  {
   "cell_type": "markdown",
   "metadata": {},
   "source": [
    "# Summary\n",
    "* Tensorflow is based on computation graphs\n",
    "* The graphs consist of placehlders and transformations"
   ]
  },
  {
   "cell_type": "markdown",
   "metadata": {},
   "source": [
    "# Mean squared error\n",
    "\n",
    "Your assignment is to implement mean squared error in tensorflow."
   ]
  },
  {
   "cell_type": "code",
   "execution_count": 15,
   "metadata": {},
   "outputs": [],
   "source": [
    "with tf.name_scope(\"MSE\"):\n",
    "    y_true = tf.placeholder(\"float32\", shape=(None,), name=\"y_true\")\n",
    "    y_predicted = tf.placeholder(\"float32\", shape=(None,), name=\"y_predicted\")\n",
    "    # Your code goes here\n",
    "    # You want to use tf.reduce_mean\n",
    "    # mse = tf.<...>\n",
    "    mse = tf.reduce_mean((y_true - y_predicted)**2)\n",
    "    \n",
    "def compute_mse(vector1, vector2):\n",
    "    return mse.eval({y_true: vector1, y_predicted: vector2})"
   ]
  },
  {
   "cell_type": "code",
   "execution_count": 16,
   "metadata": {},
   "outputs": [],
   "source": [
    "writer.add_graph(mse.graph)\n",
    "writer.flush()"
   ]
  },
  {
   "cell_type": "markdown",
   "metadata": {},
   "source": [
    "Tests and result submission. Please use the credentials obtained from the Coursera assignment page."
   ]
  },
  {
   "cell_type": "code",
   "execution_count": 17,
   "metadata": {},
   "outputs": [],
   "source": [
    "import submit"
   ]
  },
  {
   "cell_type": "code",
   "execution_count": 18,
   "metadata": {},
   "outputs": [
    {
     "name": "stdout",
     "output_type": "stream",
     "text": [
      "You used a token for \"Logistic regression in TensorFlow\" in \"Introduction to Deep Learning\". Please use a token for the assignment you are submitting.\n"
     ]
    }
   ],
   "source": [
    "submit.submit_mse(compute_mse, 'tim.vivian.griffiths@gmail.com', 'o4mpMUN6hzCCDQDe')"
   ]
  },
  {
   "cell_type": "markdown",
   "metadata": {},
   "source": [
    "# Variables\n",
    "\n",
    "The inputs and transformations have no value outside function call. This isn't too comfortable if you want your model to have parameters (e.g. network weights) that are always present, but can change their value over time.\n",
    "\n",
    "Tensorflow solves this with `tf.Variable` objects.\n",
    "* You can assign variable a value at any time in your graph\n",
    "* Unlike placeholders, there's no need to explicitly pass values to variables when `s.run(...)`-ing\n",
    "* You can use variables the same way you use transformations \n",
    " "
   ]
  },
  {
   "cell_type": "code",
   "execution_count": 19,
   "metadata": {},
   "outputs": [],
   "source": [
    "# Creating a shared variable\n",
    "shared_vector_1 = tf.Variable(initial_value=np.ones(5),\n",
    "                              name=\"example_variable\")"
   ]
  },
  {
   "cell_type": "code",
   "execution_count": 20,
   "metadata": {},
   "outputs": [
    {
     "name": "stdout",
     "output_type": "stream",
     "text": [
      "Initial value [ 1.  1.  1.  1.  1.]\n"
     ]
    }
   ],
   "source": [
    "# Initialize variable(s) with initial values\n",
    "s.run(tf.global_variables_initializer())\n",
    "\n",
    "# Evaluating shared variable (outside symbolicd graph)\n",
    "print(\"Initial value\", s.run(shared_vector_1))\n",
    "\n",
    "# Within symbolic graph you use them just\n",
    "# as any other inout or transformation, not \"get value\" needed"
   ]
  },
  {
   "cell_type": "code",
   "execution_count": 21,
   "metadata": {},
   "outputs": [
    {
     "name": "stdout",
     "output_type": "stream",
     "text": [
      "New value [ 0.  1.  2.  3.  4.]\n"
     ]
    }
   ],
   "source": [
    "# Setting a new value\n",
    "s.run(shared_vector_1.assign(np.arange(5)))\n",
    "\n",
    "# Getting that new value\n",
    "print(\"New value\", s.run(shared_vector_1))"
   ]
  },
  {
   "cell_type": "markdown",
   "metadata": {},
   "source": [
    "# tf.gradients - why graphs matter\n",
    "* Tensorflow can compute derivatives and gradients automatically using the computation graph\n",
    "* True to its name it can manage matrix derivatives\n",
    "* Gradients are computed as a product of elementary derivatives via the chain rule:\n",
    "\n",
    "$$ {\\partial f(g(x)) \\over \\partial x} = {\\partial f(g(x)) \\over \\partial g(x)}\\cdot {\\partial g(x) \\over \\partial x} $$\n",
    "\n",
    "It can get you the derivative of any graph as long as it knows how to differentiate elementary operations"
   ]
  },
  {
   "cell_type": "code",
   "execution_count": 22,
   "metadata": {},
   "outputs": [],
   "source": [
    "my_scalar = tf.placeholder('float32')\n",
    "\n",
    "scalar_squared = my_scalar**2\n",
    "\n",
    "# A derivative of scalar_squared by my_scalar\n",
    "derivative = tf.gradients(scalar_squared, [my_scalar, ])"
   ]
  },
  {
   "cell_type": "code",
   "execution_count": 23,
   "metadata": {},
   "outputs": [
    {
     "data": {
      "text/plain": [
       "[<tf.Tensor 'gradients/pow_1_grad/Reshape:0' shape=<unknown> dtype=float32>]"
      ]
     },
     "execution_count": 23,
     "metadata": {},
     "output_type": "execute_result"
    }
   ],
   "source": [
    "derivative"
   ]
  },
  {
   "cell_type": "code",
   "execution_count": 24,
   "metadata": {},
   "outputs": [
    {
     "data": {
      "image/png": "[encoded data removed]",
      "text/plain": [
       "<matplotlib.figure.Figure at 0x7ff5b534dd68>"
      ]
     },
     "metadata": {},
     "output_type": "display_data"
    }
   ],
   "source": [
    "import matplotlib.pyplot as plt\n",
    "%matplotlib inline\n",
    "\n",
    "x = np.linspace(-3, 3)\n",
    "x_squared, x_squared_der = s.run([scalar_squared, derivative[0]],\n",
    "                                 {my_scalar:x})\n",
    "\n",
    "plt.plot(x, x_squared,label=\"$x^2$\")\n",
    "plt.plot(x, x_squared_der, label=r\"$\\frac{dx^2}{dx}$\")\n",
    "plt.legend();"
   ]
  },
  {
   "cell_type": "markdown",
   "metadata": {},
   "source": [
    "# Why that rocks"
   ]
  },
  {
   "cell_type": "code",
   "execution_count": 25,
   "metadata": {},
   "outputs": [],
   "source": [
    "my_vector = tf.placeholder('float32', [None])\n",
    "# Compute the gradient of the next weird function over my_scalar and my_vector\n",
    "# Warning! Trying to understand the meaning of that function may result in permanent brain damage\n",
    "weird_psychotic_function = tf.reduce_mean(\n",
    "    (my_vector+my_scalar)**(1+tf.nn.moments(my_vector,[0])[1]) + \n",
    "    1./ tf.atan(my_scalar))/(my_scalar**2 + 1) + 0.01*tf.sin(\n",
    "    2*my_scalar**1.5)*(tf.reduce_sum(my_vector)* my_scalar**2\n",
    "                      )*tf.exp((my_scalar-4)**2)/(\n",
    "    1+tf.exp((my_scalar-4)**2))*(1.-(tf.exp(-(my_scalar-4)**2)\n",
    "                                    )/(1+tf.exp(-(my_scalar-4)**2)))**2\n",
    "\n",
    "der_by_scalar = tf.gradients(weird_psychotic_function, my_scalar)\n",
    "der_by_vector = tf.gradients(weird_psychotic_function, my_vector)"
   ]
  },
  {
   "cell_type": "code",
   "execution_count": 26,
   "metadata": {},
   "outputs": [
    {
     "data": {
      "image/png": "[encoded data removed]",
      "text/plain": [
       "<matplotlib.figure.Figure at 0x7ff5b3095518>"
      ]
     },
     "metadata": {},
     "output_type": "display_data"
    }
   ],
   "source": [
    "# Plotting the derivative\n",
    "scalar_space = np.linspace(1, 7, 100)\n",
    "\n",
    "y = [s.run(weird_psychotic_function, {my_scalar:x, my_vector:[1, 2, 3]})\n",
    "     for x in scalar_space]\n",
    "\n",
    "plt.plot(scalar_space, y, label='function')\n",
    "\n",
    "y_der_by_scalar = [s.run(der_by_scalar,\n",
    "                         {my_scalar:x, my_vector:[1, 2, 3]})\n",
    "                   for x in scalar_space]\n",
    "\n",
    "plt.plot(scalar_space, y_der_by_scalar, label='derivative')\n",
    "plt.grid()\n",
    "plt.legend();"
   ]
  },
  {
   "cell_type": "markdown",
   "metadata": {},
   "source": [
    "# Almost done - optimizers\n",
    "\n",
    "While you can perform gradient descent by hand with automatic grads from above, tensorflow also has some optimization methods implemented for you. Recall momentum & rmsprop?"
   ]
  },
  {
   "cell_type": "code",
   "execution_count": 27,
   "metadata": {},
   "outputs": [],
   "source": [
    "y_guess = tf.Variable(np.zeros(2, dtype='float32'))\n",
    "y_true = tf.range(1, 3, dtype='float32')\n",
    "loss = tf.reduce_mean((y_guess - y_true + tf.random_normal([2]))**2) \n",
    "#loss = tf.reduce_mean((y_guess - y_true)**2) \n",
    "optimizer = tf.train.MomentumOptimizer(0.01, 0.5).minimize(\n",
    "    loss, var_list=y_guess)"
   ]
  },
  {
   "cell_type": "code",
   "execution_count": 28,
   "metadata": {},
   "outputs": [
    {
     "data": {
      "image/png": "[encoded data removed]",
      "text/plain": [
       "<matplotlib.figure.Figure at 0x7ff5b2b47c18>"
      ]
     },
     "metadata": {},
     "output_type": "display_data"
    }
   ],
   "source": [
    "from matplotlib import animation, rc\n",
    "import matplotlib_utils\n",
    "from IPython.display import HTML, display_html\n",
    "\n",
    "fig, ax = plt.subplots()\n",
    "y_true_value = s.run(y_true)\n",
    "level_x = np.arange(0, 2, 0.02)\n",
    "level_y = np.arange(0, 3, 0.02)\n",
    "X, Y = np.meshgrid(level_x, level_y)\n",
    "Z = (X - y_true_value[0])**2 + (Y - y_true_value[1])**2\n",
    "ax.set_xlim(-0.02, 2)\n",
    "ax.set_ylim(-0.02, 3)\n",
    "s.run(tf.global_variables_initializer())\n",
    "ax.scatter(*s.run(y_true), c='red')\n",
    "contour = ax.contour(X, Y, Z, 10)\n",
    "ax.clabel(contour, inline=1, fontsize=10)\n",
    "line, = ax.plot([], [], lw=2)\n",
    "\n",
    "def init():\n",
    "    line.set_data([], [])\n",
    "    return (line,)\n",
    "\n",
    "guesses = [s.run(y_guess)]\n",
    "\n",
    "def animate(i):\n",
    "    s.run(optimizer)\n",
    "    guesses.append(s.run(y_guess))\n",
    "    line.set_data(*zip(*guesses))\n",
    "    return (line,)\n",
    "\n",
    "anim = animation.FuncAnimation(fig, animate, init_func=init,\n",
    "                               frames=400, interval=20, blit=True)"
   ]
  },
  {
   "cell_type": "code",
   "execution_count": 29,
   "metadata": {},
   "outputs": [
    {
     "data": {
      "text/html": [
       "<video width=\"432\" height=\"288\" controls autoplay loop>\n",
       "  <source type=\"video/mp4\" src=\"data:video/mp4;base64,AAAAHGZ0eXBNNFYgAAACAGlzb21pc28yYXZjMQAAAAhmcmVlAAC4C21kYXQAAAKuBgX//6rcRem9\n",
       "5tlIt5Ys2CDZI+7veDI2NCAtIGNvcmUgMTQ4IHIyNjQzIDVjNjU3MDQgLSBILjI2NC9NUEVHLTQg\n",
       "QVZDIGNvZGVjIC0gQ29weWxlZnQgMjAwMy0yMDE1IC0gaHR0cDovL3d3dy52aWRlb2xhbi5vcmcv\n",
       "eDI2NC5odG1sIC0gb3B0aW9uczogY2FiYWM9MSByZWY9MyBkZWJsb2NrPTE6MDowIGFuYWx5c2U9\n",
       "MHgzOjB4MTEzIG1lPWhleCBzdWJtZT03IHBzeT0xIHBzeV9yZD0xLjAwOjAuMDAgbWl4ZWRfcmVm\n",
       "PTEgbWVfcmFuZ2U9MTYgY2hyb21hX21lPTEgdHJlbGxpcz0xIDh4OGRjdD0xIGNxbT0wIGRlYWR6\n",
       "b25lPTIxLDExIGZhc3RfcHNraXA9MSBjaHJvbWFfcXBfb2Zmc2V0PS0yIHRocmVhZHM9MyBsb29r\n",
       "YWhlYWRfdGhyZWFkcz0xIHNsaWNlZF90aHJlYWRzPTAgbnI9MCBkZWNpbWF0ZT0xIGludGVybGFj\n",
       "ZWQ9MCBibHVyYXlfY29tcGF0PTAgY29uc3RyYWluZWRfaW50cmE9MCBiZnJhbWVzPTMgYl9weXJh\n",
       "bWlkPTIgYl9hZGFwdD0xIGJfYmlhcz0wIGRpcmVjdD0xIHdlaWdodGI9MSBvcGVuX2dvcD0wIHdl\n",
       "aWdodHA9MiBrZXlpbnQ9MjUwIGtleWludF9taW49MjUgc2NlbmVjdXQ9NDAgaW50cmFfcmVmcmVz\n",
       "aD0wIHJjX2xvb2thaGVhZD00MCByYz1jcmYgbWJ0cmVlPTEgY3JmPTIzLjAgcWNvbXA9MC42MCBx\n",
       "cG1pbj0wIHFwbWF4PTY5IHFwc3RlcD00IGlwX3JhdGlvPTEuNDAgYXE9MToxLjAwAIAAADIlZYiE\n",
       "AC///vau/MsrRwuVLh1Ze7NR8uhJcv2IMH1oAAADAADVayF8oYJVUBjg5Cl8UC950wnQObmxLpMS\n",
       "eTd2N1o7ZvU7nZLqidQWs9IRqH4qZFuUNOvgrgAArGB7WlESNB735J/CfrjEy3i5zjzWx5r7oD4b\n",
       "7vRGf5YZpSE2SfCltWRnqtLPBS3FxRjhpp/BEdar5txSfEu67R/ppgZwAi2i8ff512MwmU2ndVwZ\n",
       "0/IypwbXeLiexIGKwjGLSLtuFQ6Y/OKysfXRdbpNhUrKtfRj7DGM8WCX1Bh4c330WAw+R6EXVRFY\n",
       "lu5UH1qoQzyL4+ViaXbsk9e17GMhYcjYQ2ErNh8GLHqFB5yll7cH5+/ATt414OGqKJBfavN2H7Eo\n",
       "MYMyQUJm9f6njg6oT6RI9deVwCrdBzM/Sz/x8vLmA7OACvEgs7ec3QswOORd/etOu0E7t7VpiB00\n",
       "hKHHIDZREnqwvaNj69QpwDqX0pss1cRClh94zlgStU4c5yUCVO+HQbSt4HAXLJj2f9Btb1Gp56ii\n",
       "Oi96XZV1x4KhUxTYawQAUfjzsl0QevSEuVTVlSNIsvo+7QD/x5dqmV34q8Y/e22ByjofSHxpk/7U\n",
       "JlOIzg46ZfH1hLZgWW3R/niY7hJcJ7T94UsjfEkSh3TDgfcD17lLYnCY2sdzwQUX/M7yx8DlUAxf\n",
       "Bf5jCXE+1+wNMg1QAvfybm1SjIO2TPl8BU8XJsElm8w528BUCYhGy7qcnRnuSy6QxEV7zgbX58W4\n",
       "OX++3kHg9QTGgyx+9vVBAdT1fCClHX4ANSaqmTCW59ftwD0BujqkCCWkUJ2w9uAMrIdCjsnjVQgY\n",
       "usw2C1nI5upe6qRnHhMYO+//zOhJwy3GFabODqjJ8LP6JD9HicRvbp/KU0u7QNM3PDeCZGEppIp+\n",
       "d+A0U9LkqJcqlVU9QxjMxe4V5wWiAXVz7X2hUEkcgvbIBu6DDirLSkB6X62ytFi1xHsjrXMwRBoi\n",
       "23k/4WJeSt9ercxBpim+OztNcFsiesOQP5sSGoW5wkc38yjAPbcq7Tdzbk/IrDDaOdxl5A3HGLvo\n",
       "zZ1BGOReneHzeHg/afksZWL4VFYt54t3/Hf9K1pP0qpg033ec0POTLSV2EuXudGEW3w0++tbXV/W\n",
       "TzfL1OHthmmQR6IPVUHFMoqzp1QcXRtQTOdfyzhgBiRX5WVO85tv8+La/kmO0HsSZYHMklOP3co5\n",
       "QDWHzfJAv2xFzpb4zaWMSFkI64HEJiEbYjDtCz5R+5934JrTITw/HoIDDZMsJDKJDy7tEPbaSA9e\n",
       "Rs6mLK1h7v5ilXo8fU4zXpoO8DIuXkGCPnMytYPsejoVgG8/4hV+pdupgbZzrYj2YP/KOAfFDlCb\n",
       "c+Afko28P+APuNw+AREopUusHlOjBttYqMfZpF0lXHnSyZGaC4E/9t+DTsSLLdxT7j02EJ/DJYcg\n",
       "zlbYlWxHyR67M59DOduDXxQ1yVc6Uv0xHmi8cZyM2klmNgFAuAnAXoBpK89d0ninH4c+/x3zxCND\n",
       "gVwld+ZkhAQLOdusrHeV3kkduEsmNVMMG/Z4jzBVquh65pjovblc+tWCuZM25L8WnssoH8vTmfqk\n",
       "8z4vSza/UA18+dAwWnRG9TaD1J9lDGVsI+2H5s+SHVWANZOLLVmeWQLhlKcLusWsnTy4W6Qc1hK3\n",
       "lWy4lqZwoLwKwRWbX98yP5cBLAAAJoy3FrpsDsUYtE3TL3kuxuFVvIqfYjjoZ3q1MFTJsXRq06LK\n",
       "CGXjzDp6hB7mkW+cUnSDxxWGDOoq2FRt3I6jf4pVWCtbujN+OSzPO8fJfMPqmvW7za2IZNH4Ivtm\n",
       "sJzTRzypJjeyJ0gkQxOt04Wtpk9pR8wFijYSlPAPe/xLLPTGlzVe4z/sJ/ZxT0sXez2TFb2HS+PN\n",
       "5fGrWLRo7iTiPCfUPMNtVVeW8QLshluhtUxaeuzxL4KRaXWDzZPD3oCZy7l7PrHjbnsCu+QniSLg\n",
       "8rdR9xoYbwUQ5YwHF3/Nci+zL1HxGZ4L2fog8TyKfh5YrePpnYaER/liN4NOXHG3TyRUAHQPEB+O\n",
       "0fmDCiGW42CFp/SOdacVMu4hEherC3AgxrebXZ6lt57G1D6yYyf/mXSrjlMM6aD8AzMo7YaVi/1Q\n",
       "riXfAbGXkxyMj9BfJMwbTj+GynyOugQf/Ri8ucxRM1dfn2kFerYby85cHDMQ9lc0dfLgioxLGqWq\n",
       "oC8rjPsjgmTYbWjjaA5viU+h3WQwUXncbC4FRQhD0yz3P9NlsUrJdkV2Go1oMz4i+CEUEZ2ZkBJz\n",
       "FarjflXpG/8+IATcngfdDr5VkKobO7YcOa+0UnNb1BisIZLgIINH6bNOX/auSFixOuura7NqF0w4\n",
       "yktpy6EiUEE2UhLILpa9OhwPj297SHzPzpUJ7OzNirub9vTQ3R+DIb3veZhh2NJs7ng8D4fp3dwN\n",
       "kg2bGg65AmO+f0zYI1LjeuzwEPQ8nUEw/JgiwhUDfBlwhDpqvABLah888nCPqf9VMblkQvYaNqv1\n",
       "J1XnKb4fdkbYTG689HMbVdOd5qFgHz6mOXOzhLIMp+mrjkBhzIUqWY8MFa8tkNz8AGsvFdQ277DD\n",
       "BcBoaY0FfW6vZrHoyHvO+0rZxzfvl2VAH2OPcyxY1KAVkaiMyg9tUJhQCCyaeCAaYJRX0POhs1nB\n",
       "rxNMmd3vcuW9N0qbkdUhj7FxRU3zTdBE79H8IUjU6e8m8eIs0V4RCG4esc2vL/zynbBPEV9wOhO1\n",
       "uBCndBnQH4b6dhF+XZFlGjLyHbPuLPfLmBIBWCYq2eD7STVpE6PJPuCvAmbPC5m0lPNpZWo+XO+h\n",
       "+a9vrXVhUbtkbVatlRKdLRBvsnANQoy3YIERU7FTrr3HOGr5X/cxFJcG03ynZEGNtvBsxCPM2vVz\n",
       "9xydhy+xgUsM2+kb8B/t+KYu1BQXKB1ZwCnPND98Gi9c11J0/un/nSwEoU4Rbcvfq7L3zJIxZIg2\n",
       "0mgxgx1gHCPdIlIiBtvD4QUEWEHCG7ocN78Fs8mNp0LEinC8aEASBNw/mSOHLbwlkZbujn5bLpce\n",
       "KapAHON2Bx8YsqXBTXi84R/vZWum7aY2uUpP7TlWQKJclnQ7k1MVA5kVVK4Nj74cP7oYOzfw7uZG\n",
       "oiqDeFiu+47tFaAiVDfvaReIxl6EyGI8fkgsG8iqAP+AmdeKT6Grilk7qacYBf0OcfNuqhyyLwIv\n",
       "3q2LML6SHM7Ec532aC0ISAZ14YPV4zsva9vittTo/hQcxAYlYukhwZVusTE/MSNjUqhqMyRDrwX3\n",
       "IKO9K/ImCewamz0Abw3iaqNh36pRIcchViuFje65j50/0pv1tN3gzhv/LBizr3ZnzgKDOSeMqyqC\n",
       "DdzUnhg3pwYphty+qRZgxa1OlBAtusjFLkDDk++oIPQRjJ+f74dtesy6yvSuYs1wYIQXBBHxkbGk\n",
       "ZmRfiUDlOz6xPzU85VX66Ntpd6XX+Ce7Qe1kXS/x+9K2fwdvBPNoKR6KUzKUajM9UX8Xomu+F4ZX\n",
       "nSkncW5U9clHujca1lv4Boc1dM90s/8ReNgCCBayK25GZmLmtO1dlqltK52qd8dzuus4UASSZDJT\n",
       "2ZVYx19XxQEjQlQzMhCAqasSb4tvBsCbwIkGNwCQ7mtJpzu7VVn93Pr0s6YpQOHdV9bSxjzkQKry\n",
       "5+O6BTUi0kWs9Iq6sgACfQ6y6U4YrLKvLZlNIzcVchjStS6T9o+P825mB7swMY0DdjufxTHng9kA\n",
       "Z0qM57iUJoJkPtUwZhNdyky3ld38NMBvTw9/60vgGfUjig2+GyCIit//FAU8YsqvjXWi1GN/OJbV\n",
       "H/c1Ju2J6H2F3zANdpD1ehzoTpHRlBIfTx9kXF9+8uML96TxnPKIT5UFQ8um5Qp41RXiFywjLVfV\n",
       "dcUFIy8Ok1dlVAvG4M/mRRj1aeDc3VQd2Gf1u5A9O8c44wLr1+h3pQSL/w14trFZYT8w6KWRqt39\n",
       "bM0KwH2uODLMng3RUyTj8L4oIuo83xRT4wqRXrALBJjpZKFBBSvsVMUNNz459qwYJ9wamFP0CDK6\n",
       "l7NET9O6z03guxSfSyZQ2nLL3D6JHdqP1tMm+VjQK6MztY2dt/wRczmYSKeR9bXkUgHQqQZ1+Swp\n",
       "E6dgkYvV/QnhBSN0AOaW97XQBgl3rRLCKx1XnPrIcnFQKWboDatGNrUriZ+aE3NaH3yaNHLVkJUL\n",
       "mRNWRM34AaDkB+JBVUM7bGjmOHIqQZC9oUMW6R0/qBWpEzLHTV6awDwF+ms/Zk6kw52T2bRVumq6\n",
       "DAWjiSBdOem4+crtHSBAOHykWah4O/1qY3NVjTirvTxwmTJR8hT1bd2QqA9+Xy8TjOUIcgHlv1Us\n",
       "W4aL2MC8IdyKNdyUDMqlDNwEHTa1sg+0a7H2gh8D96veLzUWCB3MUTxwKl/+rBF2nJ847hOMa3GR\n",
       "66HN7NEwLsA4Drn3DWp2xeyOGChDOmI897pfBlDwr3Pe9/TclQiKEjpuGl1ATfTKxEe+s0yrYC7g\n",
       "WyWG0X+onMhqeJLmeHQp0iH9pMCMeK+STZH1nbHnsWL6bKSypOACDrTyX2Rl9TFFbZZ3kG5PSHsj\n",
       "TOXgphKwECOpWqbSZOvopq6ZHbORdmDeFfrIL/Nx3ZxG0XLEYUZ6pVQLEAvoBja5zIi5Oq0VupY9\n",
       "C6gNoyZHodJWS4s0KueLQo++74Pn3sJId7xhtcTc9qHyk0mEpj5SWMJL5eJJvpPiDcpuywgydwvI\n",
       "R/2nIvmOf+kC5rsGUDOqBCkd/QG2HwIMA1tKAuAUogj/42WWfVM92BaxfQ/jTraQ3NReeu8kIzzH\n",
       "iG/hm+iPPpLAHtGnBLcWBubseZ3QK0lHsbqlk+cVD+4FSd7VmcsGUfbNQhLf0Yj0H051FLSqgOD/\n",
       "dIVYQOFe397CA+lUZl97dhQnZyULuy02L4bA7yFGAZUX7HHObtcVi7UWwmmRUjuV8bTQ+O+2P/63\n",
       "mge7d8z25ItQdCbFR9NwZ8t/8440Sf2WU5Sqf/stfJOwc4kS3vo7cPUxPwHOQjb7S0dK6ToYLDVB\n",
       "aHSBXWuRSHLwy1AB9He/uk6RAwNdwrUeFlnfXQ5lB0BUSDFqwnYuTnO/4mXhoY3O8Kj+RD8SP9U4\n",
       "/tfOjYp2JnCevYVigDR1zUs7n3P/Ec72ANhBi6WQ9ZeEv4YSTOKIQoVAX6J7xND4AkCA7YRJ+0UW\n",
       "qzrvG9uZC6x62BDe12TG5zi4jPLtFdeYXg+bhSBLWUOy8pmanGNE+nTYCU6uR0pv+pdsu1zujIdO\n",
       "ifpkpoiTCw8Pbc/g0MNfFP5uJO2ES0G2EX8eogaZX7S8GGGImcFKZBNrvJJ6mqWlKo+njUpw9u9c\n",
       "Bu91+dZNcMW5N99Eq/NWNjDiD0qZmHF6lsrBfASk8ot5mBMcbtNgc91OuEPhPXFuSPLt2WxHXFj+\n",
       "ynf8GbEKjziCjyvQIqYO8fh8Gyk+e5otSZx9rcaHzPodIDljJTWsSXMOoioH9+ZdzEpcWI/nqY4t\n",
       "w+nmneh2bse1HlmZPYrKCrj0DGEJ4T4E8nXfSLJkjDX6YAS63y3juwOyP5eu/iQi8U+w82+r+4dN\n",
       "Grl5H+kxkHSykFHyX9Gq7MHXy9V8+ARmRcu1WVHdatZSa3Zu2fKPjf2GK+IEm/uWAd03rqWnYjep\n",
       "wm/kBMjfPUoRquXmBoY2fotsIu5Nrr5Lpg3WHU9pWW916PNydAyBxN5XDuCgHkcA20qDF2oOPcsT\n",
       "XOAf0UnlESAjhBcE9Wjlyk6hmg1mLfK2CYF4/4Lx0EVxCrlg+pMkTNl2SloZ0+8fUGtiYOaRJoow\n",
       "DknmfnxwjYlRE3wn9Fq5gyUT72LrfPmw0V0s1vGbLbO1XCWhoWgEoKrDxBbdUPr3/cCQY4qGFKcq\n",
       "hjfhM9DUxgKKn9q87/an1MGIGgZNH2F2JSaacr5c6JA9sl/a3fM0si4PszsHQC1Cxx8570twbPkx\n",
       "XIpklfDdVv6ZLOiKqDSWY9L0TFAezS8aFIwAa8jjfSHRUF8r7Q27zsKCuNuDamj7TCbkKk0TVAYU\n",
       "A/mMU8S3zcaJi3wOVzgJCCieQMLg8Hwm7341519Qwh4Zbu5DKEx5lnOTJk5rHo5cVcVNA+5+c1hF\n",
       "jj3L7gtJ0h6n4rlKFLjjckS/rEdb9ZWWx3XIubnol3zHuiCkaMzWz7aqRoLiTS8wtuSY/NB8yXY0\n",
       "WVasYe+/Vd7zq7lvJx0XdMOzMx6iBqFeDrnbvKcZsjTlqj6LbCOExbF8ehhdIdlH3TSdvZP6oawo\n",
       "qHa4kfAkR07NFmwd7R5zCtbNyv6WDDX17kTXk11/rKTXGgkoIbyp0bLsze9pz/asfKk4V4W34ORq\n",
       "8uXVojwHR8w6ptrZP6uXEnG3Ij/8+S/Uku2CZJ93o0fKrPzc3U5QN9AavIe4bwKeYtxVAgOSuUNT\n",
       "3rUpCG5DdQNPaZUpgWvSibKJFLUjqB/QbygxuUlFnd2FBCaOSYRg3t1c4W8l8U2adG27BZhd5DtS\n",
       "Ea/RPqqfPIJjdeBMkVMDa3hbHMy1ffZvaJPk8gD9frUmYGttHGCWPNE3bArMsB4/cZZds5W/jO7I\n",
       "b3Xz45MJU+RRaK/BfyXt1jQfV6ydw2K+dDjdiEX2yFQjTi8C8YVDiMyCO2x1nu9xYyXvwFZgatPM\n",
       "/D5Ap5AuVrzkU7MWMl5AzIxIl/VaTB57gBOB4hA4OfKNaNPAi/oE52CDC79x6OpoVdulFhOZ6AIn\n",
       "01jHhawVY0EoFMks9hgGbPPHvCrW/yATNFVBpxnBA/97w11Ixja9cXnjtxO6Ks8sgC4qb/+nvUjG\n",
       "vlc2jt0XBpt5Z4DiWkStt/wpDBkNoNRG/Fo0MUwMFRz3X8pzC2cXqY3Jrbwb9HBeJqOzez43w/df\n",
       "0jKmImSGP7AxkR/tCHfMqhoPJsKEapmCe2DfBpCnBLWz4xai4GSzUlX7xNGUicJoA9zeJcPjqOhN\n",
       "e3jBQ8B6YJb2eNMWVeyscFqVzwHtfm11JBxyjhj08mkjlrQLByrB121Q+drDYNzGzAGdiD+0Nr0U\n",
       "WCVYfdSliZbO2YIx83s9X756Cszl0qNRjl4yy6aZauXOmQyAYTi0fOAGPB7Iw3WuqYbFhB5uRKC3\n",
       "xTRmx9Lr95M2t+PCShucvpoo0D0qWxdmzT4IDgGrvc8n/yZlNRWqSZuZvOdD9nwJcQd+a8qBDaGb\n",
       "F7iZkBGTeHN7dvrPeRPFJ6mCTFFDpF66IvYlfMpNiG8sobgzocZmJs2coS0TgO+muCr5R3ECicGR\n",
       "4/tKYUCnbQBBuVbcb4moSrB12qzVKFC5R+RwcE0VJ/ie9Xls7/ahSEjxKWbJQAEBjxex58ZWJ1hj\n",
       "4yiI5yKzydh/Movy22ornmm1215ylcblYZpcWjHb9kP+LfZ6hLvL3978/XNDoxtXlctLaf601Wr8\n",
       "jbLoq+jFxFOw2AlfL4c2hPKON1PJsFMauo8cmtmsxEttnvUPmYMlZOV8PdGBvN6iRQYWyiz9+ioA\n",
       "ShTvSaBHBdQvJtICoRlbJQBRZpdgzw6ai5oJIqPrpbSj9bIKIDBScH1k03spR9KVtBeAKB3nZgiH\n",
       "x+q/LIGOuYKxHk2AycnbLUkjtcihuxYxyDRS6LGkrDoj9qvqB4u3K6iz/A+2pReDBGNefwg6IDnp\n",
       "WGkV5mzRZ7DY+79vDZMHlRxDCRCFAknzeh7dJooUucnpjJ48jALFDnjlUJIGkmV6URjQaEEaV6aE\n",
       "A7CN8B2x7DT1mGiEMrBE+nbT+zCF8093ZWkpHgDhH4YRbocMRiZcrW+KWiLc/ePSXzr54uyXdfzU\n",
       "X6DWoVDKkAYxJoYO/S/FMwRBTlTqm/voLLe1nLqSEOzw2jrwupgvKDR0/XAieQjD5PPVAnEk70Z3\n",
       "krN+JM7AvEx4MFhxJnxKOlBwxU7PxCLhZmG5DsTcIc8iGqQP5CmMjWp1qAvFbSK2BoKByjnRgYnw\n",
       "Rp+1Wg+hm5cgA+X3efAdJ+qPVuIdR7FyOJZncXECe++3QXmbwFpGNIEdQFzQq8BX6OJlq5lKV5Fp\n",
       "5WIz2NE3cxnQiKvL8mjzYpHJhMiFk+O7voNV90bC5pn2nc/OLJjLqZdFD8ot7lfc1fCgv3WQjhD5\n",
       "VkTxT/zHS+qsvUM0C7QUsZlt2H2aKsiHGro1PpH8W1P4hGHm8GzS6fjcD9MTUikLpYhaESoLBHsi\n",
       "ijW3IXRS9TxxcLPH7mNS92D57eNGkhdPrOEWMPdRU5EbqXMnmqEHrgZn3/w6jePgGrlbaPCGGcRU\n",
       "ROiEFA4e8mNaDEK4k5IoCQy1+qMPsTRc7zmQL27FESRuukjW2GYr4nMQvuz73nhSSt5oc13Y22KT\n",
       "mWUabWbgksrohj6bgGBIvpz1h/NT+vhajy4UdYR/wAITZsBiG+ucxBkRG8qZIX46Tjmvb2jFygnE\n",
       "RgPqAdGLyN/XfR0ZHshTXXZ+5jDDTrOwNKdcI1RAwSJz8VFNuQfm7RtVZvyd+0nzBHl+2iHMFUbh\n",
       "80E4Y7KPzxqDoZNwYyxR3vQfuMnXhP29I6c4iKp8djoERjqQOuWGrmX31PhOT+9uw/ORX45PV9tM\n",
       "sC5LtKTAVtFTIrrBrKtLEy6m4qpJJzQwAK4e6tqMnnsQ+zJBuyL+1dqjvhmeebWEn6eQ5luOKIv6\n",
       "KKMHa8WO3bv3VZPbt2iV2/z0ceuAn0md3ZgxTqXF48z3hAsinZMibm4AsJg4VEsPkMT2Rkjf8bZh\n",
       "0c3wJ8Xv5btRaS3fFWbz5XW5wTeti8sWdeU9ZlX/RMVy8o4z3qZTvTeSdHe3hLlN1o9aTRrI4x+o\n",
       "awl31nA01/IZaNZCvVtsjBpAzDwUj9KdwJ2WmV2TkJqY8jU7l8p+hy74pE2w4G+ZYE1Ikgzc5te3\n",
       "TOsKPgu8dqH76wYb0QDDDnBML4UrhbcaESuKT9HZ9rSwNAgr1E2Qv/i1960qO6T0+OWjx0U4Fp3r\n",
       "ZrfHXwuSyV/p6DR8OdLRjAUQUJbwJpAAqpaX8AOi7yW2jB8YAKG67zhJwypmWzm2ouB2BwdgcpQz\n",
       "DjFuUMe4GgmA2jWdMmiYHYdQugeuJVT42YWHI2u5iIFjx5sXp7X3YaoKpyzqdveWJwcS/jEc6930\n",
       "Cw7AiKwBRtiHNb5wdNIteBwpoBBnl2bzyOYgEB92LKwdRXW6fEdsLUHQnEgeXGnVnCwjFdkCEAll\n",
       "OMDdahQ4YiGZ2w8WZjh2ShUgn8YHxeAFAPu1y5DyJqamgmhsCRguTtZlVE8fNLO18W1sSy9uQh/n\n",
       "IIqr3zJyT2tVqytmJrImX1V7Dcd3RVzOYmnl/Wwdr/Qt8A5yrD5g9c++vMhwvevEAunw6a82Vrsa\n",
       "BadeFxGlWC1AB9E/fKrHvvxPnvUnIWwQZ9+xiEN0nvMe+SzF4875i2eaKpv4IZqBvCfoTQBUUMCt\n",
       "kMaRYlurFVLwEpAxP3ST9cNssB1ydpZljkmRCfKBrhqml8VT12glzfqdkvbIhMo37KhaRJVMdBa6\n",
       "D7WeOkJiARSLpF3lF8ctfFx4cxxsSyS9C9l6Qq8ihT7O/fnSrtiaxeM04RLaR55c7Z10nk6Bod35\n",
       "ijzBbh54+jqpzTi4XJQCN/mIYj4pCZp3n0nhGerBArp25bkYO5XcAb+HPy3pAVSuvnEf0R8GmPBe\n",
       "RHlGAx7MlvRPsiBC43TNXBye2Q5ReuFKJk59JN7haD9McW0ePYNC1rbXqRg5gW2k18zxA2mDeMB0\n",
       "CZDk9b1i/bWFwQVsecOiw6DeygxY3lZk7a+ibkZXkLUa0Mf3xDQb8fkLAI2NwwpoSE6APWyU2SCu\n",
       "bzFfIwhkilnAqrTgUUFs8zL06v6MZZ64w6AAyDCYiTsxPK+GwBy/YOhNuhRlMST8qZvAUnf9RN9j\n",
       "LuwmjNPcB3SeO2jrXFokbgUuzgty8OgFStkecamReVqjWWreTGejcHXG3AX9DXzPT0VbeyJU2vLg\n",
       "BWsyaJE0Li2HVLPf3ikoxrypCnZP6SflQLB7ct+78orH4s01A74gLTlzGHwHFUhd50vYuThyCAH3\n",
       "eQKHt1V3qk2Py3I8Xzyv18H2DWr7KeDxNo1R9mCBzijjBqp0oLGe+ntLIAlQrR6Tmjo4S/0p8BQT\n",
       "z7PeeSXapbp+agUX7cm2RCPOaNzICCbLHJUJZnjpkOmlEX1Y/OboHThhj8KIsg0Y2Pi0kQswb/0K\n",
       "az4Uc1u9DhSWhmWlcP8M63Exj2cD124VPgQ+Fla0tXw+KhWOq5v+3lI57cBhjDZcTK7lF8Dd/O7E\n",
       "dQheMByBHNFRHOlc9DNfahqXVXDtQSYulceklGZwVBWAcdSXQBgXPM7NLckapwtbPv6hH+RGWv3N\n",
       "90zyavksi6IJhvhUFbP9rXmNXgo2NmrKstVJ2mUpgsK8iSg313bvn2iChpLqBjv3ah4pWj8fGERN\n",
       "UfVuMTUpOd4/qnO2H/MJ0MbTEKqMfoS3TCZRICdC/G9zGDJY5w02A9WsiIgd281dYlLTgLkX4hgJ\n",
       "RMIVgqNWP5OVeU1QbMr9l0PSHoCCWu5BY78ScHc9g3NaLvcVpFLAAZjsb8VvFHDoTP2M7ozew010\n",
       "oeXsbqF0eV2jbz0qkMO8PLvVtTUVbcjAljdk54cIRxPhmDtRA2akqwU99V41Jg+rSFPohhCtgCjh\n",
       "kXUiaSYsumfivEnVverGaycMdSIT9w/WnB7orNvUKWBTEGhqnNoAhX2/6zamfzrDSqiPWHJCqOj/\n",
       "Nap0bMtSPJG3ieStl1uypLPeqEC6JMCQSwQrAvmie6IPWULA4EaH6h7ON80R9tk2z/0IIcfPydtJ\n",
       "ajh6gJS1InXCaFOmTNRhZPHyG40LTDinHrawFNEKohPj4L3mX+Oy8FIYPeQABEJ9CKqjNvKUFhUY\n",
       "fVVp9nNJMuAqusgdf83peClAFak1+dlSH3BMUsn2feH0R/7/MlDx0G6NGiiNyySTmNCO+/lQ9Zj3\n",
       "J3n7mltkCpmUyuC3XqBkQAiqzjCq2q1WzzIgX1ihJskbslZ+yhQCDfNaSAqxIWfHQTdVeGpH2sZr\n",
       "VtJffvuwX0Y4gPpvFhTqz6PNoPgpC40jsuetNK8BBjmPPNdjQZchPCRKe26b4jFQAIcva6UnV4/c\n",
       "0C7i6/9UZuni2+j89GBIreDJedF9C+2DB2+03kOyN5Lfm2iClyUzWYjYfXu+hMpVQNonGSezDVjH\n",
       "hKgo3mcPJY3+eUdqyDgSw2HQASx9I1v1apn3utVSjWWCRT+GqLdeS4QaYjs8QNMS59Mjyvi5MiHv\n",
       "U2sSJ5YABkeaM4W8VGYt4dC/IblcCgI9008MhG0h19O8+G7TSSLT9og2jfsKLpWy8+VTACvY6wYc\n",
       "TPqz0NQ/WWsy6OEhdGaTnlLC8RMuNi6Pb3agNYiIXGl/Eu5ZB2xubNm0uHzLIHOxGzUAN1kR0S+t\n",
       "R16xF+Qe8mtiaLqlJk5B+PYqcjgTrn/6RR9/20W4r8BS6gY8vcRr7fAUwB8c1SW+AaY336dq+yYU\n",
       "YLzzypNFBOKAtoB3xMERW1aQ0jemTuHo/M86U37ERudt+dAX10SbxHy23Ohdeb2dbGIjKdNEPfw6\n",
       "/tv13q9qhLxdcIo1sAmBqpwNCvr41sV1otLrynvCsbQ3WNe2scQcfTejRwnsO5snvSzFl0k/020l\n",
       "BdcA7C8d+rjUSy7U7GTiCl9gUmUgDLSgGexJs/wMTd1HGw0MqtNmdSuYsFfX/KgKsBXq4dZ+Ai+O\n",
       "tXDTpkX/KKFnJiAPjOsJHjWcEuuk+qtW67kqcP9f1eTRTArgp1JNdD51RVQzE8y86xVrxTcswYtO\n",
       "zYdO9vpXlJ6O9VN7ZtgGz6c1lxFvSRIwLe7+AMqqn+/KnfUkxQKaIAzUqdZ6HoKS81Hx1kHlQgMp\n",
       "18hHWcZXzfgVqVmxmT9xMc9W7XndC5H/iGYXj2gyor6DU9987vWCUMYRb6Pe7fzmt/FuZYkMJ0QE\n",
       "+OZ0DRW6hj5EABBp0xYB8MNnEkUiYDVbg7CCAwBryt5b7JvOtFUsHGO4HNBslN3YLLhy18Ve3QDw\n",
       "Ln3Xb0jkiBwPux4lp1bW9gHbesgAKzNVCXzfieqnTP92/WIxSCaZPexJ9KCUNctW3vV5fp7L/hzJ\n",
       "ImIfjScryFpFvmsAgr7m+t8PXftnbIV+YAWE4YXEP3TVnDn/0aIFYJ+BeIVYg2HGfittGKzUKFzf\n",
       "85nsaKEhFafI4av/4Vur+wODl9AdnOcRF6GLagbWJ2uYy6If01B1QGXmmX6DQA7KiGYfm1LtEUg4\n",
       "Mfo6AWeKbZMVZ7a8FaYmHD0l41YfFj9yQFveLy8vMyH2NObXPNWNhUBPmjUm1ILQpfF0Xo83cisG\n",
       "wRj5y2xotwW6JnHhXqCcasXvkecyfyoBsqoM42Do32iJNBF+E/bIXisDyZ98EkiQ2jIrEpb1u4jq\n",
       "gpKSUy8FfR46Jw/WVnu9XPgPTiVK61dQTLOjDpo5878mQJbsPSag/pB26TPM3wCVvtqA1oCMR6x9\n",
       "1al8lrKyVE41OgIUvL/EJ5YrDeG9A1sU27OKE06h8fuM+44URVr4MUgLBFg2El20iv2zW3XFeDrG\n",
       "ibAjX4UHQFvx8q0cxbwxBawxgy0ciqlIUJbYeKeAx8KQO1chyx+SDWBUJ8CgzMYdebP8h+GgUDMP\n",
       "5ytrQJ1CUs8GSBEAiyk+dKbI/mrc3U1Hxhs1rDCmeWsM7xbSG6M9/X4IlrZJLRB2wASKhg2uQK25\n",
       "RHZRQCSW/zFim/uJ4mAP8GkMr/yis9OAeiIC16W3YwCIg92i6NL67uLHb8ClRcUrLtOO+hvTVaTg\n",
       "XrZh30dKpDD6nuscwHqpEVnCADjPGhMXveFIxtKHar5BiUyOx+xy8PR2yP93qV1yLM0fLe/R0OMU\n",
       "B9xI8Y21cwmvI0zFu6wDaJ1/L/0Nm9AYasNNs8NC6QlI9WV9OadnHkwKMvglit/3C2z+br1HRgzg\n",
       "7MpA4N1nQJU38qQFbyz+F4bWxE0AIskusBSaCm1QTBSJYvr1uCw5gj/KDTsz4fZN6d2h5OzhMyYX\n",
       "nAsxd9Oqb/NVgjWHl+WnW4rxrcZReZ+Z6xfi1tcp3MA+ySBPVEvrTb6aWX2xp/Dj6t33eCerVulR\n",
       "AMU/Y0Ss1e/gUUTos9aBRHOuuvxR0HmeIybqRPBjqGGbPvekO4U35yeHF4Cf/i8pr/o9+GSDCwzP\n",
       "cp9dwN4MRJU2VCoT7vmNGuSDpm7DjML44t/acaJSwBNuNYyOeTwgM4n/vtO5UKDTEupKL8tDFnnT\n",
       "FUJpM6dkZmyNwLSrgVEwyRlxL1tX5ZBmDVAVq0oI+LStZva8FCcii5EdMTAQzwRjUHnGWRBfTWjJ\n",
       "Cwz9PqQSG9FFhGVKhOiM0BDQMQjg7fH4IbbWvcwNOnRjjZ4eT1YAOqPAJWECqfWcReOhQZGnlk7Y\n",
       "srHbkdD9YpxS3/PvaE+NxQkByeVqYJYcCNc3OzMUp4YD6r2nVG+wSfVPDc9WQtyXP1/QMRNVPIKf\n",
       "Emc7BMumfBBjUKBM3dlY9D+LHE/kF/rBCayPu8LDGv/RXJ/zCHMqtinqhihNbVNYpA2DONi0ASjL\n",
       "bv1s4ADinCfJn39AI87OJD3xOQN2ecBUTWTcO9b5PegUauDJTOsdlTQhh0VQbtp51Xvu0Y2Sqsxj\n",
       "lSp5zrrm2vgiTHRcK2v97UxQIGbJB88lfMd1NXQO6uns0a7Tg29Mq7CV5FLPHxXO8rDXvUv2ztFU\n",
       "W/OtC7ro5eDrqcGSEIpy79Ft/cLH78ChZA5yblrfDhdyn06oZF57OEjkbTWx3joYR+UL6FThA0Bs\n",
       "BnKF7Z1cbuvUuTnn5+a/cinTxzH4rxJc23BGIL+HJsLtEnEpLIuzRBP0A28iIChFxsBgasM+ZaQD\n",
       "3sPWccHNvppC4qv23yRTJYQnEThMWKPjgcQc2WbaIwVRSIGTxywWZukGg7LI30yAUPv9+mPZV63S\n",
       "l3+ovtAb5VJ+8un0+jkAoTYrpWsn6V8LF25fgdjbhsXKSJu1jMJlNpdhVC9KFpXahkIp2Fk2j+lR\n",
       "r4RRgSIzWXAetEOYX9eTisQ5zdC9vs0khnrlHw+kRTTJ0z35SV7cqj6DwTevAROjz0fvFTZRDMOu\n",
       "/GEkp6WApH+f4HQkOOMEp6w5COsVrvZsonwRq3DJeHpLN/To8MyI915//eXv2oUycUunX6RKsFlC\n",
       "BIuXuSk43WHKQSA/1AS29tWkjS3p2QUFiv4CgXadN5mmCqDBNaKdlIMNDqx+7l61jQzK243pCEBc\n",
       "KkEzrhbq6MGTDqzJZKNb3ampEOTXL/K+AxWnIW1U8/ffqfcD1oXnoD0REsnAKRud3Gp7O4p0EYQC\n",
       "BlqOIznniofnkA9UqqhsO9oX++W0EupEeomW0GTPMrH4RUQWSn6xNcBBpqVHvyB/MbQQDRf5gqUD\n",
       "qTjTW3fn/NQ1mq/hZ0oth3K7mjljUlt7jRq7YpJyWqz/TcJOvwQ8ZlHY7r8yM3gHSGIKFfqk9IjZ\n",
       "Is5gf324yR4VQBTC14qNRrNXDDg6Ce1/NNK/PN+DVUnQiWHM8AhSQgoi2NOqA5uO6EAZY0PDaWHi\n",
       "mpJ7WROUyj9oenABRAf0i4hdG+7RF26QKlihMSxV6Z+g6PaNs2PSpQcwcjnGPUs4xCfbXesuFDCJ\n",
       "zynz1jGFPqJ/PI2S2d3jCEXz2mlI+L1YZqzVY4ZgOjesjtD5gvI/8IaPl8wd770oxkeEKVhPzkME\n",
       "zER8O8hKMWNLCQGSzHRnGpsfsMvXPeffF1KNs9HwmEf7oBTKxzAtfoXbzU/OhYwmocHojhrDd3Q9\n",
       "En+VsGILLJKZDipnobZiw7KUBmPU+I2n/iAtQP3/26Dn0tr4NYiekCn3aABNKIULUJYH+buaTspv\n",
       "ofnP5jXb7sqKotB6xPMV4XZGsEDHaju1vQ85VOpMha9zDHIu7OATEk///pMYF0aoDRNnyT/wetn7\n",
       "XPHW3mCkhVXAWBYcvt/zhuSm0+KQFskMkC3zbgAnrXultCNKZDBLd3FD5CRyoUlOPMM7Wmn+NmGA\n",
       "57hbkjTN3B9JKiZZuOXA77Jor1+GxaS4XXxQ/xmkfIJkMUK4+FlEOwlxo10VygQKp9RxhQbsjN4V\n",
       "Zi30Fuehj1DmLrRt2855E8fn6e8zgjaVpyZHBPiuv6HPH4B92R3Ih8B1F1TzrJ0+8mlcv+4/BUZ2\n",
       "2zJUi8rgQDoynBdsyhCZFiZ+XqsLxCHEK9a/vZdgw7ayr9V7ku+5QCJ3lhR6aBZalC/5qH3sSQBO\n",
       "ft3FxA3KF20NJd9tLQ4dMFak+b2Z3WH6kLSrR5ynkiLYgCkmImfAiwoxpMeyTxf/5YkoYko87sm5\n",
       "bf/ENQYAqz531tbA43BeA+iWBQwKDhLzltDYXuaG/+Z8s/OhiiLq7kJRx796DQbJ5E2WjUJSiF4W\n",
       "Kbql/1J3ejBoJ2PBIc/N5TWNRHSbkeuJ7cq6FPuBGV04N0BOGFr869jmFChjfZfi30zZbqdZ7bnJ\n",
       "lKpTaKSQZ4hwv/DTCAC5rmJ+QFw+yWTHFoqGJluZyeAEpE7/FnvCKVY/qTjNkkJjWLyCaRUaaqf0\n",
       "uTwmFJUkSX3XlEOsjR4FgymhXP/StPblqer4StiwVFlfKENGB1x/nddSIP6l2pqZGw4V9ZcHagFd\n",
       "rwQRHXjvhsm/U5a8tDhYA87ypGlTJc+Q8xZTy7bISOiPcVEgo51LkicIefSj7HaTmcWGFAx2ZWdl\n",
       "HUVtrC/41LgWlg2yd72rALAk9oqGX/BMk5RhLZrkpnduymkSbkyRRv8uKt357/s+CFfy7ygtg9tv\n",
       "SChacaZ7GxEzU52g/Z7CEfzPkExX1Ck3fRHPAU3tNejSrKzRp6YDCYyyLvwCeHhrEzvsfQJZJrKM\n",
       "HDcI2sy0ASMIwTPZ2CzxEekcq41fsbaMraU4moXJ8r4j+Qm16s2tqnHLrRQFFfUeto0oD2+taF8q\n",
       "yO+uZ4WsdF80PayLK2k8fGrD9gOZ5NqEYbg2RyxVsKmnTiGHLNAZlbzyNg4HoQvntB80RXEmDEYl\n",
       "gPGV3mSIYYauoh0pwaSIW4fq36SR4RSu7OjPpEbKChLJpUXK6Pv8Bi2hwmXfTxnvAlvHIbLa/coB\n",
       "ixb3Lt6lNjHkfGXu6YmwnEvh6ibcOkV3BTeequhQxPbI5wEZftAGN8MQNdokc88NUelhN2J+c5PS\n",
       "SeNwgWotKFRkRc4rdUJz8Jw7r0YXDqzczEoHx2Nt/U3P7UcaLhjwCIPN5gXOGqZdwspoNXZnoHQ2\n",
       "0DNgOJL6MdNsvNPR2cya7HKDUDNWiG4y8y2K3rVBG1RjeBB6+yX5HzBV1p0PMfHj9OF0lvnisOtf\n",
       "N4uG3vwOlSe6NJ1RMhcQXEX1waXbZoYKJk7oTGEv1VlsjJl70OzpSapB/vSdIb82SBDFnmRptKEA\n",
       "ZlcuPKdzPEWZoRKiayuSw93jQWzztiC2xvDQ/vsBHimd+TgtQqPN17JP/0RLshzlMY2Yx74uH05s\n",
       "AuWdYoGyHoIbcL21GKdrrfU7kOvJRgA8Ed8Ky03cNAYDB0GqZdNys81hFwDfYVvwFDTxbAunbhEt\n",
       "dslml918/kbBFm7KSOpRrr2AElBKY/COfJkn4JbXe7P3loUqDql5Kg23xz+UEkZ5cVWbWiq+G0yK\n",
       "9qg7nfiwLB3+igCwBWCX9m9PAiDJG+GUxo0vwNjUmLAf+4pjFH76zLb8UyJqhrim9lmy246mdnqd\n",
       "gCzsNtgyTHNd6TLhHcjHut8kcQuBdsXcTZCTrIC96iHm4kkdN1UsDyLGiXRiMfFPr73P2Nki16gU\n",
       "RJ9/87kZQNTehB+cFZdpPoe6fIvlCBXtvOB1/MffLUcQ87irwoBTPZvTkCunp4mJxLFV33+W9da2\n",
       "jlMeT0CJzl7FGBbi9cQpuCLPgQe0ibdyD0nYOb8M330z/Rpgf6OEEvXt6+u43ahT3eYZzc4hHM8P\n",
       "0GAcbWtbtQ54nVEyFw4JEgGQiLWF+U8v/THtMVK/fjuRzX1Jv/R9hR6S/Ve5pmE7AxRbkzwDi2Wf\n",
       "/E//xM5sXiinKGklHK6zDu/Cj4qU/tjoH35g1ds0ZXcfgoQPhXCkupAnl5BbnW/X5D2YO2VvaKPL\n",
       "2EZQrmui51zn/76kE+GeRyj05m5hQTBJekBQ+yci06nnaQS0XUoiUVSRho7QnUv4l08R3WSPXBnZ\n",
       "UqB9Tfs05eiX0k/+/fyFO2dY42r/+cWA3eQ4oqjpwhoVdx00SwSemcAXN/RID9zsnXZ7fQgABWqD\n",
       "ngAB4UrjAAEjAAAC3kGaJGxC//6MsAyvE5Oc+CHQoNrgGhVF/C5GqUwjZ8DStReoce0sNCv78x5X\n",
       "gzCpaGTkPA1VBot1pNFvqZXPDEBdkAywt1p2iQb5UivqHJ+mMfssDL/Zed0+mSbMKy57jGvLdwkn\n",
       "WBjfTu4uBqzxizIJo8qhB4MCV+Iyn1YEwJo3lIlrWKh7pKECUwWSgs5KYhsebeDQH+QXx/vWRlvp\n",
       "AoXMul4Vj6lDSo+6p1NPn5CSmIXbxhv6O8v6shbKKqIs7FkWBgOmN5bwDjnyEQW8RrPBFQEPRxrK\n",
       "N36/h36hsIS6JMgkfEk+6Ra7sy6Ph2l9AF/2XXqvt/igrXGv0wnFUyJzU5gsaKOoCE5QvXFLpuZp\n",
       "3FzRorXdFQextwyjJ0zue45HMX4lLQWCCCl6FHoFAWkO11qIh1Sgy1OSSD6l2t35JGWoTKbur9gb\n",
       "HcSZrGpWxUH0G8Z5TF9aK4WgzheNq0bZGMl8fuKGhDMxA7sUz7+xl6Q4b7uf6QvjXwhN0X80x4Rs\n",
       "xcHxC/dWAPVWg0r0nnrqlZtvnkzNWAnbHvtGBghv0Im8N2sXoqw8zuhRpQ6Z2shLWtXYM3wCLoiD\n",
       "lMsjd4KNtnGfJJ0e2DA9bd7UJkZRhg3DOXR03BX0OZDEq/QJB63QiNUtm12smKIrzfeGcesePhAm\n",
       "f+7YsBtAOQz0Xb1IwfmIRjbhSuL+FeceUtw+xzJFmXVTDqyE677zwB3n+RCEluidW0V6OMqZx4Ni\n",
       "whzSrqNtVpvOyr5bko2xqGYy4wbgE+f+0402ytCnbwJjEqBAwpM+cA2j57ayYT7p97Fp7SSu5VhP\n",
       "Lq/3dgQgNMxb82xCbb3nwJ9VLIxXVNv3osFShbwuh0rlpg35TQY0gx51iXtqAKecCuChgt86629v\n",
       "maf1mwnNYSckWQffihCFUwVMGH67ncbpzJMRB+rhoEOh6VdOPsCMddiEVngXrj0VdVgwMK5OCafu\n",
       "yXm8YNyAAAAAX0GeQniEfwUz3hfQdMAecQ434o33IgrdC6pI0LckEF7URRDoEir3JxzKoi+aYQql\n",
       "UX9fm6cgGTJ9Ywww/RLx9ZfHACZYFECtAn+A37iywv64C/UMf8CaltilfVuqBoJHAAAASgGeYXRH\n",
       "/wfilSZpEOMW6umEoeXYpxaxALZQyrIys/G4RgDPdUdp1vMTRyiHFnVwgA+sUqvFW+9SRNyTxmmZ\n",
       "d3ZzivlkdDaQnhgQAAAALwGeY2pH/wfqNKaUXM6w5CsCAFM52UsOkDVERfzM1APGACZRvIot3Ds6\n",
       "2VQGTmZhAAAAxUGaaEmoQWiZTAhf//6MsITicnOfAD2SYdrKr0DLjB2oiTTuz44eEgGE6rT9G/Ts\n",
       "a4Abb+6vj/fb1dju1qWOYYToUmTm7XlgB0SszAmWwVn/BMqMjVpJUJRpavbVT2gsAMqa4AZTFTQN\n",
       "M3SvCaaxcULYzq9eZhGG8m6PXnjD66TGnjnGvAXE+HAl3NmTzYvA13Db2EOh7KhE3lYooUH817hJ\n",
       "bUSpEFq5DRbRNjNYxkyj4TNxtZp1vIhMfuosRkaSOtkNR5bbAAAAPEGehkURLCP/BVU1Yoo1Zf+f\n",
       "9rjTRPwm8+ptnwZjWVsfi+ZA64qHr/6OADbTDyzqbetTqumBFluiA4hFFQAAADABnqV0R/8H4n6w\n",
       "pmZ08gNZ/pLAgZ4PqDNEHkV90bWQ+xIAOLCnTAgdBFldVuMiT9kAAAAaAZ6nakf/BDPkQhmns8VC\n",
       "b4ASFlsdkVvJ14AAAABhQZqpSahBbJlMCF///oywAAJAO4ICScJQJrNF/lUMfPFPr0jKsvV7JGuF\n",
       "+YJOWZB4RmSu7zcGN6AvsGJrY63Pj1KnskFrpt/Gqa3cRuoYREjvAMTerjU26dOudo+/M2AfEAAA\n",
       "ALJBms1J4QpSZTAhf/6MsAAAz1asABRzPGXd3AiJP9CeGgnbRfq3sqjch3wFrSdbLRGXGnD7dbbV\n",
       "KR3T4p55V79uhoAlu2GgiXY8CUDVi7VU2664TPp67hviRSh10uGZ4Su3BFEXAftAy0sMYerbIVc6\n",
       "g1cBAafCGA1AyYcME1XIEPZ7s/Ie6rSH7HzdFqVmJcOplsBzaFAedySWSXOUzqR18K8mYzHViCJh\n",
       "Cr+BR2k6TWuPAAAALUGe60U0TCP/ArHU72XggEwhGFPzAIxzPZHdggg6gBaYjq0Mq2jzrl/+fNN4\n",
       "wAAAACMBnwp0R/8EMYjiTwZMphmFgLQPfIACWRG9OmmjLxVVBcMnZgAAABgBnwxqR/8EM+RCGaez\n",
       "xUJvgBKlQceQidkAAABdQZsRSahBaJlMCF///oywAAGWVY3wAcsTpYwNGw2ULLUVnCZAS5OYGCXK\n",
       "abUlw8zjV187I4+3Psd5n0uHPExecRR7FDuN70/D32s4vaxVQtGXdA27WY/IO+y04ysPAAAAKUGf\n",
       "L0URLCP/ArIUHB6p+6au0zwjpFQYUACWRYamZZIYtZRH8UiwDYMrAAAAIAGfTnRH/wQxiOJPBkym\n",
       "GYXStFFCEogATCZZEUA7ISKSAAAAIAGfUGpH/wQz5EIZp7PFQm+VZ3gAXEBhREIzgH6rRDpgAAAA\n",
       "IUGbUkmoQWyZTAhn//6eEAABkXXoADlhDeFqjdDSN3cY7wAAAGpBm3ZJ4QpSZTAhn/6eEAABkX49\n",
       "wA6R9Ty7N2Z2/+TWO3Nk2tq2+OyNTIxmp8G94UKZUmX594UueMjpIHMsBV3gmB61wNd4R/gVEBFD\n",
       "Y+wO3NjtuiVmheTjNRITiBkEqCzod9AA9aVCPKB4AAAAJkGflEU0TCP/ArHU72XggEwhGFPzAJxG\n",
       "z4EABc+lLZhtWQ8cLYekAAAAGAGfs3RH/wQxiOJPBkymGYXPmtuDEfpNwQAAABgBn7VqR/8EM+RC\n",
       "GaezxUJvjSGDglQQSygAAABwQZu6SahBaJlMCGf//p4QAAMPDTY4Bjh028ukkdOsUYOspS90LSSk\n",
       "FUadAAvGNyWICPvTJQ33mrtPGwySd+oz0tIxgc7LuBeAH0UDTIcCNhoZOEnh6o3OEJ8M3MFgBwJ8\n",
       "sRmQ0vYGTRY3iNfjq9V1WQAAAB5Bn9hFESwj/wKyFBweqfumrtM8I6+OYq1MnPF0ZUEAAAAhAZ/3\n",
       "dEf/BDGI4k8GTKYZin4taRgAS2ItRUSgu1/FSo/wAAAAIQGf+WpH/wQz5EIZp7PFQnC+MKcQAWqL\n",
       "KjFMH7ldMdBb8QAAAG5Bm/5JqEFsmUwIZ//+nhAAAvsIFQAFh9eCmAR2HzvnYjez0DFCxEq7faiD\n",
       "wnA3pIUM50uz3164QrC1RQwJuT66ORsLaH3RsUgj1MaqUqONW4V5RlPyiq6LY5+TfDioIfOc2Rl+\n",
       "rs8ONopHZKKpgAAAACRBnhxFFSwj/wKyFBweqfumrtM8I6934hFACauI7pSB8fzoZUEAAAAhAZ47\n",
       "dEf/BDGI4k8GTKYZie+nXYACyMu9kgQMZpfxJ8ZVAAAAHwGePWpH/wQz5EIZp7PFQnCYNekACdXD\n",
       "xBfnZocgI+AAAABtQZoiSahBbJlMCGf//p4QAAX116ABQbc7WTI0rigsp5ILjCd7Jvlz/nmq42Si\n",
       "eP0ndTPvC5+IhR+a3sSdgcCoiBt/YMMqSicyzO9zDt0Y1AlPodeW7JlZTzz+/ElOz6g0Ts6IwG9S\n",
       "3WoG9q43pAAAACdBnkBFFSwj/wKyFBweqfumrtM+Ercy3QAfzfEkVvVnqB0B7dx+GtEAAAAlAZ5/\n",
       "dEf/BDGI4k8GTKaMp1uwAE6w1XcVruITF/YqiDmZqVBPmAAAAB8BnmFqR/8EM+RCGaezxWMUYWAA\n",
       "TqLbpNTPfnqS0iDhAAAAYkGaZkmoQWyZTAhn//6eEAAFzxuOAOKM02n6mWdvmBnBaKvnrC8OKRfE\n",
       "bwiVXnkqicaGkuua2MIIR6s138adMS7m5jM1qdfYSoFb4KjKXRjFJRkuo9qr8Ui7cuJB5XAgRv7o\n",
       "AAAAJUGehEUVLCP/ArIUHB6p+6au0z28UiiYIUHAAK2jrdDTKjLKBA0AAAAgAZ6jdEf/BDGI4k8G\n",
       "TKZ/lYABNvKDKbXMb+eah0muFJEAAAAYAZ6lakf/BDPkQhmns8VdGXBLMLMseE45AAAAVkGaqkmo\n",
       "QWyZTAhn//6eEAALV8RDgBGBTAVjqiTatxx2ieqCDQhVhV+nA/uNHsNfsVeV7otmGcGAWqn6OorP\n",
       "4A9NAocwxNQFI/wFugrNC+7nQMCopDlxAAAAKEGeyEUVLCP/ArIUHB6p+6au00f5XVA/ggALUgoI\n",
       "EKVLva34l/EuCpgAAAAXAZ7ndEf/BDGI4k8GTKZoD/3Q/19kYEAAAAAXAZ7pakf/BDPkQhmns8Zc\n",
       "7kSHYRIGjukAAAA3QZruSahBbJlMCGf//p4QAAtWV8cARIbrZCi9t2T0zZA9488k6LUVpoWqSxVJ\n",
       "ljDrglfU4wWZ8AAAACZBnwxFFSwj/wKyFBweqfumrtNICFDYAW4OX4AxUE5HZIcOawY9IAAAABoB\n",
       "nyt0R/8EMYjiTwZMqNuJMACdqO0/btYG9QAAABQBny1qR/8EM+RCGaezxJ+K8PcmBQAAAFpBmzJJ\n",
       "qEFsmUwIZ//+nhAAC1Pe4dFUALBS4nkVloDvXKnvwDwNX6QIhfXqeyIvvDx1NO6aW1JGwqWjcFCm\n",
       "2Q+ISql1ZP4D3Z+coVWTeB+oNmhuQzCOzRREWUEAAAAbQZ9QRRUsI/8CshQcHqn7pq7TR+8wWrSM\n",
       "ewrYAAAAFAGfb3RH/wQxiOJPBkykmpg3ZwwIAAAAFAGfcWpH/wQz5EIZp7PEn4rw9yYFAAAAXUGb\n",
       "dkmoQWyZTAhn//6eEAAWHKtcAtJvBaRbkK8TVUvTiMZk3tnqreyhNZaoV9oc5HO22fVXd9pBwNE+\n",
       "Z4sNaQJZdwEEAOYOeRF4G+VqGn4wP7GhqohgNUo0PxkLQgAAAChBn5RFFSwj/wKyFBweqfumrtNc\n",
       "vuyZ05QAA/ExAKWmuv70D0g9pgoIAAAAFgGfs3RH/wQxiOJPBkytrxfU4bluPCEAAAAYAZ+1akf/\n",
       "BDPkQhmns8hBwJOqCU4kgkekAAAANkGbukmoQWyZTAhn//6eEAAWGriXjLYAIwLl1xuvcMvEkq7C\n",
       "StlXYsMgae9R6S96lXE9q+zTUwAAACRBn9hFFSwj/wKyFBweqfumrtNb5/TgGwBWdlU64CgUMKv0\n",
       "nHEAAAAXAZ/3dEf/BDGI4k8GTK1ypnr9/DbLDjgAAAAdAZ/5akf/BDPkQhmns8hBJv0FgA/sEvrM\n",
       "EoM6LyEAAABBQZv+SahBbJlMCGf//p4QABbOkogJ6P4AwVhnJK9Dqy8L9SJqxSJAZUbolv97WrPE\n",
       "3NCGg2jGXnCj1OdRRuNWlnAAAAAnQZ4cRRUsI/8CshQcHqn7pq7TXPWA3gAK3xSVbfX/QYbIL+Tq\n",
       "oi8hAAAAFgGeO3RH/wQxiOJPBkytrt5xXKHh5bUAAAAfAZ49akf/BDPkQhmns8hZ24WcADidbQSl\n",
       "/280WKLC7gAAAEtBmiJJqEFsmUwIZ//+nhAAFs338MnA70AJCZ7cpp+WwjJGtsv3u8azr3f3ayCn\n",
       "IL6Gh09g9vZb6vCDZuXSL72quSC/i0+97X1W1DAAAAAkQZ5ARRUsI/8CshQcHqn7pq7TXQ+1QBEe\n",
       "zww8AoEp4cOawY9JAAAAGAGef3RH/wQxiOJPBkytoc6phwllna8vuAAAAB0BnmFqR/8EM+RCGaez\n",
       "yFVhqADiohQBmXWRNq6J2QAAAFVBmmZJqEFsmUwIZ//+nhAAFqxuOAaldqy/Wjvhlh2FMWp8dTTR\n",
       "9vJ76xoPvho7MJ5WkXoO6pUCsbJqJFjO4zLcZX7A5YdOVpDMORhIUFRTbxYXsBnwAAAAKUGehEUV\n",
       "LCP/ArIUHB6p+6au0105uoArQIgCc0FT6FEoy0YlSaDQZBxxAAAAFgGeo3RH/wQxiOJPBkytpgwp\n",
       "ZgpclYEAAAAaAZ6lakf/BDPkQhmns8ZcBUVACUUCByPCGpEAAABkQZqqSahBbJlMCGf//p4QABas\n",
       "XoAG367yAyNoNgZL34f9YfQmVhfPVB7q7kOBz/GGpHV+aVNOxTTe6ADxM7CvgWr17hmqYAYu9e7/\n",
       "F373ROIWcXPIpun9Bfby6ztfNbChiCEP8QAAACVBnshFFSwj/wKyFBweqfumrtNdDPT7YZWACGkY\n",
       "GA3CID72U1lQAAAAFgGe53RH/wQxiOJPBkyot4zn4bluPCAAAAAfAZ7pakf/BDPkQhmns8g1lyUA\n",
       "F0CSa+++dVAKAgvJ8wAAADRBmu5JqEFsmUwIX//+jLAAFkynQAOYSsIbsYIVBIF51C7rzgZIld5g\n",
       "2MIGTnUFKF9B8iggAAAAIkGfDEUVLCP/ArIUHB6p+6au01vvtUALcGSQRWRyIc1gx6QAAAAUAZ8r\n",
       "dEf/BDGI4k8GTKSamDdnDAkAAAAUAZ8takf/BDPkQhmns8SfivD3JgUAAAA+QZsySahBbJlMCF//\n",
       "/oywABZMetAA0PLIwcKgAjV+EVZbP+UFwnq/ped7QEJoIl2Kp1VVFoFZwbUxUnWeRQUAAAAlQZ9Q\n",
       "RRUsI/8CshQcHqn7pq7TW9gJwAlkSv1YyxvwLOC8muYD5gAAABQBn290R/8EMYjiTwZMpJqYN2cM\n",
       "CAAAABYBn3FqR/8EM+RCGaezyCu7k0kWVyghAAAATEGbdkmoQWyZTAhf//6MsAAWTH6MAOWKjH7l\n",
       "qPYoUWApvp2ihnoB2rzCFIjHvz8faTlrkfSt2ZGs0eVnSvxYCdGjnV279g/J3HM0ZTQAAAAlQZ+U\n",
       "RRUsI/8CshQcHqn7pq7TW+ySvfFwADMXB0ONvhtpbGDugAAAABoBn7N0R/8EMYjiTwZMrW0f3lLa\n",
       "RQuWIKwlJQAAABYBn7VqR/8EM+RCGaezyCj8deTc/x4QAAAAL0Gbt0moQWyZTAhn//6eEAAWHDrg\n",
       "Cbtx4h50IfGvIGIe8Wrdo9QU9fOFl0Ns/GzBAAAAMEGb20nhClJlMCGf/p4QABWHXHUCW+wA4xmL\n",
       "Qpy+lQrq936x+j9oQ6ft2Vke/lELuQAAACJBn/lFNEwj/wKx1O9l4IBMIRhYwdhPqAFY9fRGoGZ5\n",
       "GAsoAAAAGAGeGHRH/wQxiOJPBkytJFyjz9ZI7VJ9wQAAABcBnhpqR/8EM+RCGaezyChhVuvrPE4e\n",
       "EAAAAHJBmh9JqEFomUwIZ//+nhAAFhzQeAOYeq0e6n7lgwSVyeGCvBhbH1wOgjJ761E+3bN4rMYh\n",
       "hSmji+XIefZ9VIvzjDcAecJA71BEcE1wwvtQg/N0EaTylmuVeEfWOb5VcnIZ2hlC5HEK8grSwnx/\n",
       "23z8bMEAAAAnQZ49RREsI/8CshQcHqn7pq7TW9X1QAABD3j+L/3xhZa/iHdSpDuhAAAAFgGeXHRH\n",
       "/wQxiOJPBkytLxfq4bluPCAAAAAbAZ5eakf/BDPkQhmns8g1bXPVABNoLdtG+0qYAAAAQUGaQ0mo\n",
       "QWyZTAhn//6eEAAo1D2uI5ZYIbiFts6ReFXOZoVLIiGf7Tzy3pJLKCm5UuVgQbJ7VHw1NN5oleV8\n",
       "bb0DAAAAJEGeYUUVLCP/ArIUHB6p+6au01vvtUALWT3UYSYK0kRDu4Uh/gAAABYBnoB0R/8EMYji\n",
       "TwZMrWYMO2YKXJWBAAAAFwGegmpH/wQz5EIZp7PIPtpFfGNx21BAAAAAMUGah0moQWyZTAhn//6e\n",
       "EAAVoNnu/EAM4T0RNbqTO9fTgGd14RgHK2qnnke3mjWywu8AAAAlQZ6lRRUsI/8CshQcHqn7pq7T\n",
       "WvvfAAcBjF7tLF9ZydHs5/hCwQAAABQBnsR0R/8EMYjiTwZMpJqYN2cMCQAAABYBnsZqR/8EM+RC\n",
       "GaezyCu7k0kWVyghAAAAM0Gay0moQWyZTAhn//6eEAAVh0JnGWMANtdTxPyTRiw3ETdoRp5ACfl7\n",
       "I3NJFrBQyycS8AAAABpBnulFFSwj/wKyFBweqfumrtNZnomvJ42BZQAAABYBnwh0R/8EMYjiTwZM\n",
       "rQ7FybyK5w+ZAAAAFwGfCmpH/wQz5EIZp7PIH4ntWL0F/8oIAAAAREGbD0moQWyZTAhn//6eEAAV\n",
       "jNB4AiY+kfjSysk9gtQ75nZvk2e0/AMqx5u5mcnSoUyy7eKpBn6bYVN9yjbhS8Pdc+IeAAAAHkGf\n",
       "LUUVLCP/ArIUHB6p+6au01pg+q34HKBc0e8b0QAAACMBn0x0R/8EMYjiTwZMrTc/gAP4qqhPIxuW\n",
       "M9vFneBfHL+XcQAAABcBn05qR/8EM+RCGaezyBJhVvvrPE4eEQAAAEBBm1NJqEFsmUwIZ//+nhAA\n",
       "KNif2nWkFVucAdI+q4t2DeqiSJ8plH+JCgHabLktSM79HIVlqYZQMlniyJJWmmKCAAAAIkGfcUUV\n",
       "LCP/ArIUHB6p+6au01r9TQAG0mHu458yHRy04/wAAAAWAZ+QdEf/BDGI4k8GTKzmDGCxctyVgQAA\n",
       "ABYBn5JqR/8EM+RCGaezyCj8deTc/x4QAAAAN0Gbl0moQWyZTAhn//6eEAArIPOnFMgAK5yWRx7D\n",
       "j3Bt+ZYPHdnIy+wWcyZ2rfwBvOOis4sA2YAAAAAjQZ+1RRUsI/8CshQcHqn7pq7TWtE8YASo5QhK\n",
       "24pEnJo6Y7sAAAAUAZ/UdEf/BDGI4k8GTKSamDdnDAgAAAAUAZ/Wakf/BDPkQhmns8SfivD3JgUA\n",
       "AAA9QZvbSahBbJlMCGf//p4QABWS4jsARKz15tUXJqp6kMgTQJ5SYKi1U0MvKv2fWZjdriRv8Ypm\n",
       "cvNToFjZgQAAACRBn/lFFSwj/wKyFBweqfumrtNa/U0AB5VgPRSts5UDaM5/hCwAAAAWAZ4YdEf/\n",
       "BDGI4k8GTLZeLdrhuW48IQAAABYBnhpqR/8EM+RCGaezy/H31eTc/x4QAAAAVkGaH0moQWyZTAhf\n",
       "//6MsAAs3MuPTuRLzAIL2Xs/U2l/RgGiIxaPzuFCnKvQnwN3yQ6HQgfKjVQLdgwFFDWRUqEbH2Gy\n",
       "sPqVmvfuL3DHK8uwVWaPXLiBAAAAJkGePUUVLCP/ArIUHB6p+6au04Kk2VmfAAjvlMKvQokELqiB\n",
       "OwrZAAAAFAGeXHRH/wQxiOJPBkykmpg3ZwwIAAAAFwGeXmpH/wQz5EIZp7PL+ENVuWZTncRcAAAA\n",
       "ZEGaQ0moQWyZTAhf//6MsAArjBrjTEAQd6m+SczgHHDVqHD7ZzxTUuFfhfot8kKmrjxfNKblzZlg\n",
       "xnrZ1/UWk18DFcJEdzoH5EsBR5DJxU6CL3S21SowOai843//WXg7v5xih00AAAAuQZ5hRRUsI/8C\n",
       "shQcHqn7pq7TgtkrujEoAg41C62Kr6OQSS8rp/81li28PGYMCAAAABgBnoB0R/8EMYjiTwZMtlpd\n",
       "uT2yIpojTZkAAAAjAZ6Cakf/BDPkQhmns8uzLkoANtNMzVqBTHd9zp/z9Kh+PmAAAABUQZqHSahB\n",
       "bJlMCF///oywACpTHfAByws17OdX71djcuQW+2gZjmLwsb33D83AZcyShqizepe+wpzjwsfj+Wga\n",
       "qSwsl8Pun9r6tNRrdKHBHLfBih3RAAAAH0GepUUVLCP/ArIUHB6p+6au04C9Kq5BEvFrnX6kYsEA\n",
       "AAAWAZ7EdEf/BDGI4k8GTLXLwDoxTWGmzQAAACUBnsZqR/8EM+RCGaezy6RqvmCAAhDj6xO12jNo\n",
       "P8fmpSh26CkhAAAAMUGayEmoQWyZTAhn//6eEAAozv8CdjAFW2AI06vu5qFNllDNVBv0h0DyJYlI\n",
       "bdYBYccAAAAtQZrsSeEKUmUwIZ/+nhAAKM7+7GRhHACpaJz5+PIIOrFLyjkWb5t3wpWHxYMWAAAA\n",
       "IUGfCkU0TCP/ArHU72XggEwhGF60V8yAg7BKSNIOyOg44QAAABgBnyl0R/8EMYjiTwZMtUi8BwbU\n",
       "pPbvyPgAAAAYAZ8rakf/BDPkQhmns8uXJdrRKk9+hKSAAAAAZUGbMEmoQWiZTAhn//6eEAAqB6lH\n",
       "AFb1ZLGSiC79lw8mXrpqyFpLV2SKOE3/bYnhT08sgL2ef9AylZV1q/MSpebrSthXG3H6BCnFxtuf\n",
       "hBFNs7KtvOwgYQ+XxgchT9TakBm+aRbRAAAAHUGfTkURLCP/ArIUHB6p+6au04BfDlykksLmfo45\n",
       "AAAAFQGfbXRH/wQxiOJPBkyspgxzN28knQAAACIBn29qR/8EM+RCGaezy8tfkOABanMqhRERC6wp\n",
       "VQ29OFlAAAAAT0GbdEmoQWyZTAhn//6eEAAqJcwcoFeAOYC/c4SW1D5r8zlH4eJp05Qowv6+bI9s\n",
       "m5PNS5r6a39lhf6HAkGhLv/npaHC9I1pi/fzQnq0YMAAAAAkQZ+SRRUsI/8CshQcHqn7pq7TgK7d\n",
       "AAfzflzOjrCQcIqZ6CyhAAAAIAGfsXRH/wQxiOJPBky1nU1umAA/nZ3M9zKpA5yZ0+SMAAAAGQGf\n",
       "s2pH/wQz5EIZp7PLxayCzjsjWdqIKCAAAAB+QZu4SahBbJlMCGf//p4QAFPxuOATX1fuqYwv8eGM\n",
       "DaGvVhEdMjEzkVgY9w4ehXrC8PxNoL25hVBIE3S+CNDBG90rl0iWeuRUfUhVyk9ghdMOY60H2bzP\n",
       "vJOl8vJW9hnYdmCZGK9C2TezHJBMN4UCMMhGgQ388I7RmNjG4wi5AAAAJEGf1kUVLCP/ArIUHB6p\n",
       "+6au086Dig0MAAgnT41qfcVBzDBNwAAAABcBn/V0R/8EMYjiTwZMtd7OH5zq63PN+QAAABkBn/dq\n",
       "R/8EM+RCGaez0s8CUBQB3QSsQMvJAAAAckGb/EmoQWyZTAhn//6eEABSN98SC09y+9qAK1RTyQO4\n",
       "/7FVcDTJBh+9zWh7/nZNVw2UdUFGDCBrY82rVohWjB9uXteii6BU9uDkrYLRrKX/ZH+iTnITTTU7\n",
       "KsovDB2Pw6m7HC0XbY4seEQn2u7i4WDjgAAAACVBnhpFFSwj/wKyFBweqfumrtPJiVJsALWKG0vU\n",
       "IZh6O+HOTU3BAAAAHwGeOXRH/wQxiOJPBkzG3GNAAtx+GPSNQdySiUctBdwAAAAZAZ47akf/BDPk\n",
       "Qhmns9K+Pbf08M7PltoSHwAAAD5BmiBJqEFsmUwIZ//+nhAAUbNB4ArfrolKwmjt0OoDuEh9vnYf\n",
       "oBQYsMIRz8X9U5aPjHMORRgE1hg9K58EfQAAAB1Bnl5FFSwj/wKyFBweqfumrtPKx+lFiZHO7gsC\n",
       "XgAAAB8Bnn10R/8EMYjiTwZMxpz+AAJ26F7IyEg4YoVU64oIAAAAFwGef2pH/wQz5EIZp7PSdLIa\n",
       "lT9Azh2ZAAAAM0GaZEmoQWyZTAhn//6eEABRs3vABHvJhXkECn3FLfToshHoWaphGAKA1QofcXeO\n",
       "EcmCpgAAACVBnoJFFSwj/wKyFBweqfumrtPKzb9lABxdrutLKC5zSh1DTIWBAAAAFgGeoXRH/wQx\n",
       "iOJPBkzFovlWUUK/62AAAAAUAZ6jakf/BDPkQhmns8SfivD3JgUAAABVQZqoSahBbJlMCGf//p4Q\n",
       "AFGzj3ADoG8FnvpLkra1+7ffQa32vDnz5W8M5k6QYIs1oYXvOLt4vWTOiDwWaJyxWZ5Jd2I8DdE4\n",
       "0rRtdhJbY3u771aGNQAAAB1BnsZFFSwj/wKyFBweqfumrtPJcHg49NKcZzAoIQAAABYBnuV0R/8E\n",
       "MYjiTwZMxZgoqLFy3JWBAAAAGgGe52pH/wQz5EIZp7PS0CeAAJ26IwpW8IakAAAALkGa7EmoQWyZ\n",
       "TAhn//6eEABRs49wA6BmO0izwfe49twmGVlrqp0OwY7QT+0QMWAAAAAaQZ8KRRUsI/8CshQcHqn7\n",
       "pq7TynoJ9XuaIfMAAAAUAZ8pdEf/BDGI4k8GTKSamDdnDAgAAAAWAZ8rakf/BDPkQhmns9LD7qXk\n",
       "3P8eEAAAACJBmzBJqEFsmUwIZ//+nhAAT3WbgADjErLdaLn5NAJsogZVAAAAGkGfTkUVLCP/ArIU\n",
       "HB6p+6au08Z6Cj17miHzAAAAFAGfbXRH/wQxiOJPBkykmpg3ZwwJAAAAFgGfb2pH/wQz5EIZp7PS\n",
       "duwqEhZXKCAAAAA8QZt0SahBbJlMCGf//p4QAE/b6r69wAsPrwodCpp/G00ssy3fGGB9QMvdfCHe\n",
       "Zzzmr5Jw8vA3JmgxYOmAAAAAIkGfkkUVLCP/ArIUHB6p+6au08YUf+aUAJQuJ2EoGk+I34EAAAAg\n",
       "AZ+xdEf/BDGI4k8GTMXfwBgBbpb/Q2MXpolQlNNAtoAAAAAUAZ+zakf/BDPkQhmns8SfivD3JgQA\n",
       "AAAfQZu4SahBbJlMCGf//p4QAE/NnaUARKitdRK/pOCkgQAAABpBn9ZFFSwj/wKyFBweqfumrtPG\n",
       "thRmzyNStgAAABQBn/V0R/8EMYjiTwZMpJqYN2cMCQAAABQBn/dqR/8EM+RCGaezxJ+K8PcmBQAA\n",
       "ADBBm/xJqEFsmUwIZ//+nhAAUbOZSAHFGalnA9GY+hATZVJ6kNqDP3yYLWGLQQzkwVMAAAAaQZ4a\n",
       "RRUsI/8CshQcHqn7pq7TyrYT1s8jUrcAAAAWAZ45dEf/BDGI4k8GTMW8WeoEWVy7gAAAABQBnjtq\n",
       "R/8EM+RCGaezxJ+K8PcmBQAAAClBmiBJqEFsmUwIZ//+nhAAT3WiBQBHa7VWiZOZiABnx3eh1XHz\n",
       "3iwdMQAAABpBnl5FFSwj/wKyFBweqfumrtPGego9e5oh8wAAABQBnn10R/8EMYjiTwZMpJqYN2cM\n",
       "CAAAABQBnn9qR/8EM+RCGaezxJ+K8PcmBQAAADZBmmRJqEFsmUwIZ//+nhAAT2A9zZ6eKeACCsny\n",
       "mXDM++P/WWK4sb0Xj31qneQhVW8wbyxYGVAAAAAeQZ6CRRUsI/8CshQcHqn7pq7VOwb5n/Qt1SNb\n",
       "8RvRAAAAGAGeoXRH/wQxiOJPBkzm5fo8qglvBTvy7gAAABYBnqNqR/8EM+RCGaez4H0U7fZw7cXd\n",
       "AAAAOUGaqEmoQWyZTAhn//6eEABPzcXMACMiiEjvGWXsAkiFzKlp5qKhRgHIAL6kpJoWmfASU0/m\n",
       "9iQW0QAAAB9BnsZFFSwj/wKyFBweqfumrtVEQdKeH3qNUJ1HLYalAAAAFwGe5XRH/wQxiOJPBkzm\n",
       "5hs+7zUtPJeBAAAAGAGe52pH/wQz5EIZp7PgfRuKwmzVTp5SQAAAACZBmuxJqEFsmUwIZ//+nhAA\n",
       "T3VVOADjWZBElblmKBLwBZuvb4gZUAAAAB1BnwpFFSwj/wKyFBweqfumrtVEQdomR4F9hT0bMQAA\n",
       "ABcBnyl0R/8EMYjiTwZM5uZOK6ez/cR50wAAABgBnytqR/8EM+RCGaez4H0bisJs1U6eUkAAAAA1\n",
       "QZswSahBbJlMCGf//p4QAE91n+4Ah8Z08MRA8lfzKM5jGCuncJ0zRZXPRj/s/6eCG6YWDpkAAAAo\n",
       "QZ9ORRUsI/8CshQcHqn7pq7VREIKXjiAFrdCy5auVp1R6uwvhgKRZQAAABgBn210R/8EMYjiTwZM\n",
       "5bc87O+L0hrmCYEAAAAZAZ9vakf/BDPkQhmns9/RFDtEYQXxXRkUEAAAAExBm3RJqEFsmUwIZ//+\n",
       "nhAAn++/g4nJgFrPuFnXjQmq+gJgo3Y1GV7NZ0c40Y5/m45G3J2AWhOMJtQd3Jr1vfH8eflQJI/r\n",
       "QWyfmg6YAAAAJUGfkkUVLCP/ArIUHB6p+6au1UJB8q3l/AAjZC+dJB5wYcmSgoMAAAAYAZ+xdEf/\n",
       "BDGI4k8GTOdooRfYmbNSycHHAAAAFwGfs2pH/wQz5EIZp7PSa+XQ1WlxGkfAAAAAOUGbuEmoQWyZ\n",
       "TAhn//6eEACe5VrgBx7antm/CV41HUxDh6rGu3/E/BN78Tty23aGCcTQH8vxbWg6YQAAABxBn9ZF\n",
       "FSwj/wKyFBweqfumrtVKdYLaqHQdTI+AAAAAFAGf9XRH/wQxiOJPBkykmmGthFbBAAAAFwGf92pH\n",
       "/wQz5EIZp7PgfRFStsNtPIGBAAAAb0Gb/EmoQWyZTAhn//6eEACjTxwPoAFAMH0/xx/gQqskG5YX\n",
       "8kunRNs4hFbtrobOh5Mdyn9J1YCqCsoLJMWQjujVSqs6KctZ8gRc3lvI5BxdTIA2GS3ixovDyifN\n",
       "B66GW4m+j0KhugubMEl/Yzgj4AAAAChBnhpFFSwj/wKyFBweqfumrtW47+C9MgeYALVNH3yWQxaG\n",
       "lWTItSPhAAAAJAGeOXRH/wQxiOJPBkzrcKmOACLbOZVNgHUOOFCFIFYz/riPgAAAABgBnjtqR/8E\n",
       "M+RCGaez4cFoYNazorecMCEAAAA6QZogSahBbJlMCGf//p4QAFGgYCIIcAVZ7HxoUppwThDogVbB\n",
       "a77ajo6F9cxH83Rmb1V1M3a9OfBHwQAAACNBnl5FFSwj/wKyFBweqfumrtPI2AZGAEkFbKNCYqWZ\n",
       "6uhgQAAAABUBnn10R/8EMYjiTwZMxnJm6ubQ2YAAAAASAZ5/akf/BDPkQhmns8R5w6LnAAAAMkGa\n",
       "ZEmoQWyZTAhn//6eEACjYvQAHSK2JF9eqiLGAhgfd41CQj7uYukhv/712xiPpAsoAAAAHkGegkUV\n",
       "LCP/ArIUHB6p+6au1agkinloL5uQQS0b0QAAABQBnqF0R/8EMYjiTwZMxpgmt4RWwAAAABQBnqNq\n",
       "R/8EM+RCGaez4H0UyQsLbQAAAElBmqhJqEFsmUwIZ//+nhAAo2NxwBxRtWCOGTDvdQ3TCtxbLxhh\n",
       "/GqIH25eFFh/b3CKo/5DIKbyI5MGB6uOtalg2F5zhlePPwOnAAAAJ0GexkUVLCP/ArIUHB6p+6au\n",
       "1a+DLgAIQhSht0MLR+4Bdga4ly0BlwAAABUBnuV0R/8EMYjiTwZM6twIcI+5kKEAAAASAZ7nakf/\n",
       "BDPkQhmns8R5w6LmAAAAQEGa7EmoQWyZTAhn//6eEACjY3HAFW5wWG9nc2VeMnrpX7pT3m2yt+VZ\n",
       "36HcRJHEDCr71wnbzXzGk7CHpjVoMaAAAAAcQZ8KRRUsI/8CshQcHqn7pq7VSnb9fghvkc/i2wAA\n",
       "ABQBnyl0R/8EMYjiTwZMpJqYN2cMCAAAACABnytqR/8EM+RCGaez4ck9IAAV+2bLRqstAHilZ50T\n",
       "cAAAAE5BmzBJqEFsmUwIZ//+nhAAo2L0ABYfXQ+gLb6NrGS5es9UOIKFTLC59KvScIr6liqWvdV/\n",
       "P2ZdiCfYZmCj2NxA+7bjd0ICjED8QVvUO6EAAAAcQZ9ORRUsI/8CshQcHqn7pq7VUi372CG+R26G\n",
       "LQAAABQBn210R/8EMYjiTwZMpJqYN2cMCQAAABQBn29qR/8EM+RCGaezxJ+K8PcmBAAAADRBm3RJ\n",
       "qEFsmUwIZ//+nhAAo6sBTKqACMGr5X97VQN7IAc1CiAhWEJmz+EI3Pv3uRuW+gpIAAAAHUGfkkUV\n",
       "LCP/ArIUHB6p+6au1ai4qOKAxER4oDqhAAAAFAGfsXRH/wQxiOJPBkykmpg3ZwwIAAAAFgGfs2pH\n",
       "/wQz5EIZp7Ph9qYSdgcWGzAAAAA4QZu4SahBbJlMCGf//p4QAKOn6vOxZgCJChKgDUPbViyDnTRN\n",
       "63gQmLVGdSNss7kCZAIErvlgMWEAAAAdQZ/WRRUsI/8CshQcHqn7pq7Vn+pwReA6ERcUDCgAAAAU\n",
       "AZ/1dEf/BDGI4k8GTKSamDdnDAkAAAAfAZ/3akf/BDPkQhmns+Go0B8ZIALprs/a+oS/BH0qkwAA\n",
       "AB9Bm/lJqEFsmUwI//yEACW1IkBABaiNEVphuFC4HwMWAABBxmWIggAP//73aJ8Cm1pDeoDklcUl\n",
       "20+B/6tncHyP6QMAAAMAAK6tMz+8WNhqAgRcU8lfHXXwyWY3uENgj4HKn3y1OBgSeNPqs5Cmenz7\n",
       "pT3KXZhvzA6t59jnr5fISbkfIAATVGWsXGojV/bNtQ4lRBKjTdC/J2eCDvirdJA4JlMLIRhkkD0c\n",
       "N/qk4cSPU2/MH0/v9f3BqQGncVcS2zrPYkGYfWZ7KnuZAhtpL4QK8ulAnzs3AzXFiTExlgY+KDRF\n",
       "ogNHEG9QJFrQBnuNH4uUA4d1j7eBOsrPlgmHT/aFTK5+Mv8sAF+/TjL5bPsUVITAwqA+fcoAHOgB\n",
       "xFCp9zRwTh4GF4pYni0K8BFvuOnt9U9XrxR6fwVLjCp/VTA6K49v3r4wrI617mfid/3ZPoHYi9cW\n",
       "BEP4gyBD3lzKdUhU09VAWntcl/V5jnrCmE8gZFIwSZv/CzSdyRRPkdgCfwIfgEfZTS7ChpFoG1Eh\n",
       "RL8jeK6SYszjXcSVEiEmR11fje/Fg2FNvag2CSP5DbnGs+H2wEIlNNDjMMa4Ghm1tzbebgerUNet\n",
       "rLgKpTn8vs+qMN7JdQNEx6E7PA83eSQesfAtfX5MaN37UCPw+w9EJk3DjU8BXhul/xbZXy7uhjJk\n",
       "q58ITGL92F38WvPLQnTNeCVtf9Qg7MERkxdZq6yAMA/viiE1Iiccl73NIZILBwYplP+uo7Z2bL6q\n",
       "5EXA7GrfqG3FpnloelbZUVOr9gAfSeaKLeT8EQHlvmm3GLAdngCxj5y2cJcDTeAwuM6M/tWprM7n\n",
       "cIIZgnDRnQOne+lVydbnu43gBjWxOk4x5CQZ/1iPaLNNccsk19NY04gRCMjex4741DgSmOtAl96C\n",
       "aSp620i+DPHBS655eIXu+/tMEuideq5zyRRfzB9knuMRU1dZu38OILJKtaJHJW1SYrL/cS/rdtp5\n",
       "qjeZz8R9EcXLi2mGh8FHLS/fDCZvbWEtseKqRoVNmRPFnqAqVUbgaCBXifGUk92bEhDb8DRvmtCr\n",
       "Zi1IkM1Y+QaK+nYZWHfECx+WoDbwApfnEJf1gf7ghk/Zs+n2drlKeuLO+2pyme7sKk/1ZwHoEqdl\n",
       "MNtpEPOlH9vazRvY2sfUN5g5g0j3elYbhn/uDY7MzsH6Bd6yO7SULKtTVJxaFjrAdJMpV0xMDZvu\n",
       "fzLhGuOMTAooiDgpHMqg3dzRwsuDQt1b3A1FhfZbdDhL9PQWUIZtVYBCSBSCWqeJ983qgZwfMdnC\n",
       "QqaodCGB5mgrIW/Ex2xKJV2qeKKZ3AccW6lQKtvrsh5ZPqkLVRGfP/5uC7ODUtXvkZBu+QwRBJG1\n",
       "rU0RYOSwWCrUCogyi7oUpx7FsHReebABkI7YpIfvpzmU82j1CTPWeeacKbfcYg6xFffgXEYQLjYI\n",
       "6j1+2TMDvBASJGBIsLvGFWRsUGu7m2zdzChhAdFGOfqDpdWV3mjHP5WrR9IYXHBxNFaTB7bzYXIH\n",
       "1Ui9mQIQBPqHYKiS/2ih7pqMzNs7MphGUuCBOxiNpLBVbMKdEyb4I4m7NUttreBiZd0VaLhow74M\n",
       "HQIB7iVyNBbrqx//PaNWdLpivySDV7gs5pATwocXL+ZecEsIOK9wgnL6k0ooa92furkPCKoucLpy\n",
       "7kZEaW2mv7FqncpXzswkn5QhOXjLIaa9vpjdtEbWkV/erx836vOZTF8NZ9hMduWgnuvLA2wVwHpB\n",
       "Bp/9hAZkrPoBZzpFO8/lcRv4ajjO86qDNUgmtMe0jGepTNq6yg5P8i8fI5V7Rzyo9ovdKtCSri6S\n",
       "l9vuTnx3SNPLK/5tZAlDH9GxEAev4/26aSoC5uFJQY/qF7IYgn8dEX3KvhqwaTvopsy7+TO5WmIj\n",
       "uIMlMuLLlvfV/i0voSK316uvsqmfofV/NQQ56JKhChqhGM1CXHsLbN7OiLPhk/ZvgLpk9uvsGadK\n",
       "AN0zm0Byw9JGHTfBOYb5PMckW+RPsHbM4YNzUoxGJGAiBymwszeqt3Kt8HCi/wGQw8Vhx/mMuV6n\n",
       "jXvMpqAr4rLJ0a1aJGHbAJCgcVaBeaFXlsH6ZjDHsMvgGeB4D+RQOq3/LG7xpxZII4rCMOtZM6OR\n",
       "5coqm6t0b36mNuHqdB85CxED6Jx52SCQKhjCyLAJJ0UyQLmuhKC6Tnr0AjfcYevAnjj+k4CZCESe\n",
       "QL2MmhSE1kP/irncTUZXcWuNpQ0OhSHlMRl0JuFzttgrwFDXEowYdgz1XfIS9LbOPWATMc6zvMBx\n",
       "eg4LjKDBsp8813GedsuJD0p49hpe04d4Fz4hdkzUyBk4AbhLn0MAuiwOC0dKBzq3jzfkFYUitjn4\n",
       "kWRloWUqHBcvlSL0Obs/G4cbUgDaLnmw7CyHVfgM9Gk8FmbAbpy6uPNNiaxVIj4vUPPjMavMnV0Y\n",
       "GsGM4XMBa1b6OKzaMu0dQi0C0GGoesLlqzgx5PJpIXoQJw2vmZ3RabRgtnozZczD9QbUlYQ/oVt5\n",
       "Uvxq1Lj2wYFvwnvmdT7IYZNJBabcSvr3x5mLgZICY3xxnYWS3Ac9Wd6LikUF8qxDLrXgLLWLUovY\n",
       "8VzzW7JglZzm08vnluZj1TzN1e+Ja813rKd3Xakaq2WhssmI5KiS0iyWU6Nbj/1ieJFUUboloIqi\n",
       "owuDBEVLjsKZ0l5jM3cDTGB1xqg9w1dQ8LCpz9cUUMgtmEOCepLvSTiG5mVa25dV/oGePByzAGez\n",
       "bwE7dyerwK811mtWFg47VT1mgOBDQt/vR93vM8Ecife9vHtu/rcsdT8SbsMDHva3tW/bYRZvc6AW\n",
       "llY9g0vSkl80vzTLXUkWuGc2KBU82y101m/GzUGkOZ8CVrupIkJmUqZ2vgBCcg54DPEZRCRDCGxb\n",
       "vrs5kfHpLkvKfjy1GF+6Nxt2vzEGzTyQ4eNCb7QgTHobM23SEctemoHpz89WHHBhnrNBHAY5OX2N\n",
       "+iPcq70K3Hq8+a6MMp7kGOXrh67goRbJmzUHyv8SKhN0Ep9y2VaXGOihi6AXnM+xtqYQEuKtdnMt\n",
       "ulT/BJuNv/WB6O9ITFVe8SRYwX2cIoXiM3bPguNFn9uGq+9OZZZVQ3vRDE7WbILlHyWJEQWl26mR\n",
       "T34HJ7P7WKrJkGjIR4+HdtXhHq0k3HZRRH8RhUr/FuFOVLdkMwEmzy1arx83iYG0c9mstHsYm4kb\n",
       "onEtEbTeFJdH7NPFYtPIlTcThXoHM9APpJdNd6K7uezxXzfTKd0NKwTNsIw50Peh61xsY3DTCqTA\n",
       "VgHjWXPLMFaOAdyud+eQlMvbwdfpdmsuPOJu99DCILEpsP0bGT0P1351QYqanlt7zWOsrCK6hQBB\n",
       "3jk0RpMnf+Q/gn8DayJQJY2WdSA6UkAzfU8mg0SDZpNPLqZTkHgTSKjDOANdGykWpw5C8U7YCKId\n",
       "zDE9i0YVPL5vD5yvGEZyXQcD/sxvUgI6nYn1H4MtPMHceKSS6d2Jv1BUevsZt7RLu8NCydhZIBjP\n",
       "mIUyBjxwuor6W4iQfJ6B/YLwg08IefG9+L9TdCjbopB6T5i3HiaUl3bCzPxm5L3mbyhwjmbE7N+X\n",
       "Vk0O1wLuHCrB6hAjKxV+eQosjs/04t1xX2fSZj7tz3xTgqg0CMStFAWOhtTZQmRCRmqxz8DljLWK\n",
       "7mbwENBtv3DDJSU6+fX//QZi/ygcdJ81MOEslBBEM9Gz/Q5JDODndzVGInor/9dz5Uza3KzvCPZ0\n",
       "pWRBACpt7KIq492FwXX74Za/rDO1sVkJHv25V69cbVMqcGsPSri2dFV8gmIXaeIKdjYjtuYWZJms\n",
       "yIEZW2qe2fFC5F6G0eiL849Qau2s/3LSUdFWQAdaci0Nd1w7v7JVyPA6hTlI6SriSkk8lcUr52Xq\n",
       "1LCm3/KPbhsMEiasjIxkiZ8v76k223xIJfQpegrfY59vHMwifJhQERHM7S1xPujdjwpDKYZ3TYW6\n",
       "Mkg1fIbCPsxsPekanoq1MjpZl1PlQqemCKR+ynL9A9ElW0/jqShgYI4psT/JTKDsNvvGA11UNYye\n",
       "YMTSWj/4lkS4n9yzBNEC3iy9+nEIrS3B7CulG02xb2VKAHNFVkHhDjXqgsBsp30amlUMmy4MYFqS\n",
       "VPKKw2o8gIixX/6iyP0s2BEvrsbNp0YUwUZrBPZeZUBxX9z2AO01gtuzqFuJDXHzMNRoeG4ATRbs\n",
       "GAB7jrGR5km85gscGPXahbmWQdu20x7tYB5sV+vxi0OoZ5mjNbAIm/o6vHodB9ILZZ9v8csFAJ6+\n",
       "ZyUNCgAzPJv5pZOpS25jAWT8N3DAWmLALxC4B6ZbINLc4k+cgwIvYw7w/4hEzjzdRiyOtT0sdXWZ\n",
       "KcIJVMNjYLCzEi5BhsFgJBdk4GnLgXrWMlCQvxzhH6CP2uxOETQb0WJJFCtEPj9nWwIhm5pFJRon\n",
       "n4UuRoma5/Mz6IhTkyB8p4aVInvWQVw8ADCRb1okxTbPUlh0gwCGGLLhxRMdLaDK3fKTBKNS2tp+\n",
       "j8f0DBWXmUkX0rWTJtwm4OnriIcUGCLLAah1zSerBz8pz+3K0ljgHxtzl1QojpKMDWIHkslMvDv6\n",
       "csoQ2VBkav8VnrUSVULGKrKgTLp2oJi5sTKBvL/U0r6CVxZzXel44JvIKy3Ly5Br5hJeAVmovI/7\n",
       "DlKYNIL6+uBfNYNTh9icTWWwxLbpRULHfnVrtjurk3XPgM+IfvCG+OH98ovQAH/omcP1Bipmq9rc\n",
       "5ZBAO/cHq6y2d/P6rc1Juk3W0GDTcinnvoS8mn5OPHheebBVy9COE1FuP423XjDK1yi95W/A20Hr\n",
       "ChqJoP3S8ugMLRUSqfHtQ74m28CTAwFiEByggY0yE1mJJPdvS6BiQnaNiSQWpDi7g6ZFmb4eNztl\n",
       "7/kGVofz3/7VbBZXowImm+idvZjFhfHnxRnLRHaaGiSXXAYKZyoIwKfryWr9y8lu8asJxhnEc8oV\n",
       "eiU9XwY0cJp2ftnY+4NiBIGtLQIcbk360hc5wV+TuHDEa6QCb/NsQC7U3JzSSE3nYlHK1hHXlzfr\n",
       "bb5TRxU38J16JuL0SVqbCqepR5X0MMCsQt7SJVC2MePCKbVDnoNdC98LDL0qjxWmrm/YdxOuqw4+\n",
       "eND83c6O3YZYoQ5fqKFEFVOyMR7zQqWhPxw8bl43wOdzA4bpG43XTmvDR7U63ovPyHK43A1sanlZ\n",
       "gUvxC7zZd23n9LGD1FJPJWc9YGrwYbelBJaFGB/k9OZQAE2d6bT+AUys1C2UP4Elx/CrOBi1e0JY\n",
       "TPi+cfMQN0anrcXTQk7qTDibwEy8JaqXwccIXZbmYpQyWMKeSwaO7qhWO3KmwGER/9u1gB39KzJN\n",
       "PGlt4apv07UbF5DkBNIRVgtBTqwJCIhZ3gi4fxz0R9uk7XHvymDN62xkL/zGSmAECWnoaoSXIS51\n",
       "Gb7U0gIh/74DPHQWrwNwIG0t0Ywmjy5EYCtmPaK20XNJDZaZCQG2SbSYg+9FWwHY787JrT+N/QHf\n",
       "37mb1G+nusqk6WXQHfjA1uaqMPEazWsoNwSvOpjHsVumhaBhVXz2Hzt9uZT09wvlWMKiyc8U3LC7\n",
       "aLC6U6W+/3jKhjKsUsfY47bqEmkEJAuA6Z4rZMzTGmrdvAuMxBfrr6vb88J4GpLexXbjlA/b/kbo\n",
       "LijJBRA7VlX3QU747WOGlynjxbj21dPA6+cGmOMaUK6E4FRBplM5hHqcHpxVuPv/2BSSP27eebIw\n",
       "FIHMCG4NoI4gW909HFAA5hOuQBorrleX7790g8iwv5p3PRQKB2ZeUnsLIMrvoI6bWwwVGAtJCIXO\n",
       "ybEWcMKk6dokJHOdFZMT0Wl2g/tn/vuiz2kcm8BkQAtCjSgLEz69qQ2t3mEPvymqEvjyuYUxGRy6\n",
       "wGdUXnhbo62E1lQ0l1iIf1c2UPZj7rHv1QjwK8RZ1ueW2KoLGK61OFTzhIj1i3b+cy7UOzY3lbmn\n",
       "wLKo2nigRaxGGkRftjnJ1iAvusiHpgqNneoswlTrLhcua3fJcPeqTziAcobsYkN0wxDPu2ldtqwK\n",
       "T38gQCuDSeTfQqtnc3yIctz5mvRBdJgdgaZEtOAUkytYWpIrVZ3BIFLLKSxkMKW8H6kjggqoP1RR\n",
       "ZIYH6Yibh287oIDP/xemlmFdebyhp/OYCkpbenfkkhGgyfjvWXGtY4Zjg3Y6Bt5WpgjvLD5Xv2di\n",
       "5zhatjRoVm7+05jOXq17YWPJwTKjvf430m6R5wzya2/oUTOxk4XM2Pk+GWRPypxQRTv0pXkQjo26\n",
       "QpRtLDE0FPnEpV0UuVD4z7o1IOLz4HF1Ciq5c4lmuN/+zI3Ed4uxeI29U6lwX7xJER8PA0yXzFyy\n",
       "FciFvlzM1K4xaCfqtJLPMLZ3+ynG0Al1T4sFfv2HCLh/LpgpI1mW4elBc6pmWiawR4ofX6fb3EFY\n",
       "Hr1OTlWxi9PjSPlrfly70jAoKTGeUK1G55dZNm95Riu64OpqWeG95NqErO7NJYKtbHF0wMdAGIdl\n",
       "Ic6D0CkaBkkyBjHD/ZUxac/dB/4ybKigbsTo2lSKsfcCyUJUaY9pQMZbr9lNIp9qBHAo+MadyhM1\n",
       "tA3mQoVD2Q0xs4ISdf1sxx8iEgtsjkG3R2p1Ak0CNI4PPicyELNHjXn+drbySPu42EfM9RBCsXaZ\n",
       "Zvh9bAk5noxQKqrKd5KB2KIDKgA8U/aWjxjhpN/xAw/b2bQCZmicYxJEeatG8MSvveBnr+qftyLL\n",
       "FmMnee5Bs5QaWDNoFBXzvApjnHR39mPnBVRUnpotUXk0yjKFQgUaE6djxHzGMpV++m/jzRA8d7jG\n",
       "ILPyeHaRVQEP4r4JRkZXAjluLO8nmA7NeTIioio5ioypnVimi5JYlD49iBy1WruFH/VahEmk9h+Y\n",
       "B8a0yJnmtU3LkAtoJxOecAFmyGb60TB9VMBswrF97MHPdDBfS9uoD/KeU314kX7skaci67QdBrA6\n",
       "UiT2jJ4qy4z+UI4MJS5vlydX7NvhGel0cQe/C63546Ra+So4S/eeQLQ5qxPavu0ILjv3JLYeAYYF\n",
       "qMSSifmLcwuVauuyE6+ofB+q/ZdhN9AcGgbXbjE6iAuVRLar6PKGbIurZAKC0XdKVJ5LmDAdlyC5\n",
       "sohcz+aS+M8WuCggAivQ7hmzh3FiMpjQ91ce93UWAx6ZFJlcutsjBX+cCF/zjSvBlCaWAL86uqSd\n",
       "0Y6gvIOo/v4BSrtIxfH6pQ1zf/6+u4/ohpQFeGNV+0Kff4fY6G0jbNZkjksLgp17nhXC2QOHP032\n",
       "c1lFGCYEvEA3rrZS7V0kH8QzoRUhX0i4ZpqwqmLXbeamwJBUxrPtFdw2a63sJzPhq7zMTsINJMVo\n",
       "1ialjEm7UQQ+fMPEPMJx7zQ6Nu8NqRCx/OMMVA2VGZ7SVe8qilJCdQtyDLCDaERgGA4RPUpIK7Fn\n",
       "aDi6r1kiurefsc/ThMEXJ62hrEyfGJYRW3R6WMKr1fyXvePVu5XdzibS3IJt27EZ423TSGqfED8X\n",
       "ziomqgOuPi9A+BHgi/+jxx77sqwIMFcYVRFtnWEH3SRSGOru9rV/CbVW14Jk6DavGNmLjyYGp4cJ\n",
       "VOBkV48hNhzRtq6vbME7GzB3A7mI94/PVHn2lK27XIU4+R6Im10dxK5TAw7QRuznK7ApX/CBGJvl\n",
       "p5/mC0vxfRPC8IM/1sC6dyEnHG3TmSIjyDOJvIAk1KBcvWr5kpEohd+9S0k2/gwNCTlftQ+HwbLr\n",
       "JmBmBlxLrj9yCi6tU1a7gIYp5zJanpIv99ciUegHKHSj4bRpuviphxccZtaEQYGto0fTe6fS/2k1\n",
       "X7Ai/XikTucWLfrrBp+gehBlg5wu1n/zpJ2z3wCzNE3l95lVAmPSA/nEUqdsjOL1aHacENuMpIm5\n",
       "l2AAdoUYmRoTcMpyInG7ZwtQt6WH29R+YeeC6dzaJM/hG8qY2e9sXpWFp50JhOJ54qftePC1MbnV\n",
       "4AeToVgIki9i28g9s9WDN87iBYR1u7vV+pvMy+6PcSGvrySmFbfHfkIbGIOCABfCTYrBV7lPQzBh\n",
       "qZwQd4nWx1TbiS4/R86//jiAAhbNg8bBKHgghZcbmjTDxwciI36n85iO3vh4ErhkhqYqdTh0PHVJ\n",
       "DPQIk3jOeXyWrzzqE3WCXZdn93rns9HG+Q+QgJhYRlSAaGoAdIXj9GGs1sp7Q0MvADyoS2W3Y7Wd\n",
       "SGSPcBRZ973Ut/Ab7BMflO1mdJzCk9Kw0m4Oh878LOLSmPPkW7x+VLlhSUuqt/oNeNnKe9H/t49v\n",
       "AI5y6cZLRXbF6k5AEgyCuzzt62aFGvMTi6uNrJfz2ZiWvDDkBVmQUNc4nILcsD9UBCtFUUVH+dk4\n",
       "K1e+vj86ah/gBfhcTjNmM3xNZ/yuYAHVBHUa6yF6yRpstAwG0q6KW/k4i6TKMfjoxei7dUrc5FCE\n",
       "cE+YwlZCMZOTWEI9smWNTpL+QFeGUH4JWxXbv4No2CqiEZqG+4Im1R4iFkR8i7H7HOash1TNMXeX\n",
       "z/YMhGtP1q9ib1aSWy7ZIb784LnxSiuUjvJf13eAB9zribHvFa5DNvqMeFZUNOu/PbxgfhaN818h\n",
       "ey1wOf58tg7VK5AqWqx6pjBcEprqP1nswkSW94+By1e4Iw2uaDA1yP05xmXGtcFwSW2M4J8uGXbF\n",
       "A0kit+T23Ro9p/kpkvv6fsXMlJ5WFyDWoKvvO5tQJU5YGkjyU/sR7dRNhexNKx3sRn1dK5m+3uQ0\n",
       "J3T4XGtvt2T62KaAJ7od6Y3umtlMb1HVcF4hIkn7O30jD3Jt1DGz2ZZ5+5ilZZGWdxTYcvtf70X5\n",
       "Ly3LGWfhK/Dh2EeCIoKGE0uGQCJ6jNEiE61VK9aatpCaDVDNBU9T3cSKcywK1GZQFqHQbNN0nREX\n",
       "7S6CFmGkmn0antBMpq81jBB2OS0R0/FapiUt+vd2L7m1GganDvgdkz8p5X1Uo6jncBTcobO7v4UU\n",
       "TJ99yGM9MfhDdIs7F27MFKbeXnfVt0NQ+Fbd7DXqb/e1wP2TE9Kchsj95q2EBx2b5CLU0Y7tMHuJ\n",
       "NZbWvc7y27nXzqSe/+64F3MqIfXgYQ8XGHYP5B3PX6UyESfiqEJ0/VVxazYj57og6UPcI9P2LYSs\n",
       "BH+Y5KTMT2hhpTRI8KLj7bLDQ8vlzoMihOmIuNOlKHjWhMEKBNOu4AwIciY9QLwk/nfwjqERXcBI\n",
       "0lEMGnSdBrbkqTJwu25Kz5BcRz4kVNvc/jmiGQtTVRKDOjU07DBv19WhAahQ4QH24ji609OLZc+A\n",
       "g56/aHWAXn1CKx9IFQZjZOtTCjCptUQub/uQMt+WbVvujVm/xD6Ems1exRHErlApiEnG+2wsX12L\n",
       "lmKsRasx102tc2h/AE1FfUc1TzR0xlauLb67MlKYWlv5bhtRnQN08OuLgcnoNk563/qaGkOd343F\n",
       "QuWeOWITAhjJAv2w0f/vt4oMzlc37opP35VpfBVTo5DZ1wzQVCZ8yPFvS3zDB7Nb/FDmDl7IXxyv\n",
       "GolzoGKez3C/lr5MA1jhfHqcg7dTNn5X2kp655pWefbZa7K2bnbn1zA6iUJw7EHqiDqSTZK+VliP\n",
       "NqssFyOjnEnebo60Lg3pcHX63Wjk34i+nhxgm6m6P5upqAypMiPxCV7fXRgkwzBmf+aDrUrGD4Gh\n",
       "2dX1BW/WTnUS4lHqKLAteVYvg3tWIZAzkdnBzLNx6+ejaiobnO9JLunrHNByLPez6UsTLr6DYOrt\n",
       "VfRQFo24kml9fxbBnIEp/Ptq9k/+hRWBEK9z8Hjb5q6Z1pdmyWhNNuP1esq+iwg9E12pfMXFiqZv\n",
       "UuqdH7C6U+NLDJknjjFqIhzFid4ArqdvhNx+wq4ua+9nhn8dCD6zBNdjDWiNYcdaJaU3hQ76Folj\n",
       "WnPGe70zPlZ+B0OzCk7xLjneBpQHsZV7i2ompIY8PRWDzGtd2T9LVRuf5QKejtAMovWUFV9v5o+0\n",
       "H0MMho1OtBMvsBPQ2uizV0XlkBdtLCeLXtgyGYnGaPSWCasvdl3q1GeqYXaj1mQ3Wa3P4du6ysqT\n",
       "1VTqDcbXYdYekMJoU04oD9DRgHKRin1k6JDGTdqF8CeuVOeSAXXuLWXikeQNiC4ZHSFkFXpUeBVH\n",
       "ReiwB8Q4FTsxUegYNXEajs15gwiVTDi4rFWD1F6958LPTTwaBIB1WVbLYuGqc6I831RyTPLwm64x\n",
       "NO43KCRtUPH7OF03vPKprSWjFeaKoA+e8iYkoyHkIrQ8CwV08R5747aImz/PhT3yGFhRS/H3A4Rv\n",
       "Sp/mGOTWszcdc+EcOHeJUQXXtF02UYD5eEA3tljofsK6nt7uzbeE1ppPMr/aaz92f8wmDX4S55fo\n",
       "M+AePbuMWmfaFQ4M+5o5bBH5YAwWE/REGBVsunH6qtxE2Qkx3UPz58Vcqf5TOQg+qWV5RSGxbVKW\n",
       "FZd77McXVpDZuOB9WWAajdmQwPQMFuJ6S2KWbydR+rOtnvAAiq45T4JvRQQ5/DjCWzx783RkRIGZ\n",
       "860hk9amdikwi5EEXrfxF01dXVhsfc9nWz1Ml+wbtudJZvk2sKGdC9JPRCaQnA+JxpIpdn6adx9R\n",
       "IDXXRdEDJyqDAJWZ6aIfTgm/b8tRrvvbBk6bmK7BHAKX7Io/bqZGpTuW6XZF4PwuOMsth+kbI3m/\n",
       "gUQPDNQU/E4aql0Vu9Dp2WV1awqNw5DPnJ4VXv6odZvNrOM70FFmi//SuydvTt7eDcJRe/msLl1x\n",
       "CPDV7mm15F2d59tUo4H6ahmMJmMmmMzgdhC79bpAJhkSjbTm3ohNstMEkDwg6jdpK1aNbupGjSUq\n",
       "6Mj3OATimDgj3NfcYC2navv+D2rxovF00dzPLUuNTQYGCSLZIxzZfv/ly9HYcnPBBoiMHQPSMAmO\n",
       "45Q+cFWdwP9jJOFCVzOF8aRRGeHJkHElpHB3rHeG1YissA9uajfaNl/WRm9xXwyKSgyZzNhBp3Mx\n",
       "zlVu7tkH6E5JBWyJ+gM7B5Zz5tA+snPhzwOsS1a5f/KwCWcWDlqquxEtFY9qSYe56N3hMM9Doo2K\n",
       "irS/lDH7S3GmMXKlcz7sOtT6gnb2Wcy3esgkRiKhgf/dF+sYb0Syx80IQhFsbaN0RIaa0SkDN0Op\n",
       "4iGPDADVMmA8lQKHqoD5CpjQzoeeUJMr6MlHHxx+VQzBYNtWEaKdlZTl1FtUwvIF66DU2pE+lcUK\n",
       "ZfI6vE4nNzLtF2tAdwE/0R3ynkAY/rAntGwgE4VD7HclsR3g/6MI+y8vVtUqukvU8n9afcBNq7+f\n",
       "wXz9mxaY9qD73icP9SKNPDu0OgsaQrOz5O7vYnkJDukIvRWH/aOCUPYwRWEs90EYG0BGaxuhhtZR\n",
       "14eXK6KDXau4AORONzlSLQ4Fc8U9tHbFZrOK6gOkWYTrRi7XL7ROQZ4iJw/6xm5es/1GxNjdukvP\n",
       "pUzvydMPN0y00hQK1zXiTkKpO8PI5u8zs2sORUaKV2PYqdFGkkidq6uRfw+Hn/1Fx+ropB4b6L/d\n",
       "gAUqfTFisv76tmqeWVtYQ+p4e9zIQuaS9ArY4cmxWjcTGXb3yyCXIT0X0FPB+WhdDc5aiB4ZR4qG\n",
       "pe7qJtHNNBcdHyLrThefEBJQnmoCp6BNcOEMj0dSGyvkcYh5RwX2ZYpUvvjjPdYiIBrd9OsdFBtK\n",
       "m8/2Kv4Xk9G6MLQsut5mFK2/0IpVUssNwcQylNHDpSPfsI50H2XyA3ICb58Mb1jVoSSLHnyG4Eo3\n",
       "4Vhc25DgLjfe+wgmn38eVxExMLnniaTX/46uH2a61Or6NmDt1y2D1bw9zbhIi0MPQiOeMh27X/FR\n",
       "kfj+UO5UCnJ2npT5qf0ejwQxacozQCAKyJhrIMr2P/qhcTbL+PSSwPEElp/bivBxcdUB5c1AyHIC\n",
       "Hkc2lfj9Nz8C2d2J8cnKrwb7h2MX9CW4uKNxjdSxpxVV2dlmZhclUzkkvCJKTd4dL8OwvEUr9r6G\n",
       "C2+pV5dP47SAZnyqXpxSuZbveg072Oe6wf4r7PtyLPLG1YZR5p58tX21/+HACNLhVtsNowiH+XBl\n",
       "19AHics/1yhwmtGUNo3M0AKEW4enjE4yqvCo3Sys1hFUVtwf9k15cJClsytD3j1nFqiNXRsXgiPR\n",
       "W/4Dy63wum5gH/NHcX9IxhMX64l+a20LwCJSet1EB6hOPuzL8N44rtjGgGdWyULrUCN/08f2rr+i\n",
       "9M/7Kavxcqfbsdiu6bsDP4ExW3IYMJx+g+fSwgEyAe4v1cLLEWjcRJfXiejPspA3lDHwbRRnFwwl\n",
       "XF2TdRzZ1Fik9Gb6gPwKCq67HC9SRnlVFw7U7JYdBwGwukcZkztwpmAVZLt2c5tXeSt2vJmJuYyH\n",
       "U1nraKUcuCW3UypeTR66G7CsoyL8Qh4qXzQgvJ95s+HGuHWo5sgOl+b2YugBVDmoh2OxzNSz7gAY\n",
       "yGXdmEh47jO1MplRpszn5c0s+eOik1dMGgBR8+hD1TurUq9mj4ipQ31+BmJVbNEiunApSjYLR/08\n",
       "eQCZczTyWCHNr9W+Fp5paSHa8n5Ah8zquKLubHSl3jzc6PWroXsK/9ZNZ+mCNe/eaGOQa/PB8FMU\n",
       "/3rAYEDHXElF4a2UEMTPKwB8DNInzDWNU2GkDj3ceWw1eY6Mgb2f5SY3DNZVXOzPWq7hNO9Ib4Rg\n",
       "z4ECjMbxzu9DvgDS8+yCXJx+y2tWujLVLNGXlET+ptLYQDU04ffdsyu/2Im+jGX2FqBcexnoaqNY\n",
       "R8NvF5FkDsniZhyxBuCNyY2v/zscurWsAlDaBRVtuJJNwB11+MDuHrhrZuxROQwK11XmtC7FgteK\n",
       "wb7IhyuKsrbzCh14Zh82oLBbxV0HPiMYXxph7b1FJVsg0prXsxRGWtrXar6d2pdtwSio9sRRC/+g\n",
       "g6eqRMiwCIvUrjjRn735U6Pfq3ak3rHTcVwHaJwJ1YgnUHQnOanrSMc0U6biabj37zHkWdAJ06JR\n",
       "7pvMJsQ7hTZYXCvf6DgMlfSmKCKayYu3wubqZMjYR8zdEIcltUMZeggowKvyC1QNgVXMd93vBTwi\n",
       "9kUWJfuRmzEi2zXVZ+df+sNDHygn0HLAP24n9kcgdUywwuAz907oXW925bm18xI45fuBnNGFYeCk\n",
       "iZ79OLaZakfKjKVftSJm9QYchN2Bau0gB3ZTAZiqUTMT0wKq9m0q6sbrsgy3xYgJxnpxWiI5z+lq\n",
       "h9xkU5so+SJZfI6SRlQnFJIcMOBRdxCbUxDl2jMKI6uiMiFf7V5lwJ3JsjLpqkddSmOLsvYIILUK\n",
       "yyp3/6iQ4oL2j8iFN7e5AxPvDjHo8i40YwJGHhJuyHQtLlsNmLXUcd8s4tY0J9pO9FCI5tZguWIH\n",
       "KIA5aXCBqkvksxQhMs/vnTGvSKit4yZeLxHfWG2gSXMb5UEhIjV3D4HlFeotNx//iicJsSrgVPgN\n",
       "X+dYpsa6gnL4+4YFgCMczFUCIBfsSev3oTrXhPSIQu/dFUyM4In2GhxTgOA2uU0eaHZe3dbn66QB\n",
       "E3f9TDP0bWjprtcFvwnI5t46utWgfdhx+pm3JWhMUn7bWrzUTQJp3iOttjRpqL571y43Jp6NKERA\n",
       "1U12VFMsNyavRn1CPbsVpD8hRjfOT+gF0mpODnluGwO+TDYqAkXr7yB0+7rJux44DNqOCrdL03X3\n",
       "4an36yKP0322K+Mq4vOC9gniSQLeG4FHTm+PqCuulJYk8I4Havs0FKWyIZ4dg8gWvlsWT37XVGft\n",
       "Gk57Z+FTfcois76INzYnGSuGs7BK4s5iiJ817Uk8YDgVLkJ30ZewU03r1X1GS/BFogXUPqUTUBB9\n",
       "KkIh5JLVlrXBJP8ALAqcI/my+RznUeI/j44ICYRJ4CfROMHlYlbSvI63wZK4FLeFRrBYRZ/i3Xxp\n",
       "NHiY2DZLAbCGbsEpHVrsWfu5BSLxHK2MU3C+GamgiZv9gk9d+WuRsREAx7JioTsGiGxjp7lQfxhx\n",
       "9RtuLoKXeu9jNfYDWgtz63ZKxBWcEfUl9C4bdcejhOUmDuZp7+8Jyr/AbbGS53oYp8BvUNj4l7nK\n",
       "lhaYvZq05F/Ms4NGno8yFU93qcre7YXo4LNtQ13dzdPBeTerJtmLBnLjpvLxHGUCGzJ/HxF9zS6o\n",
       "7xYMA7LEPAT3FSMrwCcu4Ht+t8PTI1u9OW1zJDgdCdRUIf3ncAVO5xbeaatePmapG0BEHYC95iF4\n",
       "s0UL5d2TGuhlvRyb7kBd1tAnjXSpe7KfSil0bVbfAXKuu3CBcWEOrbnvRgKGq0GCkmrbHndbm+g9\n",
       "B9dgzQbfuf8Zzat/VsTGSnNr6quWE2jCIX8Ys3vKiAulacfwb3J2otrSi49vV2pJBbMr3hWQ/omK\n",
       "ADVHp4ZbOLhFqs8pqIFSZ/Vk69jaIHMm7n9aS2WpoPajrpDJdbaRtN+5oQSGLvsqEQOAD/bvjRbF\n",
       "ppmfyipKSVGly9Md05o8Gv4aD4X7v5LwDfMT+YPMRQWDVyaHXjI7oEKv4gsNsm1g0PSvn5NpeV8f\n",
       "UJTyIvAwqhpjnrRFSVDlfA8q5SM8H7eAaeZ+I+TWXGMtWNP7ocqhfYhcVlvIMFoFMAxyIMRXdoTI\n",
       "Coqj6Yhra/QHakiFvB7UYUkJ0rh4TMF/Z5qXTjsLJjyT1ovXs5mmWLeA/0tQzI1D61r1/+nOEZ3p\n",
       "qGMV6xKPJ3FpPdS0DWI1ioMtDdF4cDapUcTREIsQIJFpDkvwqOXqwB7X5sKX6e/0RLi0bKm/D/bF\n",
       "8vc0nP7Pq2dCjXhmQyI9gL6y6WdWjLsCcllM+6p5/ShnCwAt8572u0Dg0XtpwuLaVnz7iOqqqCFm\n",
       "VsnpBdJPuQtJp6+YPQ9UTYvzQbu+/cfwJqbTXGbWiBPlxI1bFkEj1v0OKV/6YImMYyn3OKtVOxcJ\n",
       "CmioH71L7c8Q3lWRaiRx4fyrvLRW4oe3cLPD8RfOFqmNGOdUg7hBevfgmpxVF+PIYGGPyFj5Sghf\n",
       "nv0PkariymA3S/KtCba2GXRgAiIcCwkHARyICAi6caPgpGLTvIIcVKi+lG4kN0LwacAmw3NsIwoW\n",
       "LMLQvIHSSx3xfnLkDN7tzLU0A4VtPU0HwqtKhgQXpbpglcuK45FCWiaiGPhO6MBvY54G6TLeeLgL\n",
       "lkrH50vP11VkLE6koeHr5p3bU8qn+jhhkg7wpP9upntSAqCnB9YpRJgL+GCAJqrvD6nYQ9DgyDZH\n",
       "doAetAUVI0/JElgIsmp+HFTCYq2hNJMVGoNDHhoraMKIHYqvqfVCJaB/8dUjRF7l9H7eNeNz7bkI\n",
       "NqkycUznQbwZq/zwP9CsdWiVZfQyXcjIsuFX6WBDDZvhePSOM6LuCgK1WFZlmf3aA3lTY+1HqL8T\n",
       "WvRozgfCmDOL0lgDy3fU0+Z26jMfcT38SjyITjSbHRBa/fQgTIU9sXY5ANw8claxTGQKTeroUz+M\n",
       "zE8NDY9z9M6PM59F94PEvJbTaqykOPmyvoiDBt6GqN89N1Ug58ab5nFmksJxd1XrjbGV7Agx+Sy3\n",
       "+cpNbJXCZ/9DKn/Oh4XhNNtEFTSpa2ZYFl3G5sFkqy2Yj9TxGOuGlRqQyLuevasIwekUFFUa85xa\n",
       "ue5PaXlXFawXPuK/3Z46Toed+PWLlr0ym1OB1/EFYu4xVccqdj3UAy/8ZrCjTRyFXAjORbiG/Ztq\n",
       "NvD9Wyg4BGMb7rR1gzfnsulW/kpvXUCRaXYgkWmlVnwvDR86id+hfDxhgXAmPl67L4bmw9MutbRi\n",
       "lmxGbHEfbcCf8T5HMZBMjz3ePdcr49PAclSLzDv9ZkYnZZWQHKWD+0ZvcLZMoOWA6eFObg2qT4m7\n",
       "JUxLcTS6UKdojpL5smb1lGgJoQfXLsLBv5KqlVcUSU/1Ltv95O5ZK3pNrFtcvhr8QI5j3Bjs6WBU\n",
       "OMDIY6LVJrtWyl1fK3kxdBr4/Z6A1FlTWggPEggSVJ2dlHkWoYsB3BPQcmGxpqaAgkQ+6Wky6Pv9\n",
       "jlcDr3YLqvPchJkNdAgFgmcgMz8zFVonOOYWZoabFaJuuE0+YFGA0gcEF0qP71at9cZAw4G5/hUs\n",
       "nFoEk5ymVfoek//I+yK0XbHDH03VaHhFihmmAVcUoSdxZoawTI+vgWYVt67RyjfLcUwjIeRPW8I6\n",
       "3Xq7ekU0YPZg92hdRxrztb+HivQ9tmSixCosRhVV+kieBIa5d8iT2oqXVnjSufXR7MyJrZhEmnRW\n",
       "gPdtVyMphLmR1K49QEO9UJdlo6DUYFu+bJhzpaHYrZZmgnEDI7w3N72aczjC4rP5adgG4Rb+kD90\n",
       "cBTJ0nTg0hcQytZp5yThwNKwzr0w8RBRssbjWk5uYUmKsPMSMCNN1zyzXVQnYPEg6UtVoBIHVAK+\n",
       "W9TOvZfj0eFxLd800DH+238QT9Wa6fjU+sGIBMUO6W8uLAvsjq+DE24NGWHWxCYkcuRorWdnxwZa\n",
       "yrR6jg7GvDitWfHqDNNqQOGm4FvwhcNAF4kcL8aoffdFz/5EwljsW4vuG+0fYlDnZJ+Oh5vnodD2\n",
       "vDkcvYo8/eE5UyygSTtBbeuegktwQhqy+0sIukU6FJvu5OgJN4jOK4b1W3RePIn/2USj8ijuE5WT\n",
       "CHR9YXrAyju42wIJy1/d0cxqtHmOhQTZqyoR5j0T8QeA3lqkRim4baLrYQo/nheF+YbqdbtEuJxG\n",
       "dk0jOyq/Wq7ss0sBBETkaJh+UwRLp5iSs5lF/NGI49bFhTdN3Qf85vFLGywKarWgPunG3cWyYSFM\n",
       "pi3/AuqNv7o/F1SWN0LtPZ73r2KbP2iM2dbq1eNgqLxNkzC3zglqK/2T4CgqTGFWKzk17o1CQKj+\n",
       "vHwQsF/QDjYljntiQ+ax46ZlbcTz/ah3LLE0MUrQZdZI6ki26lAe+OASqpnbMljgR6gYvCvRrqib\n",
       "pYt3ZkDjEUZJKHyA0lDrK6gYmGflFusklJpn2sPc9Bi/QHQrvKmysQCJXYVkLfE/ogCXLFY7347d\n",
       "amu9qwDkN090YOmuGBJkLQvT9vYco8ERyGY5K/t3JcrvSdfyMzZTjDgMBvqrkNnw6i2DGLOzSelq\n",
       "okfVDsIdTK2OL3kUaqQPHzOGnLFBvb+69N5449UFrk0cMTlxTpz+r7XeadY+1lc9+EKM7KPj5bGO\n",
       "i/j6lNhGx2mFG9HI+UL26EVPndB00hurNKHQTfIV9ulNTgRbMu9aX/4VHbmtPsfbDWmklckbMkqV\n",
       "OOlv1ERFQ3MJQa/XvUCalGs80gTuNQunUaW2VFjqSWEW47DJoyM3I/6uzIu3cs3khasQ0E54EJrE\n",
       "cAw4zL58/kdiGvL0bvN/f+S4Gl8nQrjUp1ZcS9QuDai2dGdLVeWtw4fbjcB61zyizYo6f1xSuiqz\n",
       "zSJgJmKMQ4jQZKdfMMcnH5e5wRIqZhYd9HJOHw5oQrweQ+/SSnOrUQ+v8rpYsBBf+wRbiyROs1+p\n",
       "IiOjixtdMVvbseBO6FP7U4bzzfiCRU9mcUghgxORFII8HFr+ELT7RL6xP87M+WKVPukKr/eyecVx\n",
       "QlG8e+lqNvTWS46sexN7h6BwcxRYIqzmsaI7pW8yv+kZi87bPXiZEeVej6Q5mwqzwFu0qG5DEZVz\n",
       "spXeEulaFby4ckQU0QjyG7ZaQDWgGidYe5+c39ln4xa7l846qj9F0Jo7UgXgb8n2ovyBUAQTxG8r\n",
       "Opm+EFxR5mM4vzkpFKBmAxVle3KSuUJm3xxcGgxhZHxZd0LbqmRoTaXrF/bu9XkBHamN1vg2jJ+W\n",
       "Osfp739/IQdQOERmdfdAQUilhcnbvzANuHQM+i+wKU+FEQnCERhX0KrjW1MZsTOQ1CjC6clxJ+a2\n",
       "zqGu/hahTOKHsPN9+ayj8ty6KkgeFT/DRloQW5F7o172i6GfUKAYisnxQ4Llg6TfhMVKTHpbSmOZ\n",
       "0x7Wv+5kttQugyKxlC5LuzGX231yB4YMW+5eS8XUJzx15edQHbz4dfVWR/SbVDhpFYnAzNKP7I+h\n",
       "P0YTKJ8+l9izAq1SPYX+uTOT+hFzkXFlAOpsgKyCOmF3CpR3Wf1EDIRgiR2BvyiwPYDNNaQxsNwi\n",
       "p8asWVvl3Ar5FR6LQVJpWHPyczSjznqv84Uut+LYfS+4V8CEw8tGrUrL0et/siJZl3n5812dMB/r\n",
       "FzDaGL+VDjZXJkZzKa7plALiFUyL/cMCx7qUli0V9uck5Kw89hucYRvyOMytOLrZuXvGV/pQ2n3Q\n",
       "ihuPgQZOVeJfok9eDG0UcyLfHTohMck0t0ccnLuvKOCmjvPgJnYTvcrcYX1q++tWG9vpKd8lahfV\n",
       "NKhkm0bXpXOm1+qAIQ5ikvLsmp2CO7hq4EDtMGJJt3pyAVdURABrD49crGiksA0ifjSZphK1ggE2\n",
       "KL3gtPTt92oO7QpcXAqTJhSyutbMeiailPP/Kkale+nFOCLd9lJfN/1VBOuAu/msOiD7hAiiOyi6\n",
       "k7NB6jFP05K5xbMvFsptgVc4h8E9tCdKEE16sMADsXYj7Li3dZhgHCD9V71iXFOHZx1I4ZuVB6dy\n",
       "dw6pkLRmpdnSu45g47NRA9dguAJjo0FEzLl+l1NaxGWu68MZtICJr6pdFUddL/93I7v+cpdfZld4\n",
       "1mbd5NB8MyFWhyTfj2nSqO5oa7eKNNz3BLpLMr7616UxGk3K38l7Pdic+smA41YJxarvNDYDiBad\n",
       "Ki4z8Yd8HTq7BY43UQ8IDSPMTdBDYgkO3TFy6zGmIviN2yBn7OXRpZf7tD/kZzqtOJ6ehIrpnInO\n",
       "xu022fzUPc6JJewD7ePAWl2U9mevlYYh7U4UxoR3ZT6hKyGJvwMUQ8hb8P256cktg0xmGWtHDDks\n",
       "6XNTxcLSNmZ/adLqXsD9xzvwn1DhFtyuczahG7jrf3OChhxyjr5B+vUGhFbnWzANoq/t/8pm8v7U\n",
       "PL2HXNgRAIE90GUUJmVAOKIUNdkBnRfxL6QUcu0+TT6LcKPnPZ4iznPazbINYUT7428IDR+nKgAD\n",
       "SmeXz2q8deowUA/cTnY+C8YfTln5BQFxL4m6NfME+8hJyiuwYvJHqpvMjQfF6ITSja4+YoilBP8N\n",
       "2ReHrtjRcAFfFnlyxBZOTrr+1xS6ptPkJ7zd/8VuIP3E3W/EgksADRKqQAWtn5WSw4EDzxN0XK3B\n",
       "mg395VN1X12K+qG9ndQOoVvpX2LnIJKzRU2j5MrfbnElLcB/uyPT2pIpPnbyLEKw3Ined9BrnJKa\n",
       "pUgV+H/tfmdx+g9rgC+Mn/GQIaNKU/AqcI+Q3NXjatDf0IYym2FfVkF7kJpNAVhjtkkCrxZbYCqC\n",
       "/KcYKbyNeM69pYz2ZNdbyfSL+/W9I/BCPjYB/p+BmwSqoRADjgG9fWyx2SEu/yQsyWEgSTMm+ct3\n",
       "vVj/T/nttfkpQiEF76C1kgy1idX84ZOx5E804VW2+Qc58IMlOEWnizvR674yfW106M4cWho5IN/x\n",
       "zobLbctX9X4I4qvk/7u1iMYLzSqiYTFmlZtM+Bt5TV0uuu+FoeHm558yuG5eQuVlQHkQqzD4G3FZ\n",
       "rf7wj6uIgObcnVkEwDWr0FeC7dvfh21pAJSnkWKgtgUjdQKLoKChxuTfDoFNi8/AqScjElVZDcVt\n",
       "VnpR1V7vcUrtmOzDgvw+Wo8VRNxDN+Iun0FTsXMr6xOEMS45RmX0TA23yOa3LKlkKDDXS3WdKYlg\n",
       "ukMTEBEzIBHIYZL7/7ppczrAL5QehxzX5+5F7MWYWqBbeBMSEs36VnV4RJKl+hd0sG1DrmkeYClD\n",
       "JXyIbnFUD8lQmaZrbD7F3Q4tiLeMeINVUr2h8mhARP8G6F1iVpAVwyX5yxZsYgxGkP0i3WTE7ojR\n",
       "BXny6idI08uNBWVUmCzzQmVX9qOW8iMwDfVSFEI+PpWwKV11BAvO+tDCuVXyi+SkxjESjTkApG55\n",
       "JebHkgT8zzqo64jmgqVauT/DfGcIiAM2sq2o3xYlt+8f+YBJnErfR6NG7mY4SUupTADhAg+447ED\n",
       "D1hSgyQccRqIYlwVPBIrQN1NOmug2/6Hl0rGMj3zTO29EPfxwQ8cDE0pcBMADBH+kzFtMx08KOhw\n",
       "Bt3N35//8I+wzb64X0fQajgxaThceEtdjbjydA54oYIrv5Vp5/Ze0qmBL9yf5+T2c5GnqVOe/pR0\n",
       "nzRhbCxPmIA5g8axBtaAcLn8ulxugXiIC+NBfWs1IUPtLNyuRhz6OkkUXcXP7qd+fVUBoAfsHtdd\n",
       "nPdsv8J8wOqANdmBntlnOTBd885WX7B+XBYHkMjyRxZMs1dEmpV4r2kDSPXrSMK8UyzjWYszZle5\n",
       "5PIU/HJkdJOzymzTxYjOw/NkNM3dWEznymUqMTSDU9Jq7hNJ/e28+jwz+dWYAYRbeE8JMDy8FMOp\n",
       "88WBegv0nGuj/pN71dew168BNyW0ekAhooHPjRabUrK4AlUdNGk73radSYremLKeEnPnya8hRkMG\n",
       "PDhM3655lb3qbp9ypb8DOFUo0QicggLOndpkBsR5lCvzcn1tMH+M+Wj1R1ExOd628+8moeJ5jT9J\n",
       "YEIXtCOBQwmPg3bMK6n85Bws9I1WU5mC38LwprzcfllpB5CqBNo/4ggGLDW7WSkKETs/v4qP9qOU\n",
       "7Z2PgUgJqh7BTq1ebBz7XaN1YDQ/p5FiGXFzsEzpqCZUweKr+lMMBWpDdeLKTVpG5T5ktiRnnDQz\n",
       "phIDCEJQSU0iXSusLdtxFQq0vp2ErgPYwg8qThwMb593OWOTD6KnPxvlYl2dOoo7M9O0V2uecZyx\n",
       "wurasENNj+/Z7v5RrwbcVzqLB9VoFPb5nmbBxmOzdL1rdjaf5X9yP/pr5/cYB0ynti0NQAykam67\n",
       "j7jiiRXoR3TfrWxVkB6HcR/dCUSybVsBEgLugaTsaNvBUoE9n+uZjKRM8AOOqZZ2yZ4gM0CBNQHB\n",
       "T66Q8nb6w5VMYGypViv3GF0QWsFYGpgtk9DySQ3mMn64u8Ka9KC4fX73zlRALVh1jxQfUn8m9Jw7\n",
       "Hv7KFJkEcxNhSL3zvefiqsD6WcRrN1sq33kdx/vwhzT4nNBdLlav0OU9kgST1VSiJaendIlchd9r\n",
       "gKBE2dJhloc3JG3BtK/niM7TZ+CykQgbcQy6AS3yTcBBAjk7HH5jRq8MttZl+iT6IxJKlztLUJQk\n",
       "Xf+yvLjAobdF5FJw4OoPzSTsGwB2K8zns3XWPvuysG157uu8ugQgJ37R6yI/Y8lYQ6NtPPaWzwzO\n",
       "YxU8LNr18b4ZL77pIi7RaiZtC8Es6GysHvM4G1rek0exF9Xo19T9NGIKlVqcg0mXmopkVVvolEYZ\n",
       "4NCpOUXcpR432eUgLCqYFmnEGvZ9Fm7YHYHplc3ikzSsNDnsRmXkx0m/ZT7xk6W+Nnoa6R86sjLB\n",
       "l8JKi/1K03qIXHYUYFvPHBfKYuE9HrDrLWvFkhe0PV8mqI+MV5aimbWGvN26xCFcy01Pf/o/OfiT\n",
       "sM4uYgguPm+WkJ114c+GrPkNyZFZ8BYnUOjsbGg01lPDj3Yxjg5B3phN2c2IEd6KJlj1aME0fkBC\n",
       "Kg4ULkWKb9UCmieFFY15l455PSMpPu2bw9US1QJRSSuww81Pqbv7AOjlShbcfBBFscj0BRHG2mX4\n",
       "gJN4COTvuzs0/FzJdS2NBNiGQo6w9l7WAw8GIX0MRDYty/gGd20+jvpeVrGq3l6TYawxhFZqoe/T\n",
       "vvQjjb0ixoJvXOqbQoWHsvRB+Wdr/wbrED1nMPYKny/+5a/dwSV9CTRURM7jrIYixJsKTk4o0oDB\n",
       "1gVJn8ryF/q0Hzgz2l4u9gH7nyc1EZbTmTrNS99zzW+Suq7QiD7El+gxapJnh2XktDRATaAnmjgc\n",
       "uq179V+XZw8bzNXducOxk8eee7P9Qqf7fG0crlz+Dyfq+mzSr0XDZQgOapD6N0kqW1ZBrhs8UGPk\n",
       "S2N5fHAg2UgpdCvOoa/7G3Z4v224LXZOhgNQ9zmsy6NQaJ8m17Z6MFyaNflv5+yRL+Qs+8P5u1hj\n",
       "ZMUQFPcxVHn7m5Tt8Rsw0DtM+TftCqRGr/JO6vPnbg9BpyaGKsgyr5oaz0+kLLF2kGSCUk65yPSG\n",
       "VLxkV1cCyYjCzI8cfY5Ql4S+jWM/mdzskoJ8KRzvZnKSAlN0ZrYKj6k4Q76y7Bg+2126mqfMSAiI\n",
       "tJXf5PwI3F+hHgGtpC7DaelDciu022q6XM+L3vkAwcVYq4kUEDsCYWFX/uooSETbGvA6JTo/B+kO\n",
       "cCVuirKpVL6wY3bFLO9GdgtuPYx94hE2JxJjclHZNN83fAOazjQqGF2PmkD6eQ3Ou0uaMJKB+X+O\n",
       "p8/YvKDHfr9ogIAXJm085TGhAroSisSJ5D8WGpKnspYwq7G780Ls24Q4MA67f3fWyw3RBg4W05NR\n",
       "QBeSXHBvnQX/j1gRHivFNVtZDdplVH0EbHsbpY42bnaJ7NI7v6Q6/rHafNVuvV8fnFiPxoP1cZDU\n",
       "RROn3ZMZclq1Y99wMmAE+gWn+6mD/5g05hcn4dERde3YOaXHZP4WiO2kcI9uvJ5NCDm+vi+sMRlz\n",
       "Yq1QhLEbu//+Xb8e1960HMwTELBD50b33hzrvvUGBQziqI4FmmAH5brQna4nfcECfvdDJ3ixGy4i\n",
       "woxK5u2D+uvdIs8sTszHwjS9/7JIbiPrDIikaCj69YpBS+o9pSg0wWfB5dcKr4dCFgRh81SEHZIL\n",
       "Atj5uXkTPa1eV7hm8RJaC3DUR404GddAQZAGH7sLaDCCdkiOJLKdE4/svIEACO+YiiABaRPGKC0H\n",
       "28i5AAABv0GaJGxDP/6eEANz7HggpfwBu86G8kVPZnTC+oDU3XmGtlkuyD1T54xR7B3ssM2m3KlE\n",
       "+iwCakesV45NqgdCLEqz+Ko4ebhWm2/CTPD/iNmRIdaKTC8W7YnA8tjx69lX+Mdh1cO96qChHAqd\n",
       "ni2Qtx/wegw4/0soTqpYMq8hIALrXg4A+dXUNqfJVW/2gA1w5MKKoRvnRjn5E64FlBBnbQDZHtsS\n",
       "i5YlNDSITIoK2jQL/WZxPJ37fQ94To8SCcPmr8Yks86x8X3zWBQlVezyKq06/1pCdkmQEiQrmjoU\n",
       "xbiA+EntAJeCVYuGk1Ir7PNUC2coR+8erQL1SgJykOhiJsrvCpkZt2UUveiet+gaacLsv5+QEVoG\n",
       "dDNiJTCclMAT00F2hY5LdhLwe8hCS84iWenUwyGk5xqes7atxfu4yCmYPCccBh3WtaocO3ak0/0M\n",
       "43r+zheFirooD2FV9M/HOA926kprfP2+MQZVycWyOiRvBGaOb5TNPCsk4qe1qvWRtbLUrJnzsxst\n",
       "w2icx3xCNdcBOHVRaFnPlfdcAqH2KBia4nZaqHxkp2fQZgNbYvFFfW3B/9XQnzl/uyXgQPxnwAAA\n",
       "ACxBnkJ4hH8BGlFQhtqeu/EOEcYEMTgTrYdCOujVW8v/0lNJExbqxOrjnU07/QAAACYBnmF0R/8B\n",
       "xIo2ktK1iNkIKLmybFj6NE2IOczzLoxVLbeYgU8CDwAAABIBnmNqR/8BxYAaWFsWDoU4dsoAAABI\n",
       "QZpoSahBaJlMCGf//p4QA3PseFdC71WuGLAFNaNqstvZfqzemkRNEvQWD1uWJ7cr63VezXVl8yvQ\n",
       "NVq/HAqpvv/HnOjZVR7AAAAAHkGehkURLCP/AR2Bm46htSAAJnJfIXZyWfqcUMRnXQAAABEBnqV0\n",
       "R/8BxIp+XKcskOpqTAAAAA0BnqdqR/8AAN/7nhQZAAAAW0GarEmoQWyZTAhn//6eEACjZQcABqyI\n",
       "zWgbeNFrJBi/B1iNCsnMcWvCau+15dFRdYp1L5SnHFJsoyzoff+rVRsSvCT00WETRZJEH4GfJmW2\n",
       "ZZ8eMq2dfnTgUEAAAAAbQZ7KRRUsI/8ANX93yUIATt3JQOhytXe6LgaBAAAAHgGe6XRH/wBWRBL/\n",
       "iAEmm9NYx1cwt+0YRxH35MCZgQAAABEBnutqR/8AVnLmg0OMNlVmDQAAAE5BmvBJqEFsmUwIZ//+\n",
       "nhAAqPu9O1KADljZcO/JkwPneSt4BNzM/1BPVnUQZQo84kklATJg/SyUCQ3hFHqY/7Y1z9sCIrlS\n",
       "HdPyNx08W4kAAAATQZ8ORRUsI/8ANgTV23h15XRO8wAAAA8Bny10R/8AVkUm10RKuvMAAAAWAZ8v\n",
       "akf/AFItxQAWi4PHUcon4kUjnQAAAFNBmzRJqEFsmUwIZ//+nhAAnyRRDgCXM3+LrAinlHtmBhJU\n",
       "SNmJWDKUevGVOG5NcUdViLi3/NQuT2bHrQgQOUIPJHuBC2o7jEgyjRpzZmrEcXVBgAAAACNBn1JF\n",
       "FSwj/wAzsx8gBtCjhwVaGct/QrFfH3NL4uhXB1L1gAAAABYBn3F0R/8AUi3FABdK1pvlkTuF59QN\n",
       "AAAADwGfc2pH/wBR81ic1NtDbQAAABhBm3hJqEFsmUwIZ//+nhAAACKbEnHDA4EAAAAPQZ+WRRUs\n",
       "I/8AAI0oqJFcAAAADAGftXRH/wAA4kUygwAAAAwBn7dqR/8AAOLAAZsAAAApQZu8SahBbJlMCGf/\n",
       "/p4QAE91n+4ApmrGO4Max6Wni6HZGpV2rwRAyoAAAAAPQZ/aRRUsI/8AAI8VAFbAAAAADgGf+XRH\n",
       "/wAo/oy6IczbAAAADgGf+2pH/wAo6gD75R1dAAAAE0Gb4EmoQWyZTAhn//6eEAAAB00AAAAPQZ4e\n",
       "RRUsI/8AAI8VAFbBAAAADAGePXRH/wAA4kUygwAAAAwBnj9qR/8AAOLAAZsAAAAsQZokSahBbJlM\n",
       "CGf//p4QAFGgeFcnABUr/KlyLtNgcxhuLMPuDOcqyKIgYsAAAAAPQZ5CRRUsI/8AAI8VAFbBAAAA\n",
       "DAGeYXRH/wAA4kUygwAAAAwBnmNqR/8AAOLAAZsAAAAyQZpoSahBbJlMCGf//p4QAFGzj3ADkwNu\n",
       "keDYvCZqo4js7WWKjPjovsf3j1ncO+fg6YAAAAAPQZ6GRRUsI/8AAI8VAFbBAAAADAGepXRH/wAA\n",
       "4kUygwAAAA4BnqdqR/8AKgoA92UdXQAAACFBmqxJqEFsmUwIZ//+nhAAT3WbgAERhzh7uHnCm/lE\n",
       "DKgAAAAPQZ7KRRUsI/8AAI8VAFbBAAAADwGe6XRH/wAo8a4+3EZtgQAAAAwBnutqR/8AAOLAAZsA\n",
       "AAAdQZrwSahBbJlMCGf//p4QAFGze8AEaXHxcKnFg48AAAAPQZ8ORRUsI/8AAI8VAFbAAAAADAGf\n",
       "LXRH/wAA4kUygwAAAAwBny9qR/8AAOLAAZsAAAA/QZs0SahBbJlMCGf//p4QAFHCMjsAXkwRGPD0\n",
       "MqTHFno8Vd1neZxiVhl8f7pNJ85VIRevaBdH5rWeF4/5MFTAAAAAEUGfUkUVLCP/ABnJkBKev45w\n",
       "AAAADAGfcXRH/wAA4kUygwAAAA8Bn3NqR/8AKgmny8Z4vuMAAAAlQZt4SahBbJlMCGf//p4QAE+M\n",
       "P2QAQ78KnVlvFocPlLupcWDpgQAAABFBn5ZFFSwj/wAZwp2ejP45wAAAAA4Bn7V0R/8AKOLkuidd\n",
       "XQAAAAwBn7dqR/8AAOLAAZsAAABHQZu8SahBbJlMCGf//p4QAE/vnaywBDzX8gCvqK3A0sAILF71\n",
       "tHuI1rmsYk+VQXSZ81l6OgIbfiqVYiyvF8yFLsJuQDFgZUAAAAAdQZ/aRRUsI/8AGaDMIAAExn0v\n",
       "10EoYwBRKeDeBoAAAAAQAZ/5dEf/ACj+X4HHfqS7jQAAABgBn/tqR/8AKPtMwAGz9qxifO+hrxZj\n",
       "7jAAAAA9QZvgSahBbJlMCGf//p4QAE24vlPan+PQAc1vs1du9Fi5weDb6lZ//4N2rSgW+ezJrGTL\n",
       "0CXZ6CIvahEDPwAAABtBnh5FFSwj/wAZDaFyxcABc/aBYY7W9kO6hXUAAAASAZ49dEf/ACfa5q9P\n",
       "41tk6azAAAAAGAGeP2pH/wAnz3NYAbrasA9np/R91hrNZwAAAEBBmiRJqEFsmUwIZ//+nhAATUuC\n",
       "tIAzJrPYQ+6VeCEtLA5wtURAZIWzSLMSD8LwwyQDsnAxTr+9+rXYmIRBYO6AAAAAEUGeQkUVLCP/\n",
       "ABkinZ+r0eA1AAAADAGeYXRH/wAA4kUygwAAAAwBnmNqR/8AAOLAAZsAAABYQZpoSahBbJlMCGf/\n",
       "/p4QAE9zk+QBUes7u+fL1nKuGlqITSaoigkX3spYShBvvax07IHzmv6+tj2NqeIMKeth7n6gIfmY\n",
       "bUW0715lmJ0y8isBc7T8WfBJwAAAABFBnoZFFSwj/wAZIp2gxP45wQAAAA8BnqV0R/8AKP5fgchC\n",
       "/uMAAAAOAZ6nakf/ACjqAPvlHV0AAAAdQZqsSahBbJlMCGf//p4QAE91m4ABdllhJHlEDKgAAAAP\n",
       "QZ7KRRUsI/8AAI8VAFbBAAAADAGe6XRH/wAA4kUygwAAAAwBnutqR/8AAOLAAZsAAAATQZrwSahB\n",
       "bJlMCGf//p4QAAAHTQAAAA9Bnw5FFSwj/wAAjxUAVsAAAAAMAZ8tdEf/AADiRTKDAAAADAGfL2pH\n",
       "/wAA4sABmwAAAC5BmzRJqEFsmUwIZ//+nhAAUaB4V47AESqC5wk5GhXEMcwmT5cn+mSAJVzacFBA\n",
       "AAAAD0GfUkUVLCP/AACPFQBWwAAAAA4Bn3F0R/8AKh6Mt6HM2wAAAA4Bn3NqR/8AKgoA92UdXQAA\n",
       "AB9Bm3hJqEFsmUwIZ//+nhAAT3WbgAFtutWt68XpOCkhAAAAD0GflkUVLCP/AACPFQBWwAAAAAwB\n",
       "n7V0R/8AAOJFMoMAAAAMAZ+3akf/AADiwAGbAAAAE0GbvEmoQWyZTAhf//6MsAAAB1QAAAAPQZ/a\n",
       "RRUsI/8AAI8VAFbAAAAADAGf+XRH/wAA4kUygwAAAAwBn/tqR/8AAOLAAZsAAAA0QZvgSahBbJlM\n",
       "CF///oywAFKssx8AFh9ShNrveaoZN+Tsa8/s4jpXzW4IVJVXut+E10DugQAAABFBnh5FFSwj/wAa\n",
       "aZAR/r+OcQAAAAwBnj10R/8AAOJFMoMAAAAMAZ4/akf/AADiwAGbAAAAUkGaJEmoQWyZTAhf//6M\n",
       "sABUs3hgCtUTeTaDANBmrS54SaKN9FNDzt5dn1TTE6ixtlXxySCP9Wtqn/yQAeDm5Fl9aY7V5cmQ\n",
       "gMuvjOLvV+szQd0AAAAaQZ5CRRUsI/8AGwmARS4AQm1h0jw5LmRmuc8AAAAYAZ5hdEf/ACo/vMAD\n",
       "Z+VhywR/nuC8+oGhAAAAEgGeY2pH/wArFdnoDFuDi7aCzAAAADVBmmVJqEFsmUwIZ//+nhAAU/NB\n",
       "4ArVKnx1xjqgRTuzs6tuqMayhfPS5A3516I7pZdhdFg3oAAAADRBmolJ4QpSZTAhn/6eEABT5LS4\n",
       "PGQnrnAFbXJQMs7uyBOMldC5I5gIrHpQx0Q5J1+EFg3pAAAAFEGep0U0TCP/ABrO8Zsz0aG5x4DQ\n",
       "AAAAEgGexnRH/wAqlYFlvrMLVBGOcQAAAAwBnshqR/8AAOLAAZsAAABjQZrNSahBaJlMCGf//p4Q\n",
       "AFPzQeAOYep5xNv42vhxVcrAN4/p7aoJO866BxhNyN4o3MlGIMaD5YoNadjqAcESPgheXl92KPNV\n",
       "5cobCCnZ/nvA+FehBVtaeSMFL1J/WUoOfBFxAAAAHEGe60URLCP/ABsaXIATV3pervZPTcvJt2Hg\n",
       "V0EAAAAXAZ8KdEf/ACtTHAAe44I4Q+wtSil4OcEAAAAQAZ8Makf/ACspp8vDjuq7jQAAAENBmxFJ\n",
       "qEFsmUwIX//+jLAAUnXtuADiPvBt+34fvmX8JxYZ3eia0IyJ3Wev6zLsDji4DrrSy7PANRut8Suf\n",
       "idY6zCLgAAAAG0GfL0UVLCP/ABpEf/EAA9z1GXfPWm+FY6vm2AAAABEBn050R/8AKc/LKXBT2xxw\n",
       "aQAAAA4Bn1BqR/8AAN/7nYyvzAAAADlBm1VJqEFsmUwIX//+jLAAUnLu2AIOFb02PsgSch4V2g0L\n",
       "6J18T1TOa8GYB7tCl70HcDGVvV18HdAAAAAPQZ9zRRUsI/8AAI0oqJFdAAAADAGfknRH/wAA4kUy\n",
       "gwAAAAwBn5RqR/8AAOLAAZsAAAAxQZuZSahBbJlMCF///oywAFJy7tgCJCaYIK5TUiTBM20d3+aH\n",
       "wbQcgAhf8asczswi4AAAABhBn7dFFSwj/wAaY+IgATt18W8jTkZxANAAAAANAZ/WdEf/AADf+54U\n",
       "GQAAAA0Bn9hqR/8AAN/7nhQYAAAAKEGb2kmoQWyZTAhn//6eEABRsr44AiY2/b85Dw1j61LA8z1R\n",
       "HS4LAxYAAABXQZv+SeEKUmUwIZ/+nhAAUZ3+CPMYARMJR9ILmu718kG4yvqIPnKKFAjDKnStflT0\n",
       "TmkWerS3mfoLF+QwgbkJakYw3qzebCNLwjvysHh3TicSHlM/JgqZAAAAHEGeHEU0TCP/ABpjZSAD\n",
       "8TDbHAPz9o0bnLOwgGgAAAAZAZ47dEf/ACozHAAaojU/OCbXPWEt9s0SYQAAABEBnj1qR/8AKgmn\n",
       "y8WO6n7WDQAAADpBmiJJqEFomUwIX//+jLAAUnH6MAK5bR3HChhE6NeCdGtODBTPSb/zsbbDYAWw\n",
       "7rYHL4/UQ/vSZoPSAAAAFEGeQEURLCP/ABppfrn6FjDe1TmBAAAADAGef3RH/wAA4kUygwAAABAB\n",
       "nmFqR/8AKgoQT7nhVyarAAAAK0GaZkmoQWyZTAhf//6MsABScp0ACKuXh7DV4m7VN12l61egryKJ\n",
       "Z8OMwi8AAAAUQZ6ERRUsI/8AGjBoDKYorRxXRcAAAAAOAZ6jdEf/ABRxcpInXV0AAAAOAZ6lakf/\n",
       "ABR81m3wiOcAAAA7QZqqSahBbJlMCF///oywAFJx22AIQjg+1b43R/gAnpPa1H/zRUq7DbJJrc8E\n",
       "01ktkGTh7lWRMZmg9IAAAAASQZ7IRRUsI/8AGcmPqD8oy5PNAAAADgGe53RH/wAUcXKSJ11dAAAA\n",
       "EgGe6WpH/wApexn8AH8KcIEouQAAACRBmutJqEFsmUwIX//+jLAAUDLu2AFrczYxQw2IiTaTb+gQ\n",
       "wakAAAA7QZsPSeEKUmUwIX/+jLAAUDKdAAXGKh+fuk7pTiBzHRhsmdIbOmI05mtD4TwCV+YVLXyE\n",
       "ggFSSbCGDUkAAAAZQZ8tRTRMI/8AGcNlIAP2+zcSrRiGUONPcwAAABgBn0x0R/8AKOQSYAQl3bdg\n",
       "/4L2p6mjM5gAAAAPAZ9Oakf/ACjqAPncFobYAAAAKUGbU0moQWiZTAhP//3xAAL6qN4gBWp7yCKy\n",
       "DxZ/FosdyNnHX8UiARoRAAAAE0GfcUURLCP/ABnCnCZdmIdqnMAAAAAOAZ+QdEf/ABRxcpInXV0A\n",
       "AAAMAZ+Sakf/AADiwAGbAAAAHUGblUmoQWyZTBRMf/yEABJOk2AA/nNBU0ldKhlRAAAAEQGftGpH\n",
       "/wAo+arvwYmu+/eZAAAV6m1vb3YAAABsbXZoZAAAAAAAAAAAAAAAAAAAA+gAAB9AAAEAAAEAAAAA\n",
       "AAAAAAAAAAABAAAAAAAAAAAAAAAAAAAAAQAAAAAAAAAAAAAAAAAAQAAAAAAAAAAAAAAAAAAAAAAA\n",
       "AAAAAAAAAAAAAAAAAAIAABUUdHJhawAAAFx0a2hkAAAAAwAAAAAAAAAAAAAAAQAAAAAAAB9AAAAA\n",
       "AAAAAAAAAAAAAAAAAAABAAAAAAAAAAAAAAAAAAAAAQAAAAAAAAAAAAAAAAAAQAAAAAGwAAABIAAA\n",
       "AAAAJGVkdHMAAAAcZWxzdAAAAAAAAAABAAAfQAAAAgAAAQAAAAAUjG1kaWEAAAAgbWRoZAAAAAAA\n",
       "AAAAAAAAAAAAMgAAAZAAVcQAAAAAAC1oZGxyAAAAAAAAAAB2aWRlAAAAAAAAAAAAAAAAVmlkZW9I\n",
       "YW5kbGVyAAAAFDdtaW5mAAAAFHZtaGQAAAABAAAAAAAAAAAAAAAkZGluZgAAABxkcmVmAAAAAAAA\n",
       "AAEAAAAMdXJsIAAAAAEAABP3c3RibAAAALNzdHNkAAAAAAAAAAEAAACjYXZjMQAAAAAAAAABAAAA\n",
       "AAAAAAAAAAAAAAAAAAGwASAASAAAAEgAAAAAAAAAAQAAAAAAAAAAAAAAAAAAAAAAAAAAAAAAAAAA\n",
       "AAAAAAAAABj//wAAADFhdmNDAWQAHv/hABhnZAAerNlBsJaEAAADAAQAAAMBkDxYtlgBAAZo6+PL\n",
       "IsAAAAAcdXVpZGtoQPJfJE/FujmlG88DI/MAAAAAAAAAGHN0dHMAAAAAAAAAAQAAAZAAAAEAAAAA\n",
       "GHN0c3MAAAAAAAAAAgAAAAEAAAD7AAAMiGN0dHMAAAAAAAABjwAAAAEAAAIAAAAAAQAABQAAAAAB\n",
       "AAACAAAAAAEAAAAAAAAAAQAAAQAAAAABAAAFAAAAAAEAAAIAAAAAAQAAAAAAAAABAAABAAAAAAEA\n",
       "AAIAAAAAAQAABQAAAAABAAACAAAAAAEAAAAAAAAAAQAAAQAAAAABAAAFAAAAAAEAAAIAAAAAAQAA\n",
       "AAAAAAABAAABAAAAAAEAAAIAAAAAAQAABQAAAAABAAACAAAAAAEAAAAAAAAAAQAAAQAAAAABAAAF\n",
       "AAAAAAEAAAIAAAAAAQAAAAAAAAABAAABAAAAAAEAAAUAAAAAAQAAAgAAAAABAAAAAAAAAAEAAAEA\n",
       "AAAAAQAABQAAAAABAAACAAAAAAEAAAAAAAAAAQAAAQAAAAABAAAFAAAAAAEAAAIAAAAAAQAAAAAA\n",
       "AAABAAABAAAAAAEAAAUAAAAAAQAAAgAAAAABAAAAAAAAAAEAAAEAAAAAAQAABQAAAAABAAACAAAA\n",
       "AAEAAAAAAAAAAQAAAQAAAAABAAAFAAAAAAEAAAIAAAAAAQAAAAAAAAABAAABAAAAAAEAAAUAAAAA\n",
       "AQAAAgAAAAABAAAAAAAAAAEAAAEAAAAAAQAABQAAAAABAAACAAAAAAEAAAAAAAAAAQAAAQAAAAAB\n",
       "AAAFAAAAAAEAAAIAAAAAAQAAAAAAAAABAAABAAAAAAEAAAUAAAAAAQAAAgAAAAABAAAAAAAAAAEA\n",
       "AAEAAAAAAQAABQAAAAABAAACAAAAAAEAAAAAAAAAAQAAAQAAAAABAAAFAAAAAAEAAAIAAAAAAQAA\n",
       "AAAAAAABAAABAAAAAAEAAAUAAAAAAQAAAgAAAAABAAAAAAAAAAEAAAEAAAAAAQAABQAAAAABAAAC\n",
       "AAAAAAEAAAAAAAAAAQAAAQAAAAABAAAFAAAAAAEAAAIAAAAAAQAAAAAAAAABAAABAAAAAAEAAAIA\n",
       "AAAAAQAABQAAAAABAAACAAAAAAEAAAAAAAAAAQAAAQAAAAABAAAFAAAAAAEAAAIAAAAAAQAAAAAA\n",
       "AAABAAABAAAAAAEAAAUAAAAAAQAAAgAAAAABAAAAAAAAAAEAAAEAAAAAAQAABQAAAAABAAACAAAA\n",
       "AAEAAAAAAAAAAQAAAQAAAAABAAAFAAAAAAEAAAIAAAAAAQAAAAAAAAABAAABAAAAAAEAAAUAAAAA\n",
       "AQAAAgAAAAABAAAAAAAAAAEAAAEAAAAAAQAABQAAAAABAAACAAAAAAEAAAAAAAAAAQAAAQAAAAAB\n",
       "AAAFAAAAAAEAAAIAAAAAAQAAAAAAAAABAAABAAAAAAEAAAUAAAAAAQAAAgAAAAABAAAAAAAAAAEA\n",
       "AAEAAAAAAQAABQAAAAABAAACAAAAAAEAAAAAAAAAAQAAAQAAAAABAAAFAAAAAAEAAAIAAAAAAQAA\n",
       "AAAAAAABAAABAAAAAAEAAAUAAAAAAQAAAgAAAAABAAAAAAAAAAEAAAEAAAAAAQAAAgAAAAABAAAF\n",
       "AAAAAAEAAAIAAAAAAQAAAAAAAAABAAABAAAAAAEAAAUAAAAAAQAAAgAAAAABAAAAAAAAAAEAAAEA\n",
       "AAAAAQAABQAAAAABAAACAAAAAAEAAAAAAAAAAQAAAQAAAAABAAAFAAAAAAEAAAIAAAAAAQAAAAAA\n",
       "AAABAAABAAAAAAEAAAUAAAAAAQAAAgAAAAABAAAAAAAAAAEAAAEAAAAAAQAABQAAAAABAAACAAAA\n",
       "AAEAAAAAAAAAAQAAAQAAAAABAAAFAAAAAAEAAAIAAAAAAQAAAAAAAAABAAABAAAAAAEAAAUAAAAA\n",
       "AQAAAgAAAAABAAAAAAAAAAEAAAEAAAAAAQAABQAAAAABAAACAAAAAAEAAAAAAAAAAQAAAQAAAAAB\n",
       "AAAFAAAAAAEAAAIAAAAAAQAAAAAAAAABAAABAAAAAAEAAAUAAAAAAQAAAgAAAAABAAAAAAAAAAEA\n",
       "AAEAAAAAAQAABQAAAAABAAACAAAAAAEAAAAAAAAAAQAAAQAAAAABAAAFAAAAAAEAAAIAAAAAAQAA\n",
       "AAAAAAABAAABAAAAAAEAAAUAAAAAAQAAAgAAAAABAAAAAAAAAAEAAAEAAAAAAQAABQAAAAABAAAC\n",
       "AAAAAAEAAAAAAAAAAQAAAQAAAAABAAAFAAAAAAEAAAIAAAAAAQAAAAAAAAABAAABAAAAAAEAAAUA\n",
       "AAAAAQAAAgAAAAABAAAAAAAAAAEAAAEAAAAAAQAABQAAAAABAAACAAAAAAEAAAAAAAAAAQAAAQAA\n",
       "AAABAAAFAAAAAAEAAAIAAAAAAQAAAAAAAAABAAABAAAAAAEAAAUAAAAAAQAAAgAAAAABAAAAAAAA\n",
       "AAEAAAEAAAAAAQAABQAAAAABAAACAAAAAAEAAAAAAAAAAQAAAQAAAAABAAAFAAAAAAEAAAIAAAAA\n",
       "AQAAAAAAAAABAAABAAAAAAEAAAUAAAAAAQAAAgAAAAABAAAAAAAAAAEAAAEAAAAAAQAABQAAAAAB\n",
       "AAACAAAAAAEAAAAAAAAAAQAAAQAAAAABAAAFAAAAAAEAAAIAAAAAAQAAAAAAAAABAAABAAAAAAEA\n",
       "AAUAAAAAAQAAAgAAAAABAAAAAAAAAAEAAAEAAAAAAQAABQAAAAABAAACAAAAAAEAAAAAAAAAAQAA\n",
       "AQAAAAABAAAFAAAAAAEAAAIAAAAAAQAAAAAAAAABAAABAAAAAAIAAAIAAAAAAQAABQAAAAABAAAC\n",
       "AAAAAAEAAAAAAAAAAQAAAQAAAAABAAAFAAAAAAEAAAIAAAAAAQAAAAAAAAABAAABAAAAAAEAAAUA\n",
       "AAAAAQAAAgAAAAABAAAAAAAAAAEAAAEAAAAAAQAABQAAAAABAAACAAAAAAEAAAAAAAAAAQAAAQAA\n",
       "AAABAAAFAAAAAAEAAAIAAAAAAQAAAAAAAAABAAABAAAAAAEAAAUAAAAAAQAAAgAAAAABAAAAAAAA\n",
       "AAEAAAEAAAAAAQAABQAAAAABAAACAAAAAAEAAAAAAAAAAQAAAQAAAAABAAAFAAAAAAEAAAIAAAAA\n",
       "AQAAAAAAAAABAAABAAAAAAEAAAUAAAAAAQAAAgAAAAABAAAAAAAAAAEAAAEAAAAAAQAABQAAAAAB\n",
       "AAACAAAAAAEAAAAAAAAAAQAAAQAAAAABAAAFAAAAAAEAAAIAAAAAAQAAAAAAAAABAAABAAAAAAEA\n",
       "AAUAAAAAAQAAAgAAAAABAAAAAAAAAAEAAAEAAAAAAQAABQAAAAABAAACAAAAAAEAAAAAAAAAAQAA\n",
       "AQAAAAABAAAFAAAAAAEAAAIAAAAAAQAAAAAAAAABAAABAAAAAAEAAAUAAAAAAQAAAgAAAAABAAAA\n",
       "AAAAAAEAAAEAAAAAAQAABQAAAAABAAACAAAAAAEAAAAAAAAAAQAAAQAAAAABAAAFAAAAAAEAAAIA\n",
       "AAAAAQAAAAAAAAABAAABAAAAAAEAAAUAAAAAAQAAAgAAAAABAAAAAAAAAAEAAAEAAAAAAQAABQAA\n",
       "AAABAAACAAAAAAEAAAAAAAAAAQAAAQAAAAABAAAFAAAAAAEAAAIAAAAAAQAAAAAAAAABAAABAAAA\n",
       "AAEAAAUAAAAAAQAAAgAAAAABAAAAAAAAAAEAAAEAAAAAAQAABQAAAAABAAACAAAAAAEAAAAAAAAA\n",
       "AQAAAQAAAAABAAAFAAAAAAEAAAIAAAAAAQAAAAAAAAABAAABAAAAAAEAAAUAAAAAAQAAAgAAAAAB\n",
       "AAAAAAAAAAEAAAEAAAAAAQAABQAAAAABAAACAAAAAAEAAAAAAAAAAQAAAQAAAAABAAACAAAAAAEA\n",
       "AAUAAAAAAQAAAgAAAAABAAAAAAAAAAEAAAEAAAAAAQAABQAAAAABAAACAAAAAAEAAAAAAAAAAQAA\n",
       "AQAAAAABAAAFAAAAAAEAAAIAAAAAAQAAAAAAAAABAAABAAAAAAEAAAUAAAAAAQAAAgAAAAABAAAA\n",
       "AAAAAAEAAAEAAAAAAQAABQAAAAABAAACAAAAAAEAAAAAAAAAAQAAAQAAAAABAAACAAAAAAEAAAUA\n",
       "AAAAAQAAAgAAAAABAAAAAAAAAAEAAAEAAAAAAQAABQAAAAABAAACAAAAAAEAAAAAAAAAAQAAAQAA\n",
       "AAABAAAFAAAAAAEAAAIAAAAAAQAAAAAAAAABAAABAAAAAAEAAAUAAAAAAQAAAgAAAAABAAAAAAAA\n",
       "AAEAAAEAAAAAAQAAAgAAAAABAAAFAAAAAAEAAAIAAAAAAQAAAAAAAAABAAABAAAAAAEAAAUAAAAA\n",
       "AQAAAgAAAAABAAAAAAAAAAEAAAEAAAAAAQAAAwAAAAABAAABAAAAABxzdHNjAAAAAAAAAAEAAAAB\n",
       "AAABkAAAAAEAAAZUc3RzegAAAAAAAAAAAAABkAAANNsAAALiAAAAYwAAAE4AAAAzAAAAyQAAAEAA\n",
       "AAA0AAAAHgAAAGUAAAC2AAAAMQAAACcAAAAcAAAAYQAAAC0AAAAkAAAAJAAAACUAAABuAAAAKgAA\n",
       "ABwAAAAcAAAAdAAAACIAAAAlAAAAJQAAAHIAAAAoAAAAJQAAACMAAABxAAAAKwAAACkAAAAjAAAA\n",
       "ZgAAACkAAAAkAAAAHAAAAFoAAAAsAAAAGwAAABsAAAA7AAAAKgAAAB4AAAAYAAAAXgAAAB8AAAAY\n",
       "AAAAGAAAAGEAAAAsAAAAGgAAABwAAAA6AAAAKAAAABsAAAAhAAAARQAAACsAAAAaAAAAIwAAAE8A\n",
       "AAAoAAAAHAAAACEAAABZAAAALQAAABoAAAAeAAAAaAAAACkAAAAaAAAAIwAAADgAAAAmAAAAGAAA\n",
       "ABgAAABCAAAAKQAAABgAAAAaAAAAUAAAACkAAAAeAAAAGgAAADMAAAA0AAAAJgAAABwAAAAbAAAA\n",
       "dgAAACsAAAAaAAAAHwAAAEUAAAAoAAAAGgAAABsAAAA1AAAAKQAAABgAAAAaAAAANwAAAB4AAAAa\n",
       "AAAAGwAAAEgAAAAiAAAAJwAAABsAAABEAAAAJgAAABoAAAAaAAAAOwAAACcAAAAYAAAAGAAAAEEA\n",
       "AAAoAAAAGgAAABoAAABaAAAAKgAAABgAAAAbAAAAaAAAADIAAAAcAAAAJwAAAFgAAAAjAAAAGgAA\n",
       "ACkAAAA1AAAAMQAAACUAAAAcAAAAHAAAAGkAAAAhAAAAGQAAACYAAABTAAAAKAAAACQAAAAdAAAA\n",
       "ggAAACgAAAAbAAAAHQAAAHYAAAApAAAAIwAAAB0AAABCAAAAIQAAACMAAAAbAAAANwAAACkAAAAa\n",
       "AAAAGAAAAFkAAAAhAAAAGgAAAB4AAAAyAAAAHgAAABgAAAAaAAAAJgAAAB4AAAAYAAAAGgAAAEAA\n",
       "AAAmAAAAJAAAABgAAAAjAAAAHgAAABgAAAAYAAAANAAAAB4AAAAaAAAAGAAAAC0AAAAeAAAAGAAA\n",
       "ABgAAAA6AAAAIgAAABwAAAAaAAAAPQAAACMAAAAbAAAAHAAAACoAAAAhAAAAGwAAABwAAAA5AAAA\n",
       "LAAAABwAAAAdAAAAUAAAACkAAAAcAAAAGwAAAD0AAAAgAAAAGAAAABsAAABzAAAALAAAACgAAAAc\n",
       "AAAAPgAAACcAAAAZAAAAFgAAADYAAAAiAAAAGAAAABgAAABNAAAAKwAAABkAAAAWAAAARAAAACAA\n",
       "AAAYAAAAJAAAAFIAAAAgAAAAGAAAABgAAAA4AAAAIQAAABgAAAAaAAAAPAAAACEAAAAYAAAAIwAA\n",
       "ACMAAEHKAAABwwAAADAAAAAqAAAAFgAAAEwAAAAiAAAAFQAAABEAAABfAAAAHwAAACIAAAAVAAAA\n",
       "UgAAABcAAAATAAAAGgAAAFcAAAAnAAAAGgAAABMAAAAcAAAAEwAAABAAAAAQAAAALQAAABMAAAAS\n",
       "AAAAEgAAABcAAAATAAAAEAAAABAAAAAwAAAAEwAAABAAAAAQAAAANgAAABMAAAAQAAAAEgAAACUA\n",
       "AAATAAAAEwAAABAAAAAhAAAAEwAAABAAAAAQAAAAQwAAABUAAAAQAAAAEwAAACkAAAAVAAAAEgAA\n",
       "ABAAAABLAAAAIQAAABQAAAAcAAAAQQAAAB8AAAAWAAAAHAAAAEQAAAAVAAAAEAAAABAAAABcAAAA\n",
       "FQAAABMAAAASAAAAIQAAABMAAAAQAAAAEAAAABcAAAATAAAAEAAAABAAAAAyAAAAEwAAABIAAAAS\n",
       "AAAAIwAAABMAAAAQAAAAEAAAABcAAAATAAAAEAAAABAAAAA4AAAAFQAAABAAAAAQAAAAVgAAAB4A\n",
       "AAAcAAAAFgAAADkAAAA4AAAAGAAAABYAAAAQAAAAZwAAACAAAAAbAAAAFAAAAEcAAAAfAAAAFQAA\n",
       "ABIAAAA9AAAAEwAAABAAAAAQAAAANQAAABwAAAARAAAAEQAAACwAAABbAAAAIAAAAB0AAAAVAAAA\n",
       "PgAAABgAAAAQAAAAFAAAAC8AAAAYAAAAEgAAABIAAAA/AAAAFgAAABIAAAAWAAAAKAAAAD8AAAAd\n",
       "AAAAHAAAABMAAAAtAAAAFwAAABIAAAAQAAAAIQAAABUAAAAUc3RjbwAAAAAAAAABAAAALAAAAGJ1\n",
       "ZHRhAAAAWm1ldGEAAAAAAAAAIWhkbHIAAAAAAAAAAG1kaXJhcHBsAAAAAAAAAAAAAAAALWlsc3QA\n",
       "AAAlqXRvbwAAAB1kYXRhAAAAAQAAAABMYXZmNTYuNDAuMTAx\n",
       "\">\n",
       "  Your browser does not support the video tag.\n",
       "</video>"
      ]
     },
     "metadata": {},
     "output_type": "display_data"
    }
   ],
   "source": [
    "try:\n",
    "    display_html(HTML(anim.to_html5_video()))\n",
    "# In case the build-in renderers are unaviable, fall back to\n",
    "# a custom one, that doesn't require external libraries\n",
    "except RuntimeError:\n",
    "    anim.save(None, writer=matplotlib_utils.SimpleMovieWriter(0.001))"
   ]
  },
  {
   "cell_type": "markdown",
   "metadata": {},
   "source": [
    "# Logistic regression\n",
    "Your assignment is to implement the logistic regression\n",
    "\n",
    "Plan:\n",
    "* Use a shared variable for weights\n",
    "* Use a matrix placeholder for `X`\n",
    " \n",
    "We shall train on a two-class MNIST dataset\n",
    "* please note that target `y` are `{0,1}` and not `{-1,1}` as in some formulae"
   ]
  },
  {
   "cell_type": "code",
   "execution_count": 30,
   "metadata": {},
   "outputs": [
    {
     "name": "stdout",
     "output_type": "stream",
     "text": [
      "y [shape - (360,)]: [0 1 0 1 0 1 0 0 1 1]\n",
      "X [shape - (360, 64)]:\n"
     ]
    }
   ],
   "source": [
    "from sklearn.datasets import load_digits\n",
    "mnist = load_digits(2)\n",
    "\n",
    "X, y = mnist.data, mnist.target\n",
    "\n",
    "print(\"y [shape - %s]:\" % (str(y.shape)), y[:10])\n",
    "print(\"X [shape - %s]:\" % (str(X.shape)))"
   ]
  },
  {
   "cell_type": "code",
   "execution_count": 31,
   "metadata": {},
   "outputs": [
    {
     "name": "stdout",
     "output_type": "stream",
     "text": [
      "X:\n",
      " [[  0.   0.   5.  13.   9.   1.   0.   0.   0.   0.]\n",
      " [  0.   0.   0.  12.  13.   5.   0.   0.   0.   0.]\n",
      " [  0.   0.   1.   9.  15.  11.   0.   0.   0.   0.]]\n",
      "y:\n",
      " [0 1 0 1 0 1 0 0 1 1]\n"
     ]
    },
    {
     "data": {
      "image/png": "[encoded data removed]",
      "text/plain": [
       "<matplotlib.figure.Figure at 0x7ff5b2a85dd8>"
      ]
     },
     "metadata": {},
     "output_type": "display_data"
    }
   ],
   "source": [
    "print('X:\\n',X[:3,:10])\n",
    "print('y:\\n',y[:10])\n",
    "plt.imshow(X[0].reshape([8,8]));"
   ]
  },
  {
   "cell_type": "markdown",
   "metadata": {},
   "source": [
    "It's your turn now!\n",
    "Just a small reminder of the relevant math:\n",
    "\n",
    "$$\n",
    "P(y=1|X) = \\sigma(X \\cdot W + b)\n",
    "$$\n",
    "$$\n",
    "\\text{loss} = -\\log\\left(P\\left(y_\\text{predicted} = 1\\right)\\right)\\cdot y_\\text{true} - \\log\\left(1 - P\\left(y_\\text{predicted} = 1\\right)\\right)\\cdot\\left(1 - y_\\text{true}\\right)\n",
    "$$\n",
    "\n",
    "$\\sigma(x)$ is available via `tf.nn.sigmoid` and matrix multiplication via `tf.matmul`"
   ]
  },
  {
   "cell_type": "code",
   "execution_count": 32,
   "metadata": {},
   "outputs": [],
   "source": [
    "from sklearn.model_selection import train_test_split\n",
    "X_train, X_test, y_train, y_test = train_test_split(\n",
    "    X, y, random_state=42)"
   ]
  },
  {
   "cell_type": "markdown",
   "metadata": {},
   "source": [
    "__Your code goes here.__ For the training and testing scaffolding to work, please stick to the names in comments."
   ]
  },
  {
   "cell_type": "code",
   "execution_count": 112,
   "metadata": {},
   "outputs": [],
   "source": [
    "# Model parameters - weights and bias\n",
    "# weights = tf.Variable(...) shape should be (X.shape[1], 1)\n",
    "# b = tf.Variable(...)\n",
    "weights = tf.Variable(initial_value=tf.zeros([X_train.shape[1], 1]), name='weights')\n",
    "b = tf.Variable(initial_value=tf.zeros(1, dtype='float32'), name='b')"
   ]
  },
  {
   "cell_type": "code",
   "execution_count": 113,
   "metadata": {},
   "outputs": [],
   "source": [
    "# Placeholders for the input data\n",
    "# input_X = tf.placeholder(...)\n",
    "# input_y = tf.placeholder(...)\n",
    "input_X = tf.placeholder(tf.float32, shape=(None, X_train.shape[1]))\n",
    "input_y = tf.placeholder(tf.float32, shape=(None,))"
   ]
  },
  {
   "cell_type": "code",
   "execution_count": 114,
   "metadata": {},
   "outputs": [],
   "source": [
    "# The model code\n",
    "\n",
    "# Compute a vector of predictions, resulting shape should be [input_X.shape[0],]\n",
    "# This is 1D, if you have extra dimensions, you can  get rid of them with tf.squeeze .\n",
    "# Don't forget the sigmoid.\n",
    "# predicted_y = <predicted probabilities for input_X>\n",
    "y_activation = tf.add(tf.matmul(input_X, weights), b)\n",
    "predicted_y = tf.squeeze(tf.nn.sigmoid(y_activation))\n",
    "\n",
    "# Loss. Should be a scalar number - average loss over all the objects\n",
    "# tf.reduce_mean is your friend here\n",
    "# loss = <logistic loss (scalar, mean over sample)>\n",
    "loss = tf.reduce_mean(-tf.log(predicted_y) * input_y - tf.log(1 - predicted_y) * (1 - input_y))\n",
    "\n",
    "# See above for an example. tf.train.*Optimizer\n",
    "# optimizer = <optimizer that minimizes loss>\n",
    "optimizer = tf.train.MomentumOptimizer(0.01, 0.5).minimize(loss)"
   ]
  },
  {
   "cell_type": "markdown",
   "metadata": {},
   "source": [
    "A test to help with the debugging"
   ]
  },
  {
   "cell_type": "code",
   "execution_count": 115,
   "metadata": {},
   "outputs": [],
   "source": [
    "validation_weights = 1e-3 * np.fromiter(map(lambda x:\n",
    "        s.run(weird_psychotic_function, {my_scalar:x, my_vector:[1, 0.1, 2]}),\n",
    "                                   0.15 * np.arange(1, X.shape[1] + 1)),\n",
    "                                   count=X.shape[1], dtype=np.float32)[:, np.newaxis]\n",
    "# Compute predictions for given weights and bias\n",
    "prediction_validation = s.run(\n",
    "    predicted_y, {\n",
    "    input_X: X,\n",
    "    weights: validation_weights,\n",
    "    b: [1e-1]})\n",
    "\n",
    "# Load the reference values for the predictions\n",
    "validation_true_values = np.loadtxt(\"validation_predictons.txt\")\n",
    "\n",
    "assert prediction_validation.shape == (X.shape[0],),\\\n",
    "       \"Predictions must be a 1D array with length equal to the number \" \\\n",
    "       \"of examples in input_X\"\n",
    "assert np.allclose(validation_true_values, prediction_validation)\n",
    "loss_validation = s.run(\n",
    "        loss, {\n",
    "            input_X: X[:100],\n",
    "            input_y: y[-100:],\n",
    "            weights: validation_weights+1.21e-3,\n",
    "            b: [-1e-1]})\n",
    "assert np.allclose(loss_validation, 0.728689)"
   ]
  },
  {
   "cell_type": "code",
   "execution_count": 116,
   "metadata": {},
   "outputs": [
    {
     "name": "stdout",
     "output_type": "stream",
     "text": [
      "loss at iter 0:0.1252\n",
      "train auc: 0.999945103206\n",
      "test auc: 1.0\n",
      "loss at iter 1:0.0450\n",
      "train auc: 1.0\n",
      "test auc: 1.0\n",
      "loss at iter 2:0.0269\n",
      "train auc: 1.0\n",
      "test auc: 1.0\n",
      "loss at iter 3:0.0200\n",
      "train auc: 1.0\n",
      "test auc: 1.0\n",
      "loss at iter 4:0.0169\n",
      "train auc: 1.0\n",
      "test auc: 1.0\n"
     ]
    }
   ],
   "source": [
    "from sklearn.metrics import roc_auc_score\n",
    "s.run(tf.global_variables_initializer())\n",
    "for i in range(5):\n",
    "    s.run(optimizer, {input_X: X_train, input_y: y_train})\n",
    "    loss_i = s.run(loss, {input_X: X_train, input_y: y_train})\n",
    "    print(\"loss at iter %i:%.4f\" % (i, loss_i))\n",
    "    print(\"train auc:\", roc_auc_score(y_train, s.run(predicted_y, {input_X:X_train})))\n",
    "    print(\"test auc:\", roc_auc_score(y_test, s.run(predicted_y, {input_X:X_test})))"
   ]
  },
  {
   "cell_type": "markdown",
   "metadata": {},
   "source": [
    "### Coursera submission"
   ]
  },
  {
   "cell_type": "code",
   "execution_count": 117,
   "metadata": {},
   "outputs": [],
   "source": [
    "grade_submitter = grading.Grader(\"BJCiiY8sEeeCnhKCj4fcOA\")"
   ]
  },
  {
   "cell_type": "code",
   "execution_count": 118,
   "metadata": {},
   "outputs": [],
   "source": [
    "test_weights = 1e-3 * np.fromiter(map(lambda x:\n",
    "    s.run(weird_psychotic_function, {my_scalar:x, my_vector:[1, 2, 3]}),\n",
    "                               0.1 * np.arange(1, X.shape[1] + 1)),\n",
    "                               count=X.shape[1], dtype=np.float32)[:, np.newaxis]"
   ]
  },
  {
   "cell_type": "markdown",
   "metadata": {},
   "source": [
    "First, test prediction and loss computation. This part doesn't require a fitted model."
   ]
  },
  {
   "cell_type": "code",
   "execution_count": 120,
   "metadata": {},
   "outputs": [],
   "source": [
    "prediction_test = s.run(\n",
    "    predicted_y, {\n",
    "    input_X: X,\n",
    "    weights: test_weights,\n",
    "    b: [1e-1]})"
   ]
  },
  {
   "cell_type": "code",
   "execution_count": 121,
   "metadata": {},
   "outputs": [],
   "source": [
    "assert prediction_test.shape == (X.shape[0],),\\\n",
    "       \"Predictions must be a 1D array with length equal to the number \" \\\n",
    "       \"of examples in X_test\""
   ]
  },
  {
   "cell_type": "code",
   "execution_count": 122,
   "metadata": {},
   "outputs": [],
   "source": [
    "grade_submitter.set_answer(\"0ENlN\", prediction_test)"
   ]
  },
  {
   "cell_type": "code",
   "execution_count": 124,
   "metadata": {},
   "outputs": [],
   "source": [
    "loss_test = s.run(\n",
    "    loss, {\n",
    "        input_X: X[:100],\n",
    "        input_y: y[-100:],\n",
    "        weights: test_weights+1.21e-3,\n",
    "        b: [-1e-1]})\n",
    "# Yes, the X/y indices mistmach is intentional"
   ]
  },
  {
   "cell_type": "code",
   "execution_count": 125,
   "metadata": {},
   "outputs": [],
   "source": [
    "grade_submitter.set_answer(\"mMVpM\", loss_test)"
   ]
  },
  {
   "cell_type": "code",
   "execution_count": 126,
   "metadata": {},
   "outputs": [],
   "source": [
    "grade_submitter.set_answer(\"D16Rc\", roc_auc_score(y_test, s.run(predicted_y, {input_X:X_test})))"
   ]
  },
  {
   "cell_type": "markdown",
   "metadata": {},
   "source": [
    "Please use the credentials obtained from the Coursera assignment page."
   ]
  },
  {
   "cell_type": "code",
   "execution_count": 128,
   "metadata": {},
   "outputs": [
    {
     "name": "stdout",
     "output_type": "stream",
     "text": [
      "Submitted to Coursera platform. See results on assignment page!\n"
     ]
    }
   ],
   "source": [
    "grade_submitter.submit('tim.vivian.griffiths@gmail.com', 'o4mpMUN6hzCCDQDe')"
   ]
  },
  {
   "cell_type": "code",
   "execution_count": null,
   "metadata": {},
   "outputs": [],
   "source": []
  }
 ],
 "metadata": {
  "kernelspec": {
   "display_name": "Python 3",
   "language": "python",
   "name": "python3"
  },
  "language_info": {
   "codemirror_mode": {
    "name": "ipython",
    "version": 3
   },
   "file_extension": ".py",
   "mimetype": "text/x-python",
   "name": "python",
   "nbconvert_exporter": "python",
   "pygments_lexer": "ipython3",
   "version": "3.5.2"
  }
 },
 "nbformat": 4,
 "nbformat_minor": 1
}
